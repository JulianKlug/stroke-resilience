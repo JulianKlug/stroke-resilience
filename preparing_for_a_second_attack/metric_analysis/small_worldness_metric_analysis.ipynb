{
 "cells": [
  {
   "cell_type": "code",
   "execution_count": null,
   "metadata": {},
   "outputs": [],
   "source": [
    "import pandas as pd\n",
    "import seaborn as sns\n",
    "import os"
   ]
  },
  {
   "cell_type": "code",
   "execution_count": null,
   "metadata": {
    "pycharm": {
     "name": "#%%\n"
    }
   },
   "outputs": [],
   "source": [
    "HC_path = '/Users/jk1/temp/stroke_resilience/output/stroke_resilience/HC/small_worldness_comparison.csv'\n",
    "ST01_path = '/Users/jk1/temp/stroke_resilience/output/stroke_resilience/ST01/small_worldness_comparison.csv'\n",
    "ST02_path = '/Users/jk1/temp/stroke_resilience/output/stroke_resilience/ST02/small_worldness_comparison.csv'\n",
    "ST03_path = '/Users/jk1/temp/stroke_resilience/output/stroke_resilience/ST03/small_worldness_comparison.csv'\n",
    "\n",
    "output_save_path = '/Users/jk1/temp/stroke_resilience/output/figures'"
   ]
  },
  {
   "cell_type": "code",
   "execution_count": null,
   "metadata": {
    "pycharm": {
     "name": "#%%\n"
    }
   },
   "outputs": [],
   "source": [
    "HC_metrics = pd.read_csv(HC_path)\n",
    "HC_metrics['timepoint_group'] = 'HC'\n",
    "\n",
    "ST01_metrics = pd.read_csv(ST01_path)\n",
    "ST01_metrics['timepoint_group'] = 'ST01'\n",
    "\n",
    "ST02_metrics = pd.read_csv(ST02_path)\n",
    "ST02_metrics['timepoint_group'] = 'ST02'\n",
    "\n",
    "ST03_metrics = pd.read_csv(ST03_path)\n",
    "ST03_metrics['timepoint_group'] = 'ST03'\n",
    "\n",
    "all_groups_metrics = pd.concat([HC_metrics, ST01_metrics, ST02_metrics, ST03_metrics], ignore_index=True)"
   ]
  },
  {
   "cell_type": "code",
   "execution_count": null,
   "metadata": {
    "pycharm": {
     "name": "#%%\n"
    }
   },
   "outputs": [],
   "source": [
    "# Drop threshold < 0.3\n",
    "all_groups_metrics = all_groups_metrics[all_groups_metrics.threshold != 'top0']\n",
    "all_groups_metrics = all_groups_metrics[all_groups_metrics.threshold != 'top10']\n",
    "all_groups_metrics = all_groups_metrics[all_groups_metrics.threshold != 'top20']\n"
   ]
  },
  {
   "cell_type": "code",
   "execution_count": null,
   "metadata": {
    "pycharm": {
     "name": "#%%\n"
    }
   },
   "outputs": [],
   "source": [
    "all_groups_metrics = all_groups_metrics.drop('subject', axis=1)"
   ]
  },
  {
   "cell_type": "code",
   "execution_count": null,
   "metadata": {
    "pycharm": {
     "name": "#%%\n"
    }
   },
   "outputs": [],
   "source": [
    "filter_col_random_graph_clustering = [col for col in all_groups_metrics if col.startswith('random_graph_clustering_coefficient_')]\n",
    "all_groups_metrics['mean_random_graph_clustering_coefficient'] = all_groups_metrics[filter_col_random_graph_clustering].mean(axis=1)\n",
    "\n",
    "filter_col_random_graph_path_length = [col for col in all_groups_metrics if col.startswith('random_graph_path_length_')]\n",
    "all_groups_metrics['mean_random_graph_path_length'] = all_groups_metrics[filter_col_random_graph_path_length].mean(axis=1)\n",
    "\n",
    "all_groups_metrics = all_groups_metrics.drop(filter_col_random_graph_clustering, axis=1)\n",
    "all_groups_metrics = all_groups_metrics.drop(filter_col_random_graph_path_length, axis=1)"
   ]
  },
  {
   "cell_type": "code",
   "execution_count": null,
   "metadata": {
    "pycharm": {
     "name": "#%%\n"
    }
   },
   "outputs": [],
   "source": [
    "all_groups_metrics['non_normalized_smw'] = all_groups_metrics['mean_clustering_coefficient'].div(all_groups_metrics['mean_path_length'])"
   ]
  },
  {
   "cell_type": "code",
   "execution_count": null,
   "metadata": {
    "pycharm": {
     "name": "#%%\n"
    }
   },
   "outputs": [],
   "source": [
    "mean_metrics = all_groups_metrics.groupby(\n",
    "    ['timepoint_group', 'threshold', 'graph_method', 'clustering_coefficient_type']\n",
    ").mean()\n",
    "mean_metrics"
   ]
  },
  {
   "cell_type": "code",
   "execution_count": null,
   "metadata": {
    "pycharm": {
     "name": "#%%\n"
    }
   },
   "outputs": [],
   "source": [
    "# transform back into normal df\n",
    "mean_metrics = mean_metrics.reset_index()"
   ]
  },
  {
   "cell_type": "code",
   "execution_count": null,
   "metadata": {
    "pycharm": {
     "name": "#%%\n"
    }
   },
   "outputs": [],
   "source": [
    "# sort thresholds\n",
    "mean_metrics['sort'] = mean_metrics['threshold'].str.extract('(\\d+)', expand=False).astype(int)\n",
    "mean_metrics = mean_metrics.sort_values('sort', ascending=True)\n",
    "# sort groups\n",
    "mean_metrics = mean_metrics.sort_values(['timepoint_group', 'sort'], ascending=True)\n",
    "mean_metrics = mean_metrics.drop('sort', axis=1)"
   ]
  },
  {
   "cell_type": "code",
   "execution_count": null,
   "metadata": {
    "pycharm": {
     "name": "#%%\n"
    }
   },
   "outputs": [],
   "source": [
    "mean_metrics.to_csv(os.path.join(output_save_path, 'mean_small_worldness_metrics.csv'))"
   ]
  },
  {
   "cell_type": "code",
   "execution_count": null,
   "metadata": {
    "pycharm": {
     "name": "#%%\n"
    }
   },
   "outputs": [],
   "source": [
    "def create_and_save_plot(dependant_variable:str):\n",
    "    g = sns.relplot(data=mean_metrics, x='timepoint_group', y=dependant_variable, hue='threshold', style='threshold',\n",
    "                col=\"graph_method\", row=\"clustering_coefficient_type\",\n",
    "                alpha=.7, kind=\"line\", palette='flare')\n",
    "\n",
    "    for i, axes_row in enumerate(g.axes):\n",
    "        for j, axes_col in enumerate(axes_row):\n",
    "            row, col = axes_col.get_title().split('|')\n",
    "            # axes_col.set_title(f'{col.strip()}\\n{row.strip()}')\n",
    "            if i == 0:\n",
    "                axes_col.set_title(col.strip())\n",
    "            else:\n",
    "                axes_col.set_title('')\n",
    "\n",
    "            if j == 0:\n",
    "                ylabel = axes_col.get_ylabel()\n",
    "                axes_col.set_ylabel(row.strip() + '\\n' + ylabel)\n",
    "    g.fig.suptitle(dependant_variable, y=1.03)\n",
    "    g.savefig(os.path.join(output_save_path, dependant_variable + \".png\"))"
   ]
  },
  {
   "cell_type": "code",
   "execution_count": null,
   "metadata": {
    "pycharm": {
     "name": "#%%\n"
    }
   },
   "outputs": [],
   "source": [
    "create_and_save_plot('mean_path_length')\n",
    "create_and_save_plot('mean_clustering_coefficient')\n",
    "create_and_save_plot('non_normalized_smw')\n",
    "create_and_save_plot('normalized_mean_path_length')\n",
    "create_and_save_plot('normalized_mean_clustering_coefficient')\n",
    "create_and_save_plot('small_worldness_coefficient')\n",
    "create_and_save_plot('mean_random_graph_clustering_coefficient')\n",
    "create_and_save_plot('mean_random_graph_path_length')"
   ]
  },
  {
   "cell_type": "code",
   "execution_count": null,
   "metadata": {
    "pycharm": {
     "name": "#%%\n"
    }
   },
   "outputs": [],
   "source": []
  }
 ],
 "metadata": {
  "kernelspec": {
   "display_name": "Python 3",
   "language": "python",
   "name": "python3"
  },
  "language_info": {
   "codemirror_mode": {
    "name": "ipython",
    "version": 3
   },
   "file_extension": ".py",
   "mimetype": "text/x-python",
   "name": "python",
   "nbconvert_exporter": "python",
   "pygments_lexer": "ipython3",
   "version": "3.8.5"
  }
 },
 "nbformat": 4,
 "nbformat_minor": 1
}
