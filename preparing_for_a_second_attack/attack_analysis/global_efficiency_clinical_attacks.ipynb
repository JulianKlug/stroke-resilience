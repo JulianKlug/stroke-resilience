{
 "cells": [
  {
   "cell_type": "code",
   "execution_count": null,
   "metadata": {},
   "outputs": [],
   "source": [
    "import scipy.io\n",
    "import numpy as np\n",
    "from sklearn.metrics import auc\n",
    "import pandas as pd\n",
    "import matplotlib.pyplot as plt\n",
    "import seaborn as sns\n",
    "from statistics import variance, mean"
   ]
  },
  {
   "cell_type": "code",
   "execution_count": null,
   "metadata": {
    "pycharm": {
     "name": "#%%\n"
    }
   },
   "outputs": [],
   "source": [
    "hc_data_path = '/Users/jk1/unige_onedrive/OneDrive - unige.ch/BCT/attacks240/attack_HC/clin_attack_HC_06-11-2020 16-34v4.mat'\n",
    "st0_data_path = '/Users/jk1/unige_onedrive/OneDrive - unige.ch/BCT/attacks240/attack_ST01/clin_attack_ST01_06-10-2020 16-06v4.mat'\n",
    "st1_data_path = '/Users/jk1/unige_onedrive/OneDrive - unige.ch/BCT/attacks240/attack_ST02/clin_attack_ST02_06-11-2020 16-18v4.mat'\n",
    "st2_data_path = '/Users/jk1/unige_onedrive/OneDrive - unige.ch/BCT/attacks240/attack_ST03/clin_attack_ST03_06-11-2020 16-26v4.mat'"
   ]
  },
  {
   "cell_type": "code",
   "execution_count": null,
   "metadata": {
    "pycharm": {
     "name": "#%%\n"
    }
   },
   "outputs": [],
   "source": [
    "# global eff after attack\n",
    "outcome_var = 'GlobEff_bin_new'\n",
    "pre_attack_outcome_var = 'GlobEff_bin'\n",
    "minimum_connectivity_threshold = 0.3"
   ]
  },
  {
   "cell_type": "markdown",
   "metadata": {
    "pycharm": {
     "name": "#%% md\n"
    }
   },
   "source": [
    "For this variable, data is available for the 8 remaining threshold bins [0.3-1.0]"
   ]
  },
  {
   "cell_type": "code",
   "execution_count": null,
   "metadata": {
    "pycharm": {
     "name": "#%%\n"
    }
   },
   "outputs": [],
   "source": [
    "hc_data_mat = scipy.io.loadmat(hc_data_path)\n",
    "st0_data_mat = scipy.io.loadmat(st0_data_path)\n",
    "st1_data_mat = scipy.io.loadmat(st1_data_path)\n",
    "st2_data_mat = scipy.io.loadmat(st2_data_path)"
   ]
  },
  {
   "cell_type": "code",
   "execution_count": null,
   "metadata": {
    "pycharm": {
     "name": "#%%\n"
    }
   },
   "outputs": [],
   "source": [
    "n_hc = len(hc_data_mat[outcome_var]['C'][0][0])\n",
    "n_st = len(st0_data_mat[outcome_var]['C'][0][0]) + 1 # accounting for missing patient\n",
    "\n",
    "all_subj_idx = np.arange(n_hc + n_st)\n",
    "hc_idx = all_subj_idx[:n_hc]\n",
    "st_idx = all_subj_idx[n_hc:]"
   ]
  },
  {
   "cell_type": "code",
   "execution_count": null,
   "metadata": {
    "pycharm": {
     "name": "#%%\n"
    }
   },
   "outputs": [],
   "source": [
    "# use auc only over predefined area of thresholds\n",
    "# for glob eff after attack threshold range is already preselected\n",
    "def custom_auc(values_over_thresholds):\n",
    "    connectivity_thresholds = np.arange(minimum_connectivity_threshold, 1.1, 0.1)\n",
    "    return auc(connectivity_thresholds, values_over_thresholds)\n"
   ]
  },
  {
   "cell_type": "code",
   "execution_count": null,
   "metadata": {
    "pycharm": {
     "name": "#%%\n"
    }
   },
   "outputs": [],
   "source": [
    "def extract_glob_eff_auc_after_attack(data_mat, n_subj, group, subj_idx, timepoint):\n",
    "    # !!!!!!! glob_eff_pre_attack is computed differently than in longitudinal analysis\n",
    "    glob_eff_pre_attack = np.vstack(data_mat[pre_attack_outcome_var][0][0]).T\n",
    "\n",
    "    glob_eff_cortical_attack= \\\n",
    "        np.squeeze(\n",
    "                        [np.vstack(data_mat[outcome_var]['C'][0][0][i])\n",
    "                         for i in range(len(data_mat[outcome_var]['C'][0][0]))]\n",
    "                    )\n",
    "\n",
    "    glob_eff_cortico_subcortical_attack= \\\n",
    "        np.squeeze(\n",
    "                        [np.vstack(data_mat[outcome_var]['CSUB'][0][0][i])\n",
    "                         for i in range(len(data_mat[outcome_var]['C'][0][0]))]\n",
    "                    )\n",
    "\n",
    "    glob_eff_subcortical_attack= \\\n",
    "        np.squeeze(\n",
    "                        [np.vstack(data_mat[outcome_var]['SUB'][0][0][i])\n",
    "                         for i in range(len(data_mat[outcome_var]['C'][0][0]))]\n",
    "                    )\n",
    "    # correct for missing values - (pt1 TP1, pt5 Tp2, Pt13 (=pt17) TP3)\n",
    "    if group == 'st':\n",
    "        n_bins = glob_eff_cortical_attack.shape[1]\n",
    "        if timepoint == 0:\n",
    "            glob_eff_pre_attack = np.insert(glob_eff_pre_attack, 0, np.full((n_bins), np.NaN), axis=0)\n",
    "            glob_eff_cortical_attack = np.insert(glob_eff_cortical_attack, 0, np.full((n_bins), np.NaN), axis=0)\n",
    "            glob_eff_cortico_subcortical_attack = np.insert(glob_eff_cortico_subcortical_attack, 0, np.full((n_bins), np.NaN), axis=0)\n",
    "            glob_eff_subcortical_attack = np.insert(glob_eff_subcortical_attack, 0, np.full((n_bins), np.NaN), axis=0)\n",
    "        if timepoint == 1:\n",
    "            glob_eff_pre_attack = np.insert(glob_eff_pre_attack, 4, np.full((n_bins), np.NaN), axis=0)\n",
    "            glob_eff_cortical_attack = np.insert(glob_eff_cortical_attack, 4, np.full((n_bins), np.NaN), axis=0)\n",
    "            glob_eff_cortico_subcortical_attack = np.insert(glob_eff_cortico_subcortical_attack, 4, np.full((n_bins), np.NaN), axis=0)\n",
    "            glob_eff_subcortical_attack = np.insert(glob_eff_subcortical_attack, 4, np.full((n_bins), np.NaN), axis=0)\n",
    "        if timepoint == 2:\n",
    "            glob_eff_pre_attack = np.insert(glob_eff_pre_attack, 12, np.full((n_bins), np.NaN), axis=0)\n",
    "            glob_eff_cortical_attack = np.insert(glob_eff_cortical_attack, 12, np.full((n_bins), np.NaN), axis=0)\n",
    "            glob_eff_cortico_subcortical_attack = np.insert(glob_eff_cortico_subcortical_attack, 12, np.full((n_bins), np.NaN), axis=0)\n",
    "            glob_eff_subcortical_attack = np.insert(glob_eff_subcortical_attack, 12, np.full((n_bins), np.NaN), axis=0)\n",
    "\n",
    "    gEff_auc_pre_attack = np.apply_along_axis(custom_auc, arr=glob_eff_pre_attack, axis=-1)\n",
    "    gEff_auc_cortical_attack = np.apply_along_axis(custom_auc, arr=glob_eff_cortical_attack, axis=-1)\n",
    "    gEff_auc_cortico_subcortical_attack = np.apply_along_axis(custom_auc, arr=glob_eff_cortico_subcortical_attack, axis=-1)\n",
    "    gEff_auc_subcortical_attack = np.apply_along_axis(custom_auc, arr=glob_eff_subcortical_attack, axis=-1)\n",
    "\n",
    "    gEff_auc_cortical_attack_df = pd.DataFrame(gEff_auc_cortical_attack, columns=['glob_eff_auc'])\n",
    "    gEff_auc_cortical_attack_df['pre_attack_glob_eff_auc'] = gEff_auc_pre_attack\n",
    "    gEff_auc_cortical_attack_df['subject'] = subj_idx\n",
    "    gEff_auc_cortical_attack_df['attack_location'] = 'cortical'\n",
    "\n",
    "    gEff_auc_cortico_subcortical_attack_df = pd.DataFrame(gEff_auc_cortico_subcortical_attack, columns=['glob_eff_auc'])\n",
    "    gEff_auc_cortico_subcortical_attack_df['pre_attack_glob_eff_auc'] = gEff_auc_pre_attack\n",
    "    gEff_auc_cortico_subcortical_attack_df['subject'] = subj_idx\n",
    "    gEff_auc_cortico_subcortical_attack_df['attack_location'] = 'cortico_subcortical'\n",
    "\n",
    "    gEff_auc_subcortical_attack_df = pd.DataFrame(gEff_auc_subcortical_attack, columns=['glob_eff_auc'])\n",
    "    gEff_auc_subcortical_attack_df['pre_attack_glob_eff_auc'] = gEff_auc_pre_attack\n",
    "    gEff_auc_subcortical_attack_df['subject'] = subj_idx\n",
    "    gEff_auc_subcortical_attack_df['attack_location'] = 'subcortical'\n",
    "\n",
    "    gEff_auc_df = pd.concat([gEff_auc_cortical_attack_df,gEff_auc_cortico_subcortical_attack_df, gEff_auc_subcortical_attack_df],\n",
    "                                ignore_index=True)\n",
    "\n",
    "    gEff_auc_df['attack_type'] = 'clinical'\n",
    "    gEff_auc_df['group'] = group\n",
    "    gEff_auc_df['timepoint'] = timepoint\n",
    "\n",
    "    return gEff_auc_df"
   ]
  },
  {
   "cell_type": "code",
   "execution_count": null,
   "metadata": {
    "pycharm": {
     "name": "#%%\n"
    }
   },
   "outputs": [],
   "source": [
    "# without reducing to AUC\n",
    "def extract_glob_eff_after_attack(data_mat, n_subj, group, subj_idx, timepoint):\n",
    "    glob_eff_cortical_attack= \\\n",
    "        np.squeeze(\n",
    "                        [np.vstack(data_mat[outcome_var]['C'][0][0][i])\n",
    "                         for i in range(len(data_mat[outcome_var]['C'][0][0]))]\n",
    "                    )\n",
    "\n",
    "    glob_eff_cortico_subcortical_attack= \\\n",
    "        np.squeeze(\n",
    "                        [np.vstack(data_mat[outcome_var]['CSUB'][0][0][i])\n",
    "                         for i in range(len(data_mat[outcome_var]['C'][0][0]))]\n",
    "                    )\n",
    "\n",
    "    glob_eff_subcortical_attack= \\\n",
    "        np.squeeze(\n",
    "                        [np.vstack(data_mat[outcome_var]['SUB'][0][0][i])\n",
    "                         for i in range(len(data_mat[outcome_var]['C'][0][0]))]\n",
    "                    )\n",
    "\n",
    "        # correct for missing values - (pt1 TP1, pt5 Tp2, Pt13 (=pt17) TP3)\n",
    "    if group == 'st':\n",
    "        n_bins = glob_eff_cortical_attack.shape[1]\n",
    "        if timepoint == 0:\n",
    "            glob_eff_cortical_attack = np.insert(glob_eff_cortical_attack, 0, np.full((n_bins), np.NaN), axis=0)\n",
    "            glob_eff_cortico_subcortical_attack = np.insert(glob_eff_cortico_subcortical_attack, 0, np.full((n_bins), np.NaN), axis=0)\n",
    "            glob_eff_subcortical_attack = np.insert(glob_eff_subcortical_attack, 0, np.full((n_bins), np.NaN), axis=0)\n",
    "        if timepoint == 1:\n",
    "            glob_eff_cortical_attack = np.insert(glob_eff_cortical_attack, 4, np.full((n_bins), np.NaN), axis=0)\n",
    "            glob_eff_cortico_subcortical_attack = np.insert(glob_eff_cortico_subcortical_attack, 4, np.full((n_bins), np.NaN), axis=0)\n",
    "            glob_eff_subcortical_attack = np.insert(glob_eff_subcortical_attack, 4, np.full((n_bins), np.NaN), axis=0)\n",
    "        if timepoint == 2:\n",
    "            glob_eff_cortical_attack = np.insert(glob_eff_cortical_attack, 12, np.full((n_bins), np.NaN), axis=0)\n",
    "            glob_eff_cortico_subcortical_attack = np.insert(glob_eff_cortico_subcortical_attack, 12, np.full((n_bins), np.NaN), axis=0)\n",
    "            glob_eff_subcortical_attack = np.insert(glob_eff_subcortical_attack, 12, np.full((n_bins), np.NaN), axis=0)\n",
    "\n",
    "    gEff_cortical_attack_df = pd.DataFrame(glob_eff_cortical_attack)\n",
    "    gEff_cortical_attack_df['subject'] = subj_idx\n",
    "    gEff_cortical_attack_df = gEff_cortical_attack_df.melt(id_vars=['subject'], var_name='density_bin', value_name='glob_eff')\n",
    "    gEff_cortical_attack_df['attack_location'] = 'cortical'\n",
    "\n",
    "    gEff_cortico_subcortical_attack_df = pd.DataFrame(glob_eff_cortico_subcortical_attack)\n",
    "    gEff_cortico_subcortical_attack_df['subject'] = subj_idx\n",
    "    gEff_cortico_subcortical_attack_df = gEff_cortico_subcortical_attack_df.melt(id_vars=['subject'], var_name='density_bin', value_name='glob_eff')\n",
    "    gEff_cortico_subcortical_attack_df['attack_location'] = 'cortico_subcortical'\n",
    "\n",
    "    gEff_subcortical_attack_df = pd.DataFrame(glob_eff_subcortical_attack)\n",
    "    gEff_subcortical_attack_df['subject'] = subj_idx\n",
    "    gEff_subcortical_attack_df = gEff_subcortical_attack_df.melt(id_vars=['subject'], var_name='density_bin', value_name='glob_eff')\n",
    "    gEff_subcortical_attack_df['attack_location'] = 'subcortical'\n",
    "\n",
    "    glob_eff_df = pd.concat([gEff_cortical_attack_df,gEff_cortico_subcortical_attack_df, gEff_subcortical_attack_df],\n",
    "                                ignore_index=True)\n",
    "\n",
    "    glob_eff_df['density_bin'] += 3 # correct for bins starting at 0.3\n",
    "    glob_eff_df['attack_type'] = 'clinical'\n",
    "    glob_eff_df['group'] = group\n",
    "    glob_eff_df['timepoint'] = timepoint\n",
    "\n",
    "    return glob_eff_df"
   ]
  },
  {
   "cell_type": "code",
   "execution_count": null,
   "metadata": {
    "pycharm": {
     "name": "#%%\n"
    }
   },
   "outputs": [],
   "source": [
    "hc_glob_eff_auc_df = extract_glob_eff_auc_after_attack(hc_data_mat, n_hc, 'hc', hc_idx, 0)\n",
    "st0_glob_eff_auc_df = extract_glob_eff_auc_after_attack(st0_data_mat, n_st, 'st', st_idx, 0)\n",
    "st1_glob_eff_auc_df = extract_glob_eff_auc_after_attack(st1_data_mat, n_st, 'st', st_idx, 1)\n",
    "st2_glob_eff_auc_df = extract_glob_eff_auc_after_attack(st2_data_mat, n_st, 'st', st_idx, 2)"
   ]
  },
  {
   "cell_type": "code",
   "execution_count": null,
   "metadata": {
    "pycharm": {
     "name": "#%%\n"
    }
   },
   "outputs": [],
   "source": [
    "# without reducing to AUC\n",
    "hc_glob_eff_df = extract_glob_eff_after_attack(hc_data_mat, n_hc, 'hc', hc_idx, 0)\n",
    "st0_glob_eff_df = extract_glob_eff_after_attack(st0_data_mat, n_st, 'st', st_idx, 0)\n",
    "st1_glob_eff_df = extract_glob_eff_after_attack(st1_data_mat, n_st, 'st', st_idx, 1)\n",
    "st2_glob_eff_df = extract_glob_eff_after_attack(st2_data_mat, n_st, 'st', st_idx, 2)\n"
   ]
  },
  {
   "cell_type": "code",
   "execution_count": null,
   "metadata": {
    "pycharm": {
     "name": "#%%\n"
    }
   },
   "outputs": [],
   "source": [
    "all_glob_eff_auc_df = pd.concat([hc_glob_eff_auc_df, st0_glob_eff_auc_df, st1_glob_eff_auc_df, st2_glob_eff_auc_df],\n",
    "                            ignore_index=True)\n",
    "\n",
    "# convert auc to numeric\n",
    "all_glob_eff_auc_df['glob_eff_auc'] = all_glob_eff_auc_df['glob_eff_auc'].astype('float')\n",
    "all_glob_eff_auc_df['pre_attack_glob_eff_auc'] = all_glob_eff_auc_df['pre_attack_glob_eff_auc'].astype('float')"
   ]
  },
  {
   "cell_type": "code",
   "execution_count": null,
   "metadata": {
    "pycharm": {
     "name": "#%%\n"
    }
   },
   "outputs": [],
   "source": [
    "all_glob_eff_df = pd.concat([hc_glob_eff_df, st0_glob_eff_df, st1_glob_eff_df, st2_glob_eff_df],\n",
    "                            ignore_index=True)\n",
    "# convert auc to numeric\n",
    "all_glob_eff_df['glob_eff'] = all_glob_eff_df['glob_eff'].astype('float')"
   ]
  },
  {
   "cell_type": "code",
   "execution_count": null,
   "metadata": {
    "pycharm": {
     "name": "#%%\n"
    }
   },
   "outputs": [],
   "source": [
    "ax = sns.catplot(x=\"timepoint\", y=\"glob_eff_auc\", hue=\"group\", col='attack_location',\n",
    "            kind='box', dodge=True,\n",
    "            data=all_glob_eff_auc_df, palette=\"Set3\"\n",
    "                )\n",
    "ax.fig.suptitle('Global efficiency AUC after attack')\n",
    "ax.fig.subplots_adjust(top=0.85)\n",
    "plt.show()"
   ]
  },
  {
   "cell_type": "code",
   "execution_count": null,
   "metadata": {
    "pycharm": {
     "name": "#%%\n"
    }
   },
   "outputs": [],
   "source": [
    "ax = sns.catplot(x=\"timepoint\", y=\"pre_attack_glob_eff_auc\", hue=\"group\", col='attack_location',\n",
    "            kind='box', dodge=True,\n",
    "            data=all_glob_eff_auc_df, palette=\"Set3\"\n",
    "                )\n",
    "ax.fig.suptitle('Global efficiency AUC before attack')\n",
    "ax.fig.subplots_adjust(top=0.85)\n",
    "plt.show()\n"
   ]
  },
  {
   "cell_type": "code",
   "execution_count": null,
   "metadata": {
    "pycharm": {
     "name": "#%%\n"
    }
   },
   "outputs": [],
   "source": [
    "ax = sns.catplot(x=\"timepoint\", y=\"glob_eff\", hue=\"group\", col='attack_location',\n",
    "            kind='box', dodge=True,\n",
    "            data=all_glob_eff_df, palette=\"Set3\"\n",
    "                )\n",
    "ax.fig.suptitle('Global efficiency after attack')\n",
    "ax.fig.subplots_adjust(top=0.85)\n",
    "plt.show()"
   ]
  },
  {
   "cell_type": "code",
   "execution_count": null,
   "metadata": {
    "pycharm": {
     "name": "#%%\n"
    }
   },
   "outputs": [],
   "source": [
    "all_glob_eff_auc_df.to_csv('glob_eff_auc_after_attack_df.csv', index=False)"
   ]
  },
  {
   "cell_type": "code",
   "execution_count": null,
   "metadata": {
    "pycharm": {
     "name": "#%%\n"
    }
   },
   "outputs": [],
   "source": [
    "all_glob_eff_df.to_csv('glob_eff_after_attack_df.csv', index=False)"
   ]
  },
  {
   "cell_type": "code",
   "execution_count": null,
   "metadata": {
    "pycharm": {
     "name": "#%%\n"
    }
   },
   "outputs": [],
   "source": []
  }
 ],
 "metadata": {
  "kernelspec": {
   "display_name": "Python 3",
   "language": "python",
   "name": "python3"
  },
  "language_info": {
   "codemirror_mode": {
    "name": "ipython",
    "version": 3
   },
   "file_extension": ".py",
   "mimetype": "text/x-python",
   "name": "python",
   "nbconvert_exporter": "python",
   "pygments_lexer": "ipython3",
   "version": "3.8.5"
  }
 },
 "nbformat": 4,
 "nbformat_minor": 1
}
