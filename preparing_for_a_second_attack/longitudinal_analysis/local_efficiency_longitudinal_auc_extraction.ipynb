{
 "cells": [
  {
   "cell_type": "code",
   "execution_count": null,
   "metadata": {},
   "outputs": [],
   "source": [
    "import scipy.io\n",
    "import numpy as np\n",
    "from sklearn.metrics import auc\n",
    "import pingouin as pg\n",
    "import pandas as pd\n",
    "from scipy.stats import f_oneway\n",
    "import matplotlib.pyplot as plt\n",
    "import seaborn as sns\n",
    "from scipy.stats import ttest_ind\n",
    "from statistics import variance, mean\n"
   ]
  },
  {
   "cell_type": "code",
   "execution_count": null,
   "metadata": {
    "pycharm": {
     "name": "#%%\n"
    }
   },
   "outputs": [],
   "source": [
    "\n",
    "hc_data_path = '/Users/jk1/unige_onedrive/OneDrive - unige.ch/BCT/atlas_BNA/BNA_240_flipped_N32_retroicor_SBB4_prop_bin_window/HC/CharPath240_binwin_HC.mat'\n",
    "st_data_path = '/Users/jk1/unige_onedrive/OneDrive - unige.ch/BCT/atlas_BNA/BNA_240_flipped_N32_retroicor_SBB4_prop_bin_window/ST/CharPath240_binwin.mat'"
   ]
  },
  {
   "cell_type": "code",
   "execution_count": null,
   "metadata": {
    "pycharm": {
     "name": "#%%\n"
    }
   },
   "outputs": [],
   "source": [
    "outcome_var = 'LocEfficiency'\n",
    "minimum_connectivity_threshold = 0.3"
   ]
  },
  {
   "cell_type": "code",
   "execution_count": null,
   "metadata": {
    "pycharm": {
     "name": "#%%\n"
    }
   },
   "outputs": [],
   "source": [
    "hc_data_mat = scipy.io.loadmat(hc_data_path)\n",
    "st_data_mat = scipy.io.loadmat(st_data_path)"
   ]
  },
  {
   "cell_type": "code",
   "execution_count": null,
   "metadata": {
    "pycharm": {
     "name": "#%%\n"
    }
   },
   "outputs": [],
   "source": [
    "n_thresholds = len(hc_data_mat[outcome_var][0][0])"
   ]
  },
  {
   "cell_type": "code",
   "execution_count": null,
   "metadata": {
    "pycharm": {
     "name": "#%%\n"
    }
   },
   "outputs": [],
   "source": [
    "# converting matlab mat to arrays\n",
    "# transposing to have shape (n_subj, n_thresholds)\n",
    "hc_loc_eff = np.swapaxes(np.array(\n",
    "                    [np.vstack(hc_data_mat[outcome_var][0][0][i]).T\n",
    "                     for i in range(n_thresholds)]\n",
    "                ), 0, -1)\n",
    "st0_loc_eff = np.swapaxes(np.array(\n",
    "                    [np.vstack(st_data_mat[outcome_var][0][0][0][0][0][i]).T\n",
    "                     for i in range(n_thresholds)]\n",
    "                ), 0, -1)\n",
    "st1_loc_eff = np.swapaxes(np.array(\n",
    "                    [np.vstack(st_data_mat[outcome_var][0][0][1][0][0][i]).T\n",
    "                     for i in range(n_thresholds)]\n",
    "                ), 0, -1)\n",
    "st2_loc_eff = np.swapaxes(np.array(\n",
    "                    [np.vstack(st_data_mat[outcome_var][0][0][2][0][0][i]).T\n",
    "                     for i in range(n_thresholds)]\n",
    "                ), 0, -1)"
   ]
  },
  {
   "cell_type": "code",
   "execution_count": null,
   "metadata": {
    "pycharm": {
     "name": "#%%\n"
    }
   },
   "outputs": [],
   "source": [
    "n_hc = hc_loc_eff.shape[0]\n",
    "n_st = st0_loc_eff.shape[0]"
   ]
  },
  {
   "cell_type": "code",
   "execution_count": null,
   "metadata": {
    "pycharm": {
     "name": "#%%\n"
    }
   },
   "outputs": [],
   "source": [
    "# only analyse thresholds above minimum_connectivity_threshold\n",
    "minimum_connectivity_threshold_index = int(minimum_connectivity_threshold*10 - 1)\n",
    "connectivity_thresholds = np.arange(minimum_connectivity_threshold, 1.1, 0.1)"
   ]
  },
  {
   "cell_type": "code",
   "execution_count": null,
   "metadata": {
    "pycharm": {
     "name": "#%%\n"
    }
   },
   "outputs": [],
   "source": [
    "# use auc only over predefined area of thresholds\n",
    "def custom_auc(values_over_thresholds):\n",
    "    return auc(connectivity_thresholds,\n",
    "                values_over_thresholds[minimum_connectivity_threshold_index:])"
   ]
  },
  {
   "cell_type": "code",
   "execution_count": null,
   "metadata": {
    "pycharm": {
     "name": "#%%\n"
    }
   },
   "outputs": [],
   "source": [
    "hc_loc_eff_auc = np.apply_along_axis(custom_auc, arr=hc_loc_eff, axis=-1)\n",
    "st0_loc_eff_auc = np.apply_along_axis(custom_auc, arr=st0_loc_eff, axis=-1)\n",
    "st1_loc_eff_auc = np.apply_along_axis(custom_auc, arr=st1_loc_eff, axis=-1)\n",
    "st2_loc_eff_auc = np.apply_along_axis(custom_auc, arr=st2_loc_eff, axis=-1)"
   ]
  },
  {
   "cell_type": "code",
   "execution_count": null,
   "metadata": {
    "pycharm": {
     "name": "#%%\n"
    }
   },
   "outputs": [],
   "source": [
    "all_subj_idx = np.arange(n_hc + n_st)\n",
    "hc_idx = all_subj_idx[:n_hc]\n",
    "st_idx = all_subj_idx[n_hc:]"
   ]
  },
  {
   "cell_type": "code",
   "execution_count": null,
   "metadata": {
    "pycharm": {
     "name": "#%%\n"
    }
   },
   "outputs": [],
   "source": [
    "hc_loc_eff_auc_df = pd.DataFrame(data=hc_loc_eff_auc)\n",
    "hc_loc_eff_auc_df['subject'] = hc_idx\n",
    "hc_loc_eff_auc_df = hc_loc_eff_auc_df.melt(id_vars=['subject'], var_name='roi', value_name='loc_eff_auc')\n",
    "hc_loc_eff_auc_df['timepoint'] = 0\n",
    "hc_loc_eff_auc_df['group'] = 'hc'"
   ]
  },
  {
   "cell_type": "code",
   "execution_count": null,
   "metadata": {
    "pycharm": {
     "name": "#%%\n"
    }
   },
   "outputs": [],
   "source": [
    "st0_loc_eff_auc_df = pd.DataFrame(data=st0_loc_eff_auc)\n",
    "st0_loc_eff_auc_df['subject'] = st_idx\n",
    "st0_loc_eff_auc_df = st0_loc_eff_auc_df.melt(id_vars=['subject'], var_name='roi', value_name='loc_eff_auc')\n",
    "st0_loc_eff_auc_df['timepoint'] = 0\n",
    "st0_loc_eff_auc_df['group'] = 'st'"
   ]
  },
  {
   "cell_type": "code",
   "execution_count": null,
   "metadata": {
    "pycharm": {
     "name": "#%%\n"
    }
   },
   "outputs": [],
   "source": [
    "st1_loc_eff_auc_df = pd.DataFrame(data=st1_loc_eff_auc)\n",
    "st1_loc_eff_auc_df['subject'] = st_idx\n",
    "st1_loc_eff_auc_df = st1_loc_eff_auc_df.melt(id_vars=['subject'], var_name='roi', value_name='loc_eff_auc')\n",
    "st1_loc_eff_auc_df['timepoint'] = 1\n",
    "st1_loc_eff_auc_df['group'] = 'st'"
   ]
  },
  {
   "cell_type": "code",
   "execution_count": null,
   "metadata": {
    "pycharm": {
     "name": "#%%\n"
    }
   },
   "outputs": [],
   "source": [
    "st2_loc_eff_auc_df = pd.DataFrame(data=st2_loc_eff_auc)\n",
    "st2_loc_eff_auc_df['subject'] = st_idx\n",
    "st2_loc_eff_auc_df = st2_loc_eff_auc_df.melt(id_vars=['subject'], var_name='roi', value_name='loc_eff_auc')\n",
    "st2_loc_eff_auc_df['timepoint'] = 2\n",
    "st2_loc_eff_auc_df['group'] = 'st'"
   ]
  },
  {
   "cell_type": "code",
   "execution_count": null,
   "metadata": {
    "pycharm": {
     "name": "#%%\n"
    }
   },
   "outputs": [],
   "source": [
    "loc_eff_auc_df = pd.concat([hc_loc_eff_auc_df,st0_loc_eff_auc_df, st1_loc_eff_auc_df, st2_loc_eff_auc_df],\n",
    "                            ignore_index=True)\n",
    "all_st_loc_eff_auc_df = pd.concat([st0_loc_eff_auc_df, st1_loc_eff_auc_df, st2_loc_eff_auc_df],\n",
    "                            ignore_index=True)"
   ]
  },
  {
   "cell_type": "code",
   "execution_count": null,
   "metadata": {
    "pycharm": {
     "name": "#%%\n"
    }
   },
   "outputs": [],
   "source": [
    "# convert auc to numeric\n",
    "loc_eff_auc_df['loc_eff_auc'] = loc_eff_auc_df['loc_eff_auc'].astype('float')\n",
    "all_st_loc_eff_auc_df['loc_eff_auc'] = all_st_loc_eff_auc_df['loc_eff_auc'].astype('float')\n",
    "\n",
    "# convert timepoint to numeric\n",
    "loc_eff_auc_df['timepoint'] = loc_eff_auc_df['timepoint'].astype('float')\n",
    "all_st_loc_eff_auc_df['timepoint'] = all_st_loc_eff_auc_df['timepoint'].astype('float')"
   ]
  },
  {
   "cell_type": "code",
   "execution_count": null,
   "metadata": {
    "pycharm": {
     "name": "#%%\n"
    }
   },
   "outputs": [],
   "source": [
    "loc_eff_auc_df.head()"
   ]
  },
  {
   "cell_type": "code",
   "execution_count": null,
   "metadata": {
    "pycharm": {
     "name": "#%%\n"
    }
   },
   "outputs": [],
   "source": [
    "sns.boxplot(x=\"timepoint\", y=\"loc_eff_auc\", hue=\"group\", data=loc_eff_auc_df, palette=\"Set3\")\n",
    "plt.show()\n"
   ]
  },
  {
   "cell_type": "code",
   "execution_count": null,
   "metadata": {
    "pycharm": {
     "name": "#%%\n"
    }
   },
   "outputs": [],
   "source": [
    "loc_eff_auc_df.to_csv('loc_eff_auc_df.csv', index=False)"
   ]
  },
  {
   "cell_type": "markdown",
   "metadata": {
    "pycharm": {
     "name": "#%% md\n"
    }
   },
   "source": [
    "## Post hoc analysis\n",
    "Patient time points vs controls\n",
    "\n"
   ]
  },
  {
   "cell_type": "code",
   "execution_count": null,
   "metadata": {
    "pycharm": {
     "name": "#%%\n"
    }
   },
   "outputs": [],
   "source": [
    "controls = loc_eff_auc_df[loc_eff_auc_df['group']=='hc']['loc_eff_auc']\n",
    "print('Variance controls:' + str(variance(controls)))\n",
    "mean(controls)"
   ]
  },
  {
   "cell_type": "code",
   "execution_count": null,
   "metadata": {
    "pycharm": {
     "name": "#%%\n"
    }
   },
   "outputs": [],
   "source": [
    "# controls vs patients at all timepoints\n",
    "ttest_ind(controls, st_tp0, equal_var=False)\n"
   ]
  },
  {
   "cell_type": "code",
   "execution_count": null,
   "metadata": {
    "pycharm": {
     "name": "#%%\n"
    }
   },
   "outputs": [],
   "source": [
    "# controls vs patients at time point 0\n",
    "st_tp0 = loc_eff_auc_df[(loc_eff_auc_df['group']=='st') & (loc_eff_auc_df['timepoint']==0)]['loc_eff_auc']\n",
    "print('Variance subjects:' + str(variance(st_tp0)))\n",
    "mean(st_tp0)"
   ]
  },
  {
   "cell_type": "code",
   "execution_count": null,
   "metadata": {
    "pycharm": {
     "name": "#%%\n"
    }
   },
   "outputs": [],
   "source": [
    "ttest_ind(controls, loc_eff_auc_df[loc_eff_auc_df['group']=='st']['loc_eff_auc'], equal_var=False)"
   ]
  },
  {
   "cell_type": "code",
   "execution_count": null,
   "metadata": {
    "pycharm": {
     "name": "#%%\n"
    }
   },
   "outputs": [],
   "source": [
    "# controls vs patients at time point 0\n",
    "st_tp1 = loc_eff_auc_df[(loc_eff_auc_df['group']=='st') & (loc_eff_auc_df['timepoint']==1)]['loc_eff_auc']\n",
    "print('Variance subjects:' + str(variance(st_tp1)))\n",
    "mean(st_tp1)"
   ]
  },
  {
   "cell_type": "code",
   "execution_count": null,
   "metadata": {
    "pycharm": {
     "name": "#%%\n"
    }
   },
   "outputs": [],
   "source": [
    "ttest_ind(controls, st_tp1, equal_var=False)"
   ]
  },
  {
   "cell_type": "code",
   "execution_count": null,
   "metadata": {
    "pycharm": {
     "name": "#%%\n"
    }
   },
   "outputs": [],
   "source": []
  }
 ],
 "metadata": {
  "kernelspec": {
   "display_name": "Python 3",
   "language": "python",
   "name": "python3"
  },
  "language_info": {
   "codemirror_mode": {
    "name": "ipython",
    "version": 3
   },
   "file_extension": ".py",
   "mimetype": "text/x-python",
   "name": "python",
   "nbconvert_exporter": "python",
   "pygments_lexer": "ipython3",
   "version": "3.8.5"
  }
 },
 "nbformat": 4,
 "nbformat_minor": 1
}
