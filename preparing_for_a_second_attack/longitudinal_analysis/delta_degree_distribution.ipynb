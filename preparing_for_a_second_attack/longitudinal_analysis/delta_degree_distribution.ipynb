{
 "cells": [
  {
   "cell_type": "code",
   "execution_count": null,
   "metadata": {},
   "outputs": [],
   "source": [
    "import scipy.io\n",
    "import numpy as np\n",
    "from sklearn.metrics import auc\n",
    "import pandas as pd\n",
    "import seaborn as sns\n",
    "import matplotlib.pyplot as plt"
   ]
  },
  {
   "cell_type": "code",
   "execution_count": null,
   "metadata": {
    "pycharm": {
     "name": "#%%\n"
    }
   },
   "outputs": [],
   "source": [
    "remaining_brainnetome_rois_path = '/Users/jk1/OneDrive - unige.ch/stroke_research/stroke_resilience/patient_data/remaining_brainnetome_rois.mat'\n",
    "hc_degree_mat_path = '/Users/jk1/unige_onedrive/OneDrive - unige.ch/BCT/atlas_BNA/BNA_240_flipped_N32_retroicor_SBB4_prop_bin_window/HC/Degrees240_binwin_HC.mat'\n",
    "st_degree_mat_path = '/Users/jk1/unige_onedrive/OneDrive - unige.ch/BCT/atlas_BNA/BNA_240_flipped_N32_retroicor_SBB4_prop_bin_window/ST/Degrees240_binwin.mat'\n"
   ]
  },
  {
   "cell_type": "code",
   "execution_count": null,
   "metadata": {
    "pycharm": {
     "name": "#%%\n"
    }
   },
   "outputs": [],
   "source": [
    "minimum_connectivity_threshold = 0.3"
   ]
  },
  {
   "cell_type": "code",
   "execution_count": null,
   "metadata": {
    "pycharm": {
     "name": "#%%\n"
    }
   },
   "outputs": [],
   "source": [
    "remaining_brainnetome_rois = scipy.io.loadmat(remaining_brainnetome_rois_path)['rois_in_CM_list']"
   ]
  },
  {
   "cell_type": "code",
   "execution_count": null,
   "metadata": {
    "pycharm": {
     "name": "#%%\n"
    }
   },
   "outputs": [],
   "source": [
    "st_degree_mat = scipy.io.loadmat(st_degree_mat_path)['degrees_bin'][0][0]\n",
    "st_degree = np.array([np.stack(st_degree_mat[timepoint][0][0]) for timepoint in range(len(st_degree_mat))])"
   ]
  },
  {
   "cell_type": "code",
   "execution_count": null,
   "metadata": {
    "pycharm": {
     "name": "#%%\n"
    }
   },
   "outputs": [],
   "source": [
    "# use auc only over predefined area of thresholds\n",
    "def custom_auc(values_over_thresholds):\n",
    "    # only analyse thresholds above minimum_connectivity_threshold\n",
    "    minimum_connectivity_threshold_index = int(minimum_connectivity_threshold*10)  - 1 # here thresholds start at bin1\n",
    "    connectivity_thresholds = np.arange(minimum_connectivity_threshold, 1.1, 0.1)\n",
    "\n",
    "    return auc(connectivity_thresholds,\n",
    "                values_over_thresholds[minimum_connectivity_threshold_index:])"
   ]
  },
  {
   "cell_type": "code",
   "execution_count": null,
   "metadata": {
    "pycharm": {
     "name": "#%%\n"
    }
   },
   "outputs": [],
   "source": [
    "# reduce axis 1 to custom auc\n",
    "st_degree_auc = np.apply_along_axis(custom_auc, 1, st_degree)"
   ]
  },
  {
   "cell_type": "code",
   "execution_count": null,
   "metadata": {
    "pycharm": {
     "name": "#%%\n"
    }
   },
   "outputs": [],
   "source": [
    "delta_TP1_TP3 = st_degree_auc[2] - st_degree_auc[0]"
   ]
  },
  {
   "cell_type": "code",
   "execution_count": null,
   "metadata": {
    "pycharm": {
     "name": "#%%\n"
    }
   },
   "outputs": [],
   "source": [
    "mean_delta_TP1_TP3_per_roi = np.vstack([remaining_brainnetome_rois, np.mean(delta_TP1_TP3, axis=0)]).T"
   ]
  },
  {
   "cell_type": "code",
   "execution_count": null,
   "metadata": {
    "pycharm": {
     "name": "#%%\n"
    }
   },
   "outputs": [],
   "source": [
    "mean_delta_TP1_TP3_per_roi_df = pd.DataFrame(mean_delta_TP1_TP3_per_roi, columns=['roi', 'mean_delta_TP1_TP3'])"
   ]
  },
  {
   "cell_type": "code",
   "execution_count": null,
   "metadata": {
    "pycharm": {
     "name": "#%%\n"
    }
   },
   "outputs": [],
   "source": [
    "# plot mean delta_TP1_TP3 value per roi\n",
    "sns.catplot(x='roi', y='mean_delta_TP1_TP3', data=mean_delta_TP1_TP3_per_roi_df, kind='bar', palette='tab10')"
   ]
  },
  {
   "cell_type": "code",
   "execution_count": null,
   "metadata": {
    "pycharm": {
     "name": "#%%\n"
    }
   },
   "outputs": [],
   "source": [
    "brainnetome_labels_path = '/Users/jk1/stroke_research/resilience_stroke/longitudinal_analysis/BNA_subregions.xlsx'"
   ]
  },
  {
   "cell_type": "code",
   "execution_count": null,
   "metadata": {
    "pycharm": {
     "name": "#%%\n"
    }
   },
   "outputs": [],
   "source": [
    "brainnetome_labels_df = pd.read_excel(brainnetome_labels_path)\n",
    "brainnetome_labels_df['Anatomical and modified Cyto-architectonic descriptions'] = brainnetome_labels_df['Unnamed: 5']\n",
    "brainnetome_labels_df.drop(columns=['Unnamed: 5'], inplace=True)"
   ]
  },
  {
   "cell_type": "code",
   "execution_count": null,
   "metadata": {
    "pycharm": {
     "name": "#%%\n"
    }
   },
   "outputs": [],
   "source": [
    "# join labels with delta_TP1_TP3 through roi name\n",
    "left_annotated_data = pd.merge(mean_delta_TP1_TP3_per_roi_df, brainnetome_labels_df, left_on=['roi'], right_on=['Label ID.L'])\n",
    "left_annotated_data['hemisphere'] = 'l'\n",
    "\n",
    "right_annotated_data = pd.merge(mean_delta_TP1_TP3_per_roi_df, brainnetome_labels_df, left_on=['roi'], right_on=['Label ID.R'])\n",
    "right_annotated_data['hemisphere'] = 'r'"
   ]
  },
  {
   "cell_type": "code",
   "execution_count": null,
   "metadata": {
    "pycharm": {
     "name": "#%%\n"
    }
   },
   "outputs": [],
   "source": [
    "delta_annotated_data = left_annotated_data.append(right_annotated_data)"
   ]
  },
  {
   "cell_type": "code",
   "execution_count": null,
   "metadata": {
    "pycharm": {
     "name": "#%%\n"
    }
   },
   "outputs": [],
   "source": [
    "delta_annotated_data.to_csv('delta_degree_tp1_tp3.csv')"
   ]
  },
  {
   "cell_type": "code",
   "execution_count": null,
   "metadata": {
    "pycharm": {
     "name": "#%%\n"
    }
   },
   "outputs": [],
   "source": [
    "top10_delta = delta_annotated_data.sort_values(by='mean_delta_TP1_TP3', ascending=False).head(10)\n",
    "top10_delta"
   ]
  },
  {
   "cell_type": "code",
   "execution_count": null,
   "metadata": {
    "pycharm": {
     "name": "#%%\n"
    }
   },
   "outputs": [],
   "source": [
    "top10_delta.to_csv('top10_delta_degree_tp1_tp3.csv')\n"
   ]
  },
  {
   "cell_type": "code",
   "execution_count": null,
   "metadata": {
    "pycharm": {
     "name": "#%%\n"
    }
   },
   "outputs": [],
   "source": [
    "# 3d plot of change in degree_auc\n",
    "# initialise empty 3d background 70x70x70\n",
    "\n",
    "delta_cube_atlas = np.zeros((75, 75, 75))\n",
    "delta_atlas = np.zeros((75, 75, 75))\n",
    "\n",
    "# populate background with sphere of radius 3 at corresponding mni coordinates\n",
    "for index, row in delta_annotated_data.iterrows():\n",
    "    hemisphere = row['hemisphere']\n",
    "    x, y, z = map(int,row[f'{hemisphere}h.MNI(X,Y,Z)'].split(','))\n",
    "    delta_cube_atlas[x-3:x+3, y-3:y+3, z-3:z+3] = row['mean_delta_TP1_TP3']\n",
    "    delta_atlas[x,y,z] = row['mean_delta_TP1_TP3']"
   ]
  },
  {
   "cell_type": "code",
   "execution_count": null,
   "metadata": {
    "pycharm": {
     "name": "#%%\n"
    }
   },
   "outputs": [],
   "source": [
    "from gsprep.visual_tools.visual import idisplay\n",
    "\n",
    "# plot delta atlas in 3d\n",
    "idisplay(delta_atlas)"
   ]
  },
  {
   "cell_type": "code",
   "execution_count": null,
   "metadata": {
    "pycharm": {
     "name": "#%%\n"
    }
   },
   "outputs": [],
   "source": [
    "import ipyvolume as ipv\n",
    "ipv.quickvolshow(delta_atlas, level=[0.25, 0.75], opacity=0.03, level_width=0.1, data_min=0, data_max=1)\n"
   ]
  },
  {
   "cell_type": "code",
   "execution_count": null,
   "metadata": {
    "pycharm": {
     "name": "#%%\n"
    }
   },
   "outputs": [],
   "source": []
  }
 ],
 "metadata": {
  "kernelspec": {
   "display_name": "Python 3",
   "language": "python",
   "name": "python3"
  },
  "language_info": {
   "codemirror_mode": {
    "name": "ipython",
    "version": 3
   },
   "file_extension": ".py",
   "mimetype": "text/x-python",
   "name": "python",
   "nbconvert_exporter": "python",
   "pygments_lexer": "ipython3",
   "version": "3.8.5"
  }
 },
 "nbformat": 4,
 "nbformat_minor": 1
}
