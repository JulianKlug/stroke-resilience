{
 "cells": [
  {
   "cell_type": "markdown",
   "metadata": {
    "pycharm": {
     "name": "#%% md\n"
    }
   },
   "source": [
    "# Evaluating difference in mean degree between timepoints and groups for spontaneous evolution"
   ]
  },
  {
   "cell_type": "code",
   "execution_count": null,
   "metadata": {},
   "outputs": [],
   "source": [
    "import pandas as pd\n",
    "from scipy import stats\n",
    "from statsmodels.stats import multitest\n",
    "from multipy.fdr import qvalue\n",
    "import pingouin as pg\n",
    "import matplotlib.pyplot as plt\n",
    "import seaborn as sns"
   ]
  },
  {
   "cell_type": "code",
   "execution_count": null,
   "metadata": {},
   "outputs": [],
   "source": [
    "import warnings; warnings.simplefilter('ignore')"
   ]
  },
  {
   "cell_type": "code",
   "execution_count": null,
   "metadata": {
    "pycharm": {
     "name": "#%%\n"
    }
   },
   "outputs": [],
   "source": [
    "mean_degree_auc_df = pd.read_csv('/Users/jk1/stroke_research/resilience_stroke/longitudinal_analysis/mean_degree_auc_df.csv')\n",
    "st_mean_degree_auc_df = mean_degree_auc_df[mean_degree_auc_df['group'] == 'st']\n",
    "hc_mean_degree_auc_df = mean_degree_auc_df[mean_degree_auc_df['group'] == 'hc']"
   ]
  },
  {
   "cell_type": "code",
   "execution_count": null,
   "metadata": {
    "pycharm": {
     "name": "#%%\n"
    }
   },
   "outputs": [],
   "source": [
    "ax = sns.boxplot(x=\"timepoint\", y=\"mean_degree_auc\", hue=\"group\", data=mean_degree_auc_df, palette=\"Set3\")\n",
    "ax.set_title('Mean Degree AUC')\n",
    "plt.show()"
   ]
  },
  {
   "cell_type": "markdown",
   "metadata": {
    "pycharm": {
     "name": "#%% md\n"
    }
   },
   "source": [
    "## 1. Comparing Mean Degree AUC"
   ]
  },
  {
   "cell_type": "markdown",
   "metadata": {
    "pycharm": {
     "name": "#%% md\n"
    }
   },
   "source": [
    "### A. Compare different time-points for patients\n",
    "Here we use dependent t-tests, then corrected by Benjamini-Hochberg, as well as Storey procedures."
   ]
  },
  {
   "cell_type": "code",
   "execution_count": null,
   "metadata": {
    "pycharm": {
     "name": "#%%\n"
    }
   },
   "outputs": [],
   "source": [
    "_, tp1_vs_tp2_p_val = stats.ttest_rel(\n",
    "    st_mean_degree_auc_df[st_mean_degree_auc_df['timepoint'] == 0]['mean_degree_auc'],\n",
    "    st_mean_degree_auc_df[st_mean_degree_auc_df['timepoint'] == 1]['mean_degree_auc'],\n",
    "    nan_policy='omit')\n",
    "\n",
    "_, tp1_vs_tp3_p_val = stats.ttest_rel(\n",
    "    st_mean_degree_auc_df[st_mean_degree_auc_df['timepoint'] == 0]['mean_degree_auc'],\n",
    "    st_mean_degree_auc_df[st_mean_degree_auc_df['timepoint'] == 2]['mean_degree_auc'],\n",
    "nan_policy='omit')\n",
    "\n",
    "_, tp2_vs_tp3_p_val = stats.ttest_rel(\n",
    "    st_mean_degree_auc_df[st_mean_degree_auc_df['timepoint'] == 1]['mean_degree_auc'],\n",
    "    st_mean_degree_auc_df[st_mean_degree_auc_df['timepoint'] == 2]['mean_degree_auc'],\n",
    "nan_policy='omit')\n",
    "\n",
    "print('Uncorrected pvals:', tp1_vs_tp2_p_val, tp1_vs_tp3_p_val, tp2_vs_tp3_p_val)"
   ]
  },
  {
   "cell_type": "code",
   "execution_count": null,
   "metadata": {
    "pycharm": {
     "name": "#%%\n"
    }
   },
   "outputs": [],
   "source": [
    "_, timepoint_bh_fdr_pvals, _, _ = multitest.multipletests([tp1_vs_tp2_p_val, tp1_vs_tp3_p_val, tp2_vs_tp3_p_val], method='fdr_bh')\n",
    "print('BH FDR corrected p-vals are:', timepoint_bh_fdr_pvals)"
   ]
  },
  {
   "cell_type": "code",
   "execution_count": null,
   "metadata": {
    "pycharm": {
     "name": "#%%\n"
    }
   },
   "outputs": [],
   "source": [
    "_, timepoint_storey_fdr_pvals = qvalue([tp1_vs_tp2_p_val, tp1_vs_tp3_p_val, tp2_vs_tp3_p_val])\n",
    "print('Storey FDR corrected p-vals are:', timepoint_storey_fdr_pvals)"
   ]
  },
  {
   "cell_type": "markdown",
   "metadata": {
    "pycharm": {
     "name": "#%% md\n"
    }
   },
   "source": [
    "### B. Compare patients to healthy controls\n",
    "Here we use independent t-tests, then corrected by Benjamini-Hochberg, as well as Storey procedures."
   ]
  },
  {
   "cell_type": "code",
   "execution_count": null,
   "metadata": {
    "pycharm": {
     "name": "#%%\n"
    }
   },
   "outputs": [],
   "source": [
    "_, st_tp1_vs_hc_p_val = stats.ttest_ind(\n",
    "    st_mean_degree_auc_df[st_mean_degree_auc_df['timepoint'] == 0]['mean_degree_auc'],\n",
    "    hc_mean_degree_auc_df['mean_degree_auc'],\n",
    "    nan_policy='omit')\n",
    "\n",
    "\n",
    "_, st_tp2_vs_hc_p_val = stats.ttest_ind(\n",
    "    st_mean_degree_auc_df[st_mean_degree_auc_df['timepoint'] == 1]['mean_degree_auc'],\n",
    "    hc_mean_degree_auc_df['mean_degree_auc'],\n",
    "    nan_policy='omit'\n",
    "    )\n",
    "\n",
    "\n",
    "_, st_tp3_vs_hc_p_val = stats.ttest_ind(\n",
    "    st_mean_degree_auc_df[st_mean_degree_auc_df['timepoint'] == 2]['mean_degree_auc'],\n",
    "    hc_mean_degree_auc_df['mean_degree_auc'],\n",
    "    nan_policy='omit'\n",
    "    )\n",
    "\n",
    "print('Uncorrected pvals:', st_tp1_vs_hc_p_val, st_tp2_vs_hc_p_val, st_tp3_vs_hc_p_val)"
   ]
  },
  {
   "cell_type": "code",
   "execution_count": null,
   "metadata": {
    "pycharm": {
     "name": "#%%\n"
    }
   },
   "outputs": [],
   "source": [
    "_, group_bh_fdr_pvals, _, _ = multitest.multipletests([st_tp1_vs_hc_p_val, st_tp2_vs_hc_p_val, st_tp3_vs_hc_p_val], method='fdr_bh')\n",
    "print('BH FDR corrected p-vals are:', group_bh_fdr_pvals)"
   ]
  },
  {
   "cell_type": "code",
   "execution_count": null,
   "metadata": {
    "pycharm": {
     "name": "#%%\n"
    }
   },
   "outputs": [],
   "source": [
    "_, group_storey_fdr_pvals = qvalue([st_tp1_vs_hc_p_val, st_tp2_vs_hc_p_val, st_tp3_vs_hc_p_val])\n",
    "print('Storey FDR corrected p-vals are:', group_storey_fdr_pvals)\n",
    "\n"
   ]
  }
 ],
 "metadata": {
  "kernelspec": {
   "display_name": "Python 3",
   "language": "python",
   "name": "python3"
  },
  "language_info": {
   "codemirror_mode": {
    "name": "ipython",
    "version": 3
   },
   "file_extension": ".py",
   "mimetype": "text/x-python",
   "name": "python",
   "nbconvert_exporter": "python",
   "pygments_lexer": "ipython3",
   "version": "3.8.5"
  }
 },
 "nbformat": 4,
 "nbformat_minor": 1
}
