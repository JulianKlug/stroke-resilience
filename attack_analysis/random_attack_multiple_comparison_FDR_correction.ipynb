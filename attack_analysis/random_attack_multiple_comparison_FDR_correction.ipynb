{
 "cells": [
  {
   "cell_type": "markdown",
   "metadata": {
    "collapsed": false
   },
   "source": [
    "# Evaluating difference in global Efficiency in time-points and groups after random attacks"
   ]
  },
  {
   "cell_type": "code",
   "execution_count": null,
   "metadata": {
    "pycharm": {
     "name": "#%%\n"
    }
   },
   "outputs": [],
   "source": [
    "import pandas as pd\n",
    "from scipy import stats\n",
    "from statsmodels.stats import multitest\n",
    "from multipy.fdr import qvalue\n",
    "import matplotlib.pyplot as plt\n",
    "import seaborn as sns"
   ]
  },
  {
   "cell_type": "code",
   "execution_count": null,
   "metadata": {
    "pycharm": {
     "name": "#%%\n"
    }
   },
   "outputs": [],
   "source": [
    "global_eff_auc_df = pd.read_csv('./mean_mean_glob_eff_auc_after_attack_df.csv')\n",
    "st_global_eff_auc_df = global_eff_auc_df[(global_eff_auc_df['group'] == 'st')\n",
    "                                         & (global_eff_auc_df['attack_type'] == 'random')]\n",
    "hc_global_eff_auc_df = global_eff_auc_df[(global_eff_auc_df['group'] == 'hc')\n",
    "                                         & (global_eff_auc_df['attack_type'] == 'random')]"
   ]
  },
  {
   "cell_type": "code",
   "execution_count": null,
   "metadata": {
    "pycharm": {
     "name": "#%%\n"
    }
   },
   "outputs": [],
   "source": [
    "ax = sns.boxplot(x=\"timepoint\", y=\"mean_glob_eff_auc\", hue=\"group\", data=global_eff_auc_df, palette=\"Set3\")\n",
    "ax.set_title('Mean Global Efficiency AUC after random attack')\n",
    "plt.show()\n"
   ]
  },
  {
   "cell_type": "markdown",
   "metadata": {
    "collapsed": false
   },
   "source": [
    "## 1. Comparing Eglob AUC\n",
    "Here we use dependent t-tests, then corrected by Benjamini-Hochberg, as well as Storey procedures."
   ]
  },
  {
   "cell_type": "markdown",
   "metadata": {
    "collapsed": false
   },
   "source": [
    "### A. Compare different time-points for patients"
   ]
  },
  {
   "cell_type": "code",
   "execution_count": null,
   "metadata": {
    "pycharm": {
     "name": "#%%\n"
    }
   },
   "outputs": [],
   "source": [
    "_, tp1_vs_tp2_p_val = stats.ttest_rel(\n",
    "    st_global_eff_auc_df[st_global_eff_auc_df['timepoint'] == 0]['mean_glob_eff_auc'],\n",
    "    st_global_eff_auc_df[st_global_eff_auc_df['timepoint'] == 1]['mean_glob_eff_auc'])\n",
    "\n",
    "_, tp1_vs_tp3_p_val = stats.ttest_rel(\n",
    "    st_global_eff_auc_df[st_global_eff_auc_df['timepoint'] == 0]['mean_glob_eff_auc'],\n",
    "    st_global_eff_auc_df[st_global_eff_auc_df['timepoint'] == 2]['mean_glob_eff_auc'])\n",
    "\n",
    "_, tp2_vs_tp3_p_val = stats.ttest_rel(\n",
    "    st_global_eff_auc_df[st_global_eff_auc_df['timepoint'] == 1]['mean_glob_eff_auc'],\n",
    "    st_global_eff_auc_df[st_global_eff_auc_df['timepoint'] == 2]['mean_glob_eff_auc'])\n",
    "\n",
    "print('Uncorrected pvals:', tp1_vs_tp2_p_val, tp1_vs_tp3_p_val, tp2_vs_tp3_p_val)"
   ]
  },
  {
   "cell_type": "code",
   "execution_count": null,
   "metadata": {
    "pycharm": {
     "name": "#%%\n"
    }
   },
   "outputs": [],
   "source": [
    "_, timepoint_bh_fdr_pvals, _, _ = multitest.multipletests([tp1_vs_tp2_p_val, tp1_vs_tp3_p_val, tp2_vs_tp3_p_val], method='fdr_bh')\n",
    "print('BH FDR corrected p-vals are:', timepoint_bh_fdr_pvals)"
   ]
  },
  {
   "cell_type": "code",
   "execution_count": null,
   "metadata": {
    "pycharm": {
     "name": "#%%\n"
    }
   },
   "outputs": [],
   "source": [
    "_, timepoint_storey_fdr_pvals = qvalue([tp1_vs_tp2_p_val, tp1_vs_tp3_p_val, tp2_vs_tp3_p_val])\n",
    "print('Storey FDR corrected p-vals are:', timepoint_storey_fdr_pvals)"
   ]
  },
  {
   "cell_type": "code",
   "execution_count": null,
   "metadata": {
    "pycharm": {
     "name": "#%%\n"
    }
   },
   "outputs": [],
   "source": [
    "### B. Compare patients to healthy controls"
   ]
  },
  {
   "cell_type": "code",
   "execution_count": null,
   "metadata": {
    "pycharm": {
     "name": "#%%\n"
    }
   },
   "outputs": [],
   "source": [
    "_, st_tp1_vs_hc_p_val = stats.ttest_ind(\n",
    "    st_global_eff_auc_df[st_global_eff_auc_df['timepoint'] == 0]['mean_glob_eff_auc'],\n",
    "    hc_global_eff_auc_df['mean_glob_eff_auc']\n",
    "    )\n",
    "\n",
    "_, st_tp2_vs_hc_p_val = stats.ttest_ind(\n",
    "    st_global_eff_auc_df[st_global_eff_auc_df['timepoint'] == 1]['mean_glob_eff_auc'],\n",
    "    hc_global_eff_auc_df['mean_glob_eff_auc']\n",
    "    )\n",
    "\n",
    "\n",
    "_, st_tp3_vs_hc_p_val = stats.ttest_ind(\n",
    "    st_global_eff_auc_df[st_global_eff_auc_df['timepoint'] == 2]['mean_glob_eff_auc'],\n",
    "    hc_global_eff_auc_df['mean_glob_eff_auc']\n",
    "    )\n",
    "\n",
    "print('Uncorrected pvals:', st_tp1_vs_hc_p_val, st_tp2_vs_hc_p_val, st_tp3_vs_hc_p_val)"
   ]
  },
  {
   "cell_type": "code",
   "execution_count": null,
   "metadata": {
    "pycharm": {
     "name": "#%%\n"
    }
   },
   "outputs": [],
   "source": [
    "_, group_bh_fdr_pvals, _, _ = multitest.multipletests([st_tp1_vs_hc_p_val, st_tp2_vs_hc_p_val, st_tp3_vs_hc_p_val], method='fdr_bh')\n",
    "print('BH FDR corrected p-vals are:', group_bh_fdr_pvals)"
   ]
  },
  {
   "cell_type": "code",
   "execution_count": null,
   "metadata": {
    "pycharm": {
     "name": "#%%\n"
    }
   },
   "outputs": [],
   "source": [
    "_, group_storey_fdr_pvals = qvalue([st_tp1_vs_hc_p_val, st_tp2_vs_hc_p_val, st_tp3_vs_hc_p_val])\n",
    "print('Storey FDR corrected p-vals are:', group_storey_fdr_pvals)"
   ]
  },
  {
   "cell_type": "code",
   "execution_count": null,
   "metadata": {
    "pycharm": {
     "name": "#%%\n"
    }
   },
   "outputs": [],
   "source": []
  }
 ],
 "metadata": {
  "kernelspec": {
   "display_name": "Python 3",
   "language": "python",
   "name": "python3"
  },
  "language_info": {
   "codemirror_mode": {
    "name": "ipython",
    "version": 2
   },
   "file_extension": ".py",
   "mimetype": "text/x-python",
   "name": "python",
   "nbconvert_exporter": "python",
   "pygments_lexer": "ipython2",
   "version": "2.7.6"
  }
 },
 "nbformat": 4,
 "nbformat_minor": 0
}
