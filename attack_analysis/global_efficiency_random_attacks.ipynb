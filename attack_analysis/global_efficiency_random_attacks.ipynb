{
 "cells": [
  {
   "cell_type": "code",
   "execution_count": null,
   "metadata": {
    "collapsed": true
   },
   "outputs": [],
   "source": [
    "import scipy.io\n",
    "import numpy as np\n",
    "from sklearn.metrics import auc\n",
    "import pandas as pd\n",
    "import matplotlib.pyplot as plt\n",
    "import seaborn as sns"
   ]
  },
  {
   "cell_type": "markdown",
   "metadata": {},
   "source": [
    "# Global efficiency after random attacks\n",
    "1. Pour chaque iteration (240), faire l’AUC (en prenant 30-100%) pour chaque patient; réduction de la matrice à 240X1X15\n",
    "2. Moyenner les valeurs ainsi obtenues pour chaque patient pour arriver à 15x1."
   ]
  },
  {
   "cell_type": "code",
   "execution_count": null,
   "metadata": {
    "pycharm": {
     "name": "#%%\n"
    }
   },
   "outputs": [],
   "source": [
    "hc_data_path = '/Users/jk1/unige_onedrive/OneDrive - unige.ch/BCT/attacks240/attack_HC/rnd_attack_degrees_HC_05-12-2020 16-06v4.mat'\n",
    "st0_data_path = '/Users/jk1/unige_onedrive/OneDrive - unige.ch/BCT/attacks240/attack_ST01/rnd_attack_degrees_ST01_05-12-2020 17-46v4.mat'\n",
    "st1_data_path = '/Users/jk1/unige_onedrive/OneDrive - unige.ch/BCT/attacks240/attack_ST02/rnd_attack_degrees_ST02_05-12-2020 20-16v4.mat'\n",
    "st2_data_path = '/Users/jk1/unige_onedrive/OneDrive - unige.ch/BCT/attacks240/attack_ST03/rnd_attack_degrees_ST03_05-13-2020 18-19v4.mat'"
   ]
  },
  {
   "cell_type": "code",
   "execution_count": null,
   "metadata": {
    "pycharm": {
     "name": "#%%\n"
    }
   },
   "outputs": [],
   "source": [
    "# global eff after attack\n",
    "outcome_var = 'GlobEff_bin_new'\n",
    "minimum_connectivity_threshold = 0.3"
   ]
  },
  {
   "cell_type": "markdown",
   "metadata": {},
   "source": [
    "For this variable, data is available for the 8 remaining threshold bins [0.3-1.0]"
   ]
  },
  {
   "cell_type": "code",
   "execution_count": null,
   "metadata": {
    "pycharm": {
     "name": "#%%\n"
    }
   },
   "outputs": [],
   "source": [
    "hc_data_mat = scipy.io.loadmat(hc_data_path)\n",
    "st0_data_mat = scipy.io.loadmat(st0_data_path)\n",
    "st1_data_mat = scipy.io.loadmat(st1_data_path)\n",
    "st2_data_mat = scipy.io.loadmat(st2_data_path)"
   ]
  },
  {
   "cell_type": "code",
   "execution_count": null,
   "metadata": {
    "pycharm": {
     "name": "#%%\n"
    }
   },
   "outputs": [],
   "source": [
    "n_hc = len(hc_data_mat[outcome_var][0][0][0])\n",
    "n_st = len(st0_data_mat[outcome_var][0][0][0])\n",
    "n_bins = 11\n",
    "n_rois = 240"
   ]
  },
  {
   "cell_type": "code",
   "execution_count": null,
   "metadata": {
    "pycharm": {
     "name": "#%%\n"
    }
   },
   "outputs": [],
   "source": [
    "def parse_mat_file(data_mat, n_subj, n_rois, outcome_var):\n",
    "    # parsing matlab matrix (roi, subj, bin) to obtain np array (subj, bin, roi)\n",
    "    glob_eff_random_attack = np.moveaxis(np.squeeze([[np.vstack(data_mat[outcome_var][0][0][roi_idx][subj_idx])\n",
    "                                 for subj_idx in range(n_subj)]\n",
    "                                    for roi_idx in range(n_rois)]), 0, -1)\n",
    "    return glob_eff_random_attack"
   ]
  },
  {
   "cell_type": "code",
   "execution_count": null,
   "metadata": {
    "pycharm": {
     "name": "#%%\n"
    }
   },
   "outputs": [],
   "source": [
    "hc_glob_eff_random_attack = parse_mat_file(hc_data_mat, n_hc, n_rois, outcome_var)\n",
    "st0_glob_eff_random_attack = parse_mat_file(st0_data_mat, n_st, n_rois, outcome_var)\n",
    "st1_glob_eff_random_attack = parse_mat_file(st1_data_mat, n_st, n_rois, outcome_var)\n",
    "st2_glob_eff_random_attack = parse_mat_file(st2_data_mat, n_st, n_rois, outcome_var)"
   ]
  },
  {
   "cell_type": "code",
   "execution_count": null,
   "metadata": {
    "pycharm": {
     "name": "#%%\n"
    }
   },
   "outputs": [],
   "source": [
    "# use auc only over predefined area of thresholds\n",
    "def custom_auc(values_over_thresholds):\n",
    "    # only analyse thresholds above minimum_connectivity_threshold\n",
    "    minimum_connectivity_threshold_index = int(minimum_connectivity_threshold*10)  # here thresholds start at bin0\n",
    "    connectivity_thresholds = np.arange(minimum_connectivity_threshold, 1.1, 0.1)\n",
    "\n",
    "    return auc(connectivity_thresholds,\n",
    "                values_over_thresholds[minimum_connectivity_threshold_index:])"
   ]
  },
  {
   "cell_type": "code",
   "execution_count": null,
   "metadata": {
    "pycharm": {
     "name": "#%%\n"
    }
   },
   "outputs": [],
   "source": [
    "# take integral AUC over [0.3-1.0] interval\n",
    "hc_gEff_auc_random_attack = np.apply_along_axis(custom_auc, arr=hc_glob_eff_random_attack, axis=1)\n",
    "st0_gEff_auc_random_attack = np.apply_along_axis(custom_auc, arr=st0_glob_eff_random_attack, axis=1)\n",
    "st1_gEff_auc_random_attack = np.apply_along_axis(custom_auc, arr=st1_glob_eff_random_attack, axis=1)\n",
    "st2_gEff_auc_random_attack = np.apply_along_axis(custom_auc, arr=st2_glob_eff_random_attack, axis=1)"
   ]
  },
  {
   "cell_type": "code",
   "execution_count": null,
   "metadata": {
    "pycharm": {
     "name": "#%%\n"
    }
   },
   "outputs": [],
   "source": [
    "# take mean along attacked ROIs\n",
    "hc_mean_gEff_auc_random_attack = np.mean(hc_gEff_auc_random_attack, axis=-1)\n",
    "st0_mean_gEff_auc_random_attack = np.mean(st0_gEff_auc_random_attack, axis=-1)\n",
    "st1_mean_gEff_auc_random_attack = np.mean(st1_gEff_auc_random_attack, axis=-1)\n",
    "st2_mean_gEff_auc_random_attack = np.mean(st2_gEff_auc_random_attack, axis=-1)"
   ]
  },
  {
   "cell_type": "code",
   "execution_count": null,
   "metadata": {
    "pycharm": {
     "name": "#%%\n"
    }
   },
   "outputs": [],
   "source": [
    "# convert to dataframe and subject column from index, then add info for group and timepoint\n",
    "hc_mean_gEff_auc_random_attack_df = pd.DataFrame(hc_mean_gEff_auc_random_attack, columns=['mean_glob_eff_auc']).rename_axis('subject').reset_index()\n",
    "hc_mean_gEff_auc_random_attack_df['group'] = 'hc'\n",
    "hc_mean_gEff_auc_random_attack_df['timepoint'] = 0\n",
    "\n",
    "st0_mean_gEff_auc_random_attack_df = pd.DataFrame(st0_mean_gEff_auc_random_attack, columns=['mean_glob_eff_auc']).rename_axis('subject').reset_index()\n",
    "st0_mean_gEff_auc_random_attack_df['subject'] += n_hc\n",
    "st0_mean_gEff_auc_random_attack_df['group'] = 'st'\n",
    "st0_mean_gEff_auc_random_attack_df['timepoint'] = 0\n",
    "\n",
    "st1_mean_gEff_auc_random_attack_df = pd.DataFrame(st1_mean_gEff_auc_random_attack, columns=['mean_glob_eff_auc']).rename_axis('subject').reset_index()\n",
    "st1_mean_gEff_auc_random_attack_df['subject'] += n_hc\n",
    "st1_mean_gEff_auc_random_attack_df['group'] = 'st'\n",
    "st1_mean_gEff_auc_random_attack_df['timepoint'] = 1\n",
    "\n",
    "st2_mean_gEff_auc_random_attack_df = pd.DataFrame(st2_mean_gEff_auc_random_attack, columns=['mean_glob_eff_auc']).rename_axis('subject').reset_index()\n",
    "st2_mean_gEff_auc_random_attack_df['subject'] += n_hc\n",
    "st2_mean_gEff_auc_random_attack_df['group'] = 'st'\n",
    "st2_mean_gEff_auc_random_attack_df['timepoint'] = 2"
   ]
  },
  {
   "cell_type": "code",
   "execution_count": null,
   "metadata": {
    "pycharm": {
     "name": "#%%\n"
    }
   },
   "outputs": [],
   "source": [
    "\n",
    "all_mean_glob_eff_auc_df = pd.concat([hc_mean_gEff_auc_random_attack_df, st0_mean_gEff_auc_random_attack_df,\n",
    "                                      st1_mean_gEff_auc_random_attack_df, st2_mean_gEff_auc_random_attack_df],\n",
    "                                ignore_index=True)\n",
    "all_mean_glob_eff_auc_df['attack_type'] = 'random'\n",
    "\n",
    "# convert auc to numeric\n",
    "all_mean_glob_eff_auc_df['mean_glob_eff_auc'] = all_mean_glob_eff_auc_df['mean_glob_eff_auc'].astype('float')"
   ]
  },
  {
   "cell_type": "code",
   "execution_count": null,
   "metadata": {
    "pycharm": {
     "name": "#%%\n"
    }
   },
   "outputs": [],
   "source": [
    "ax = sns.catplot(x=\"timepoint\", y=\"mean_glob_eff_auc\", hue=\"group\",\n",
    "            kind='box', dodge=True,\n",
    "            data=all_mean_glob_eff_auc_df, palette=\"Set3\"\n",
    "                )\n",
    "ax.fig.suptitle('Mean Global efficiency AUC after random attack')\n",
    "ax.fig.subplots_adjust(top=0.85)\n",
    "plt.show()"
   ]
  },
  {
   "cell_type": "code",
   "execution_count": null,
   "metadata": {
    "pycharm": {
     "name": "#%%\n"
    }
   },
   "outputs": [],
   "source": [
    "# fuse with already existant dataframe\n",
    "all_mean_glob_eff_auc_all_attacks_df = pd.read_csv('mean_glob_eff_auc_after_attack_df.csv')\n",
    "all_mean_glob_eff_auc_all_attacks_df = pd.concat([all_mean_glob_eff_auc_all_attacks_df, all_mean_glob_eff_auc_df],\n",
    "                                                 ignore_index=True)\n",
    "all_mean_glob_eff_auc_all_attacks_df.to_csv('mean_glob_eff_auc_after_attack_df.csv', index=False)"
   ]
  },
  {
   "cell_type": "markdown",
   "metadata": {
    "pycharm": {
     "name": "#%% md\n"
    }
   },
   "source": [
    "## Build dataframe whilst keeping density bins"
   ]
  },
  {
   "cell_type": "code",
   "execution_count": null,
   "outputs": [],
   "source": [
    "\n",
    "# take mean along attacked ROIs without AUCs\n",
    "minimum_connectivity_threshold_index = int(minimum_connectivity_threshold*10)  # here thresholds start at bin0\n",
    "\n",
    "hc_mean_gEff_random_attack = np.mean(hc_glob_eff_random_attack, axis=-1)[:, minimum_connectivity_threshold_index:]\n",
    "st0_mean_gEff_random_attack = np.mean(st0_glob_eff_random_attack, axis=-1)[:, minimum_connectivity_threshold_index:]\n",
    "st1_mean_gEff_random_attack = np.mean(st1_glob_eff_random_attack, axis=-1)[:, minimum_connectivity_threshold_index:]\n",
    "st2_mean_gEff_random_attack = np.mean(st2_glob_eff_random_attack, axis=-1)[:, minimum_connectivity_threshold_index:]"
   ],
   "metadata": {
    "collapsed": false,
    "pycharm": {
     "name": "#%%\n"
    }
   }
  },
  {
   "cell_type": "code",
   "execution_count": null,
   "outputs": [],
   "source": [
    "# create df without AUC\n",
    "# convert to dataframe and subject column from index, then add info for group and timepoint\n",
    "hc_mean_gEff_random_attack_df = pd.DataFrame(hc_mean_gEff_random_attack).rename_axis('subject').reset_index()\\\n",
    "    .melt(id_vars=['subject'], var_name='density_bin', value_name='mean_glob_eff')\n",
    "hc_mean_gEff_random_attack_df['group'] = 'hc'\n",
    "hc_mean_gEff_random_attack_df['timepoint'] = 0\n",
    "\n",
    "st0_mean_gEff_random_attack_df = pd.DataFrame(st0_mean_gEff_random_attack).rename_axis('subject').reset_index()\\\n",
    "    .melt(id_vars=['subject'], var_name='density_bin', value_name='mean_glob_eff')\n",
    "st0_mean_gEff_random_attack_df['subject'] += n_hc\n",
    "st0_mean_gEff_random_attack_df['group'] = 'st'\n",
    "st0_mean_gEff_random_attack_df['timepoint'] = 0\n",
    "\n",
    "st1_mean_gEff_random_attack_df = pd.DataFrame(st1_mean_gEff_random_attack).rename_axis('subject').reset_index()\\\n",
    "    .melt(id_vars=['subject'], var_name='density_bin', value_name='mean_glob_eff')\n",
    "st1_mean_gEff_random_attack_df['subject'] += n_hc\n",
    "st1_mean_gEff_random_attack_df['group'] = 'st'\n",
    "st1_mean_gEff_random_attack_df['timepoint'] = 1\n",
    "\n",
    "st2_mean_gEff_random_attack_df = pd.DataFrame(st2_mean_gEff_random_attack).rename_axis('subject').reset_index()\\\n",
    "    .melt(id_vars=['subject'], var_name='density_bin', value_name='mean_glob_eff')\n",
    "st2_mean_gEff_random_attack_df['subject'] += n_hc\n",
    "st2_mean_gEff_random_attack_df['group'] = 'st'\n",
    "st2_mean_gEff_random_attack_df['timepoint'] = 2\n"
   ],
   "metadata": {
    "collapsed": false,
    "pycharm": {
     "name": "#%%\n"
    }
   }
  },
  {
   "cell_type": "code",
   "execution_count": null,
   "outputs": [],
   "source": [
    "all_mean_glob_eff_df = pd.concat([hc_mean_gEff_random_attack_df, st0_mean_gEff_random_attack_df,\n",
    "                                      st1_mean_gEff_random_attack_df, st2_mean_gEff_random_attack_df],\n",
    "                                ignore_index=True)\n",
    "all_mean_glob_eff_df['attack_type'] = 'random'\n",
    "all_mean_glob_eff_df['density_bin'] += 3 # correct for bins starting at 0.3\n",
    "\n",
    "\n",
    "# convert auc to numeric\n",
    "all_mean_glob_eff_df['mean_glob_eff'] = all_mean_glob_eff_df['mean_glob_eff'].astype('float')\n"
   ],
   "metadata": {
    "collapsed": false,
    "pycharm": {
     "name": "#%%\n"
    }
   }
  },
  {
   "cell_type": "code",
   "execution_count": null,
   "outputs": [],
   "source": [
    "ax = sns.catplot(x=\"timepoint\", y=\"mean_glob_eff\", hue=\"group\",\n",
    "            kind='box', dodge=True,\n",
    "            data=all_mean_glob_eff_df, palette=\"Set3\"\n",
    "                )\n",
    "ax.fig.suptitle('Mean Global efficiency after random attack')\n",
    "ax.fig.subplots_adjust(top=0.85)\n",
    "plt.show()\n"
   ],
   "metadata": {
    "collapsed": false,
    "pycharm": {
     "name": "#%%\n"
    }
   }
  },
  {
   "cell_type": "code",
   "execution_count": null,
   "outputs": [],
   "source": [
    "# fuse with already existant dataframe\n",
    "all_mean_glob_eff_all_attacks_df = pd.read_csv('mean_glob_eff_after_attack_df.csv')\n",
    "all_mean_glob_eff_all_attacks_df = pd.concat([all_mean_glob_eff_all_attacks_df, all_mean_glob_eff_df],\n",
    "                                                 ignore_index=True)\n",
    "all_mean_glob_eff_all_attacks_df.to_csv('mean_glob_eff_after_attack_df.csv', index=False)\n"
   ],
   "metadata": {
    "collapsed": false,
    "pycharm": {
     "name": "#%%\n"
    }
   }
  },
  {
   "cell_type": "code",
   "execution_count": null,
   "outputs": [],
   "source": [],
   "metadata": {
    "collapsed": false,
    "pycharm": {
     "name": "#%%\n"
    }
   }
  }
 ],
 "metadata": {
  "kernelspec": {
   "display_name": "Python 3",
   "language": "python",
   "name": "python3"
  },
  "language_info": {
   "codemirror_mode": {
    "name": "ipython",
    "version": 3
   },
   "file_extension": ".py",
   "mimetype": "text/x-python",
   "name": "python",
   "nbconvert_exporter": "python",
   "pygments_lexer": "ipython3",
   "version": "3.8.5"
  }
 },
 "nbformat": 4,
 "nbformat_minor": 1
}