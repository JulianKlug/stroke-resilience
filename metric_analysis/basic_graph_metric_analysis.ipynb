{
 "cells": [
  {
   "cell_type": "code",
   "execution_count": null,
   "metadata": {},
   "outputs": [],
   "source": [
    "import pandas as pd\n",
    "import seaborn as sns\n",
    "import os"
   ]
  },
  {
   "cell_type": "code",
   "execution_count": null,
   "metadata": {
    "pycharm": {
     "name": "#%%\n"
    }
   },
   "outputs": [],
   "source": [
    "HC_path = '/Users/jk1/temp/stroke_resilience/output/stroke_resilience/HC/basic_graph_metrics.csv'\n",
    "ST01_path = '/Users/jk1/temp/stroke_resilience/output/stroke_resilience/ST01/basic_graph_metrics.csv'\n",
    "ST02_path = '/Users/jk1/temp/stroke_resilience/output/stroke_resilience/ST02/basic_graph_metrics.csv'\n",
    "ST03_path = '/Users/jk1/temp/stroke_resilience/output/stroke_resilience/ST03/basic_graph_metrics.csv'\n",
    "\n",
    "output_save_path = '/Users/jk1/temp/stroke_resilience/output/figures'"
   ]
  },
  {
   "cell_type": "code",
   "execution_count": null,
   "metadata": {
    "pycharm": {
     "name": "#%%\n"
    }
   },
   "outputs": [],
   "source": [
    "\n",
    "HC_metrics = pd.read_csv(HC_path)\n",
    "HC_metrics['timepoint_group'] = 'HC'\n",
    "\n",
    "ST01_metrics = pd.read_csv(ST01_path)\n",
    "ST01_metrics['timepoint_group'] = 'ST01'\n",
    "\n",
    "ST02_metrics = pd.read_csv(ST02_path)\n",
    "ST02_metrics['timepoint_group'] = 'ST02'\n",
    "\n",
    "ST03_metrics = pd.read_csv(ST03_path)\n",
    "ST03_metrics['timepoint_group'] = 'ST03'\n",
    "\n",
    "all_groups_metrics = pd.concat([HC_metrics, ST01_metrics, ST02_metrics, ST03_metrics], ignore_index=True)"
   ]
  },
  {
   "cell_type": "code",
   "execution_count": null,
   "metadata": {
    "pycharm": {
     "name": "#%%\n"
    }
   },
   "outputs": [],
   "source": [
    "# Drop threshold < 0.3\n",
    "all_groups_metrics = all_groups_metrics[all_groups_metrics.threshold != 'top0']\n",
    "all_groups_metrics = all_groups_metrics[all_groups_metrics.threshold != 'top10']\n",
    "all_groups_metrics = all_groups_metrics[all_groups_metrics.threshold != 'top20']\n"
   ]
  },
  {
   "cell_type": "code",
   "execution_count": null,
   "metadata": {
    "pycharm": {
     "name": "#%%\n"
    }
   },
   "outputs": [],
   "source": [
    "all_groups_metrics = all_groups_metrics.drop('subject', axis=1)"
   ]
  },
  {
   "cell_type": "code",
   "execution_count": null,
   "metadata": {
    "pycharm": {
     "name": "#%%\n"
    }
   },
   "outputs": [],
   "source": [
    "mean_metrics = all_groups_metrics.groupby(\n",
    "    ['timepoint_group', 'threshold']\n",
    ").mean()\n",
    "mean_metrics"
   ]
  },
  {
   "cell_type": "code",
   "execution_count": null,
   "metadata": {
    "pycharm": {
     "name": "#%%\n"
    }
   },
   "outputs": [],
   "source": [
    "# transform back into normal df\n",
    "mean_metrics = mean_metrics.reset_index()"
   ]
  },
  {
   "cell_type": "code",
   "execution_count": null,
   "metadata": {
    "pycharm": {
     "name": "#%%\n"
    }
   },
   "outputs": [],
   "source": [
    "# sort thresholds\n",
    "mean_metrics['sort'] = mean_metrics['threshold'].str.extract('(\\d+)', expand=False).astype(int)\n",
    "mean_metrics = mean_metrics.sort_values('sort', ascending=True)\n",
    "# sort groups\n",
    "mean_metrics = mean_metrics.sort_values(['timepoint_group', 'sort'], ascending=True)\n",
    "mean_metrics = mean_metrics.drop('sort', axis=1)"
   ]
  },
  {
   "cell_type": "code",
   "execution_count": null,
   "metadata": {
    "pycharm": {
     "name": "#%%\n"
    }
   },
   "outputs": [],
   "source": [
    "mean_metrics.to_csv(os.path.join(output_save_path, 'mean_basic_graph_metrics.csv'))"
   ]
  },
  {
   "cell_type": "code",
   "execution_count": null,
   "metadata": {
    "pycharm": {
     "name": "#%%\n"
    }
   },
   "outputs": [],
   "source": [
    "def create_and_save_plot(dependant_variable:str):\n",
    "    g = sns.relplot(data=mean_metrics, x='timepoint_group', y=dependant_variable, hue='threshold', style='threshold',\n",
    "                alpha=.7, kind=\"line\", palette='flare')\n",
    "\n",
    "    g.fig.suptitle(dependant_variable, y=1.03)\n",
    "    g.savefig(os.path.join(output_save_path, dependant_variable + \".png\"))"
   ]
  },
  {
   "cell_type": "code",
   "execution_count": null,
   "metadata": {
    "pycharm": {
     "name": "#%%\n"
    }
   },
   "outputs": [],
   "source": [
    "create_and_save_plot('n_nodes')\n",
    "create_and_save_plot('n_edges')\n",
    "create_and_save_plot('mean_degree')\n"
   ]
  }
 ],
 "metadata": {
  "kernelspec": {
   "display_name": "Python 3",
   "language": "python",
   "name": "python3"
  },
  "language_info": {
   "codemirror_mode": {
    "name": "ipython",
    "version": 2
   },
   "file_extension": ".py",
   "mimetype": "text/x-python",
   "name": "python",
   "nbconvert_exporter": "python",
   "pygments_lexer": "ipython2",
   "version": "2.7.6"
  }
 },
 "nbformat": 4,
 "nbformat_minor": 0
}
