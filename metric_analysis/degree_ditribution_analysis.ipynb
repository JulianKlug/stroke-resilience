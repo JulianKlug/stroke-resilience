{
 "cells": [
  {
   "cell_type": "code",
   "execution_count": null,
   "metadata": {},
   "outputs": [],
   "source": [
    "\n",
    "import pandas as pd\n",
    "import seaborn as sns\n",
    "import os"
   ]
  },
  {
   "cell_type": "code",
   "execution_count": null,
   "metadata": {
    "pycharm": {
     "name": "#%%\n"
    }
   },
   "outputs": [],
   "source": [
    "HC_path = '/Users/jk1/temp/stroke_resilience/output/stroke_resilience/HC/basic_graph_metrics.csv'\n",
    "ST01_path = '/Users/jk1/temp/stroke_resilience/output/stroke_resilience/ST01/basic_graph_metrics.csv'\n",
    "ST02_path = '/Users/jk1/temp/stroke_resilience/output/stroke_resilience/ST02/basic_graph_metrics.csv'\n",
    "ST03_path = '/Users/jk1/temp/stroke_resilience/output/stroke_resilience/ST03/basic_graph_metrics.csv'\n",
    "\n",
    "output_save_path = '/Users/jk1/temp/stroke_resilience/output/figures'"
   ]
  },
  {
   "cell_type": "code",
   "execution_count": null,
   "metadata": {
    "pycharm": {
     "name": "#%%\n"
    }
   },
   "outputs": [],
   "source": [
    "\n",
    "HC_metrics = pd.read_csv(HC_path)\n",
    "HC_metrics['timepoint_group'] = 'HC'\n",
    "\n",
    "ST01_metrics = pd.read_csv(ST01_path)\n",
    "ST01_metrics['timepoint_group'] = 'ST01'\n",
    "\n",
    "ST02_metrics = pd.read_csv(ST02_path)\n",
    "ST02_metrics['timepoint_group'] = 'ST02'\n",
    "\n",
    "ST03_metrics = pd.read_csv(ST03_path)\n",
    "ST03_metrics['timepoint_group'] = 'ST03'\n",
    "\n",
    "all_groups_metrics = pd.concat([HC_metrics, ST01_metrics, ST02_metrics, ST03_metrics], ignore_index=True)"
   ]
  },
  {
   "cell_type": "code",
   "execution_count": null,
   "metadata": {
    "pycharm": {
     "name": "#%%\n"
    }
   },
   "outputs": [],
   "source": [
    "# Drop threshold < 0.3\n",
    "all_groups_metrics = all_groups_metrics[all_groups_metrics.threshold != 'top0']\n",
    "all_groups_metrics = all_groups_metrics[all_groups_metrics.threshold != 'top10']\n",
    "all_groups_metrics = all_groups_metrics[all_groups_metrics.threshold != 'top20']\n"
   ]
  },
  {
   "cell_type": "code",
   "execution_count": null,
   "metadata": {
    "pycharm": {
     "name": "#%%\n"
    }
   },
   "outputs": [],
   "source": [
    "all_groups_metrics = all_groups_metrics.drop('subject', axis=1)"
   ]
  },
  {
   "cell_type": "code",
   "execution_count": null,
   "metadata": {
    "pycharm": {
     "name": "#%%\n"
    }
   },
   "outputs": [],
   "source": [
    "mean_metrics = all_groups_metrics.groupby(\n",
    "    ['timepoint_group', 'threshold']\n",
    ").mean()\n",
    "mean_metrics"
   ]
  },
  {
   "cell_type": "code",
   "execution_count": null,
   "metadata": {
    "pycharm": {
     "name": "#%%\n"
    }
   },
   "outputs": [],
   "source": [
    "degree_distribution_df = mean_metrics.T\n",
    "degree_distribution_df = degree_distribution_df.drop(['n_nodes', 'n_edges', 'mean_degree'])\n",
    "degree_distribution_df = degree_distribution_df.astype(int)\n"
   ]
  },
  {
   "cell_type": "code",
   "execution_count": null,
   "metadata": {
    "pycharm": {
     "name": "#%%\n"
    }
   },
   "outputs": [],
   "source": [
    "linear_df = pd.DataFrame()\n",
    "for threshold in all_groups_metrics.threshold.unique():\n",
    "    threshold_filter = [col for col in degree_distribution_df if threshold in col]\n",
    "    HC_thresh_df = degree_distribution_df[('HC', threshold)].to_frame()\n",
    "    HC_thresh_df.columns = ['degree_distribution']\n",
    "    HC_thresh_df['timepoint_group'] = 'HC'\n",
    "\n",
    "    ST01_thresh_df = degree_distribution_df[('ST01', threshold)].to_frame()\n",
    "    ST01_thresh_df.columns = ['degree_distribution']\n",
    "    ST01_thresh_df['timepoint_group'] = 'ST01'\n",
    "\n",
    "    ST02_thresh_df = degree_distribution_df[('ST02', threshold)].to_frame()\n",
    "    ST02_thresh_df.columns = ['degree_distribution']\n",
    "    ST02_thresh_df['timepoint_group'] = 'ST02'\n",
    "\n",
    "    ST03_thresh_df = degree_distribution_df[('ST03', threshold)].to_frame()\n",
    "    ST03_thresh_df.columns = ['degree_distribution']\n",
    "    ST03_thresh_df['timepoint_group'] = 'ST03'\n",
    "\n",
    "    thresh_df = pd.concat([HC_thresh_df, ST01_thresh_df, ST02_thresh_df, ST03_thresh_df])\n",
    "    thresh_df['threshold'] = threshold\n",
    "    linear_df = linear_df.append(thresh_df)"
   ]
  },
  {
   "cell_type": "code",
   "execution_count": null,
   "metadata": {
    "pycharm": {
     "name": "#%%\n"
    }
   },
   "outputs": [],
   "source": [
    "g = sns.displot(data=linear_df, x='degree_distribution', hue='timepoint_group', row='threshold',\n",
    "            alpha=1, palette='pastel', kind=\"kde\")"
   ]
  },
  {
   "cell_type": "code",
   "execution_count": null,
   "metadata": {
    "pycharm": {
     "name": "#%%\n"
    }
   },
   "outputs": [],
   "source": [
    "g.savefig(os.path.join(output_save_path, 'degree_distribution' + \".png\"))"
   ]
  },
  {
   "cell_type": "code",
   "execution_count": null,
   "metadata": {
    "pycharm": {
     "name": "#%%\n"
    }
   },
   "outputs": [],
   "source": []
  }
 ],
 "metadata": {
  "kernelspec": {
   "display_name": "Python 3",
   "language": "python",
   "name": "python3"
  },
  "language_info": {
   "codemirror_mode": {
    "name": "ipython",
    "version": 2
   },
   "file_extension": ".py",
   "mimetype": "text/x-python",
   "name": "python",
   "nbconvert_exporter": "python",
   "pygments_lexer": "ipython2",
   "version": "2.7.6"
  }
 },
 "nbformat": 4,
 "nbformat_minor": 0
}
