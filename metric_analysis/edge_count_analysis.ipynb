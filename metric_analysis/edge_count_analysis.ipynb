{
 "cells": [
  {
   "cell_type": "code",
   "execution_count": null,
   "metadata": {},
   "outputs": [],
   "source": [
    "import pandas as pd\n",
    "import seaborn as sns\n",
    "import os\n",
    "import numpy as np\n",
    "from sklearn.metrics import auc"
   ]
  },
  {
   "cell_type": "code",
   "execution_count": null,
   "metadata": {
    "pycharm": {
     "name": "#%%\n"
    }
   },
   "outputs": [],
   "source": [
    "HC_path = '/Users/jk1/temp/stroke_resilience/output/stroke_resilience/HC/basic_graph_metrics.csv'\n",
    "ST01_path = '/Users/jk1/temp/stroke_resilience/output/stroke_resilience/ST01/basic_graph_metrics.csv'\n",
    "ST02_path = '/Users/jk1/temp/stroke_resilience/output/stroke_resilience/ST02/basic_graph_metrics.csv'\n",
    "ST03_path = '/Users/jk1/temp/stroke_resilience/output/stroke_resilience/ST03/basic_graph_metrics.csv'\n",
    "\n",
    "output_save_path = '/Users/jk1/temp/stroke_resilience/output/analysis'"
   ]
  },
  {
   "cell_type": "code",
   "execution_count": null,
   "metadata": {
    "pycharm": {
     "name": "#%%\n"
    }
   },
   "outputs": [],
   "source": [
    "HC_metrics = pd.read_csv(HC_path)\n",
    "HC_metrics['timepoint_group'] = 'HC01'\n",
    "HC_metrics['subject'] -= 1\n",
    "\n",
    "ST01_metrics = pd.read_csv(ST01_path)\n",
    "ST01_metrics['timepoint_group'] = 'ST01'\n",
    "ST01_metrics['subject'] += 15\n",
    "\n",
    "ST02_metrics = pd.read_csv(ST02_path)\n",
    "ST02_metrics['timepoint_group'] = 'ST02'\n",
    "ST02_metrics['subject'] += 15\n",
    "\n",
    "ST03_metrics = pd.read_csv(ST03_path)\n",
    "ST03_metrics['timepoint_group'] = 'ST03'\n",
    "ST03_metrics['subject'] += 15\n",
    "\n",
    "all_groups_metrics = pd.concat([HC_metrics, ST01_metrics, ST02_metrics, ST03_metrics], ignore_index=True)"
   ]
  },
  {
   "cell_type": "code",
   "execution_count": null,
   "metadata": {
    "pycharm": {
     "name": "#%%\n"
    }
   },
   "outputs": [],
   "source": [
    "# Drop threshold < 0.3\n",
    "all_groups_metrics = all_groups_metrics[all_groups_metrics.threshold != 'top0']\n",
    "all_groups_metrics = all_groups_metrics[all_groups_metrics.threshold != 'top10']\n",
    "all_groups_metrics = all_groups_metrics[all_groups_metrics.threshold != 'top20']"
   ]
  },
  {
   "cell_type": "code",
   "execution_count": null,
   "metadata": {
    "pycharm": {
     "name": "#%%\n"
    }
   },
   "outputs": [],
   "source": [
    "# use auc only over predefined area of thresholds\n",
    "def custom_auc(values_over_thresholds, minimum_connectivity_threshold = 0.3):\n",
    "    # only analyse thresholds above minimum_connectivity_threshold\n",
    "    connectivity_thresholds = np.arange(minimum_connectivity_threshold, 1.1, 0.1)\n",
    "\n",
    "    return auc(connectivity_thresholds,\n",
    "                values_over_thresholds)\n"
   ]
  },
  {
   "cell_type": "code",
   "execution_count": null,
   "metadata": {
    "pycharm": {
     "name": "#%%\n"
    }
   },
   "outputs": [],
   "source": [
    "edge_count_auc_df = pd.DataFrame([])\n",
    "for timepoint_group in all_groups_metrics.timepoint_group.unique():\n",
    "    timepoint_group_df = all_groups_metrics[all_groups_metrics['timepoint_group'] == timepoint_group]\n",
    "    for subject in timepoint_group_df.subject.unique():\n",
    "        subject_df = timepoint_group_df[timepoint_group_df['subject'] == subject]\n",
    "        subject_edge_count_auc = custom_auc(np.array(subject_df['n_edges']))\n",
    "        edge_count_auc_df = edge_count_auc_df.append({'subject': subject,\n",
    "                                                       'timepoint': timepoint_group.split('0')[1],\n",
    "                                                      'group': timepoint_group.split('0')[0],\n",
    "                                                       'edge_count_auc': subject_edge_count_auc},\n",
    "                                                      ignore_index=True)"
   ]
  },
  {
   "cell_type": "code",
   "execution_count": null,
   "metadata": {
    "pycharm": {
     "name": "#%%\n"
    }
   },
   "outputs": [],
   "source": [
    "edge_count_auc_df.to_csv(os.path.join(output_save_path, 'edge_count_auc.csv'))"
   ]
  },
  {
   "cell_type": "markdown",
   "metadata": {
    "collapsed": false,
    "pycharm": {
     "name": "#%% md\n"
    }
   },
   "source": [
    "Correct for missing values manually\n",
    "- TP1: patient 16\n",
    "- TP2: patient 20\n",
    "- TP3: patient 28\n"
   ]
  }
 ],
 "metadata": {
  "kernelspec": {
   "display_name": "Python 3",
   "language": "python",
   "name": "python3"
  },
  "language_info": {
   "codemirror_mode": {
    "name": "ipython",
    "version": 2
   },
   "file_extension": ".py",
   "mimetype": "text/x-python",
   "name": "python",
   "nbconvert_exporter": "python",
   "pygments_lexer": "ipython2",
   "version": "2.7.6"
  }
 },
 "nbformat": 4,
 "nbformat_minor": 0
}
