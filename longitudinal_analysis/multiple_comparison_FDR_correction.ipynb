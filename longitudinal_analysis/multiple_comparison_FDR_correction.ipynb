{
 "cells": [
  {
   "cell_type": "markdown",
   "metadata": {
    "pycharm": {
     "name": "#%% md\n"
    }
   },
   "source": [
    "# Evaluating difference in global Efficiency in timepoints and groups for spontaneous evolution"
   ]
  },
  {
   "cell_type": "code",
   "execution_count": null,
   "metadata": {},
   "outputs": [],
   "source": [
    "import pandas as pd\n",
    "from scipy import stats\n",
    "from statsmodels.stats import multitest\n",
    "from multipy.fdr import qvalue\n",
    "import pingouin as pg\n",
    "import matplotlib.pyplot as plt\n",
    "import seaborn as sns"
   ]
  },
  {
   "cell_type": "code",
   "execution_count": null,
   "metadata": {},
   "outputs": [],
   "source": [
    "import warnings; warnings.simplefilter('ignore')"
   ]
  },
  {
   "cell_type": "code",
   "execution_count": null,
   "metadata": {
    "pycharm": {
     "name": "#%%\n"
    }
   },
   "outputs": [],
   "source": [
    "global_eff_auc_df = pd.read_csv('./glob_eff_auc_df.csv')\n",
    "st_global_eff_auc_df = global_eff_auc_df[global_eff_auc_df['group'] == 'st']\n",
    "hc_global_eff_auc_df = global_eff_auc_df[global_eff_auc_df['group'] == 'hc']"
   ]
  },
  {
   "cell_type": "code",
   "execution_count": null,
   "metadata": {
    "pycharm": {
     "name": "#%%\n"
    }
   },
   "outputs": [],
   "source": [
    "global_eff_df = pd.read_csv('./glob_eff_df.csv')\n",
    "st_global_eff_df = global_eff_df[global_eff_df['group'] == 'st']\n",
    "hc_global_eff_df = global_eff_df[global_eff_df['group'] == 'hc']\n"
   ]
  },
  {
   "cell_type": "code",
   "execution_count": null,
   "metadata": {
    "pycharm": {
     "name": "#%%\n"
    }
   },
   "outputs": [],
   "source": [
    "ax = sns.boxplot(x=\"timepoint\", y=\"glob_eff_auc\", hue=\"group\", data=global_eff_auc_df, palette=\"Set3\")\n",
    "ax.set_title('Global Efficiency AUC')\n",
    "plt.show()"
   ]
  },
  {
   "cell_type": "code",
   "execution_count": null,
   "metadata": {
    "pycharm": {
     "name": "#%%\n"
    }
   },
   "outputs": [],
   "source": [
    "ax = sns.boxplot(x=\"timepoint\", y=\"glob_eff\", hue=\"group\", data=global_eff_df, palette=\"Set3\")\n",
    "ax.set_title('Global Efficiency')\n",
    "plt.show()\n"
   ]
  },
  {
   "cell_type": "markdown",
   "metadata": {
    "pycharm": {
     "name": "#%% md\n"
    }
   },
   "source": [
    "## 1. Comparing Eglob AUC"
   ]
  },
  {
   "cell_type": "markdown",
   "metadata": {
    "pycharm": {
     "name": "#%% md\n"
    }
   },
   "source": [
    "### A. Compare different time-points for patients\n",
    "Here we use dependent t-tests, then corrected by Benjamini-Hochberg, as well as Storey procedures."
   ]
  },
  {
   "cell_type": "code",
   "execution_count": null,
   "metadata": {
    "pycharm": {
     "name": "#%%\n"
    }
   },
   "outputs": [],
   "source": [
    "_, tp1_vs_tp2_p_val = stats.ttest_rel(\n",
    "    st_global_eff_auc_df[st_global_eff_auc_df['timepoint'] == 0]['glob_eff_auc'],\n",
    "    st_global_eff_auc_df[st_global_eff_auc_df['timepoint'] == 1]['glob_eff_auc'],\n",
    "    nan_policy='omit')\n",
    "\n",
    "_, tp1_vs_tp3_p_val = stats.ttest_rel(\n",
    "    st_global_eff_auc_df[st_global_eff_auc_df['timepoint'] == 0]['glob_eff_auc'],\n",
    "    st_global_eff_auc_df[st_global_eff_auc_df['timepoint'] == 2]['glob_eff_auc'],\n",
    "nan_policy='omit')\n",
    "\n",
    "_, tp2_vs_tp3_p_val = stats.ttest_rel(\n",
    "    st_global_eff_auc_df[st_global_eff_auc_df['timepoint'] == 1]['glob_eff_auc'],\n",
    "    st_global_eff_auc_df[st_global_eff_auc_df['timepoint'] == 2]['glob_eff_auc'],\n",
    "nan_policy='omit')\n",
    "\n",
    "print('Uncorrected pvals:', tp1_vs_tp2_p_val, tp1_vs_tp3_p_val, tp2_vs_tp3_p_val)"
   ]
  },
  {
   "cell_type": "code",
   "execution_count": null,
   "metadata": {
    "pycharm": {
     "name": "#%%\n"
    }
   },
   "outputs": [],
   "source": [
    "_, timepoint_bh_fdr_pvals, _, _ = multitest.multipletests([tp1_vs_tp2_p_val, tp1_vs_tp3_p_val, tp2_vs_tp3_p_val], method='fdr_bh')\n",
    "print('BH FDR corrected p-vals are:', timepoint_bh_fdr_pvals)"
   ]
  },
  {
   "cell_type": "code",
   "execution_count": null,
   "metadata": {
    "pycharm": {
     "name": "#%%\n"
    }
   },
   "outputs": [],
   "source": [
    "_, timepoint_storey_fdr_pvals = qvalue([tp1_vs_tp2_p_val, tp1_vs_tp3_p_val, tp2_vs_tp3_p_val])\n",
    "print('Storey FDR corrected p-vals are:', timepoint_storey_fdr_pvals)"
   ]
  },
  {
   "cell_type": "markdown",
   "metadata": {
    "pycharm": {
     "name": "#%% md\n"
    }
   },
   "source": [
    "### B. Compare patients to healthy controls\n",
    "Here we use independent t-tests, then corrected by Benjamini-Hochberg, as well as Storey procedures."
   ]
  },
  {
   "cell_type": "code",
   "execution_count": null,
   "metadata": {
    "pycharm": {
     "name": "#%%\n"
    }
   },
   "outputs": [],
   "source": [
    "_, st_tp1_vs_hc_p_val = stats.ttest_ind(\n",
    "    st_global_eff_auc_df[st_global_eff_auc_df['timepoint'] == 0]['glob_eff_auc'],\n",
    "    hc_global_eff_auc_df['glob_eff_auc'],\n",
    "    nan_policy='omit')\n",
    "\n",
    "\n",
    "_, st_tp2_vs_hc_p_val = stats.ttest_ind(\n",
    "    st_global_eff_auc_df[st_global_eff_auc_df['timepoint'] == 1]['glob_eff_auc'],\n",
    "    hc_global_eff_auc_df['glob_eff_auc'],\n",
    "    nan_policy='omit'\n",
    "    )\n",
    "\n",
    "\n",
    "_, st_tp3_vs_hc_p_val = stats.ttest_ind(\n",
    "    st_global_eff_auc_df[st_global_eff_auc_df['timepoint'] == 2]['glob_eff_auc'],\n",
    "    hc_global_eff_auc_df['glob_eff_auc'],\n",
    "    nan_policy='omit'\n",
    "    )\n",
    "\n",
    "print('Uncorrected pvals:', st_tp1_vs_hc_p_val, st_tp2_vs_hc_p_val, st_tp3_vs_hc_p_val)"
   ]
  },
  {
   "cell_type": "code",
   "execution_count": null,
   "metadata": {
    "pycharm": {
     "name": "#%%\n"
    }
   },
   "outputs": [],
   "source": [
    "_, group_bh_fdr_pvals, _, _ = multitest.multipletests([st_tp1_vs_hc_p_val, st_tp2_vs_hc_p_val, st_tp3_vs_hc_p_val], method='fdr_bh')\n",
    "print('BH FDR corrected p-vals are:', group_bh_fdr_pvals)"
   ]
  },
  {
   "cell_type": "code",
   "execution_count": null,
   "metadata": {
    "pycharm": {
     "name": "#%%\n"
    }
   },
   "outputs": [],
   "source": [
    "_, group_storey_fdr_pvals = qvalue([st_tp1_vs_hc_p_val, st_tp2_vs_hc_p_val, st_tp3_vs_hc_p_val])\n",
    "print('Storey FDR corrected p-vals are:', group_storey_fdr_pvals)\n"
   ]
  },
  {
   "cell_type": "markdown",
   "metadata": {
    "pycharm": {
     "name": "#%% md\n"
    }
   },
   "source": [
    "### C. Correlation with mean degree AUC\n",
    "Comparing across all subjects (HC + ST) and then only patients"
   ]
  },
  {
   "cell_type": "code",
   "execution_count": null,
   "metadata": {
    "pycharm": {
     "name": "#%%\n"
    }
   },
   "outputs": [],
   "source": [
    "mean_degree_auc_df = pd.read_csv('./mean_degree_auc_df.csv')\n",
    "mean_degree_and_gEff_auc_df = pd.merge(global_eff_auc_df, mean_degree_auc_df, on=[\"subject\", \"timepoint\", \"group\"])\n",
    "print('Overall Spearmann correlation coefficient:')\n",
    "mean_degree_and_gEff_auc_df[['mean_degree_auc', 'glob_eff_auc']].corr(method='spearman')"
   ]
  },
  {
   "cell_type": "code",
   "execution_count": null,
   "metadata": {
    "pycharm": {
     "name": "#%%\n"
    }
   },
   "outputs": [],
   "source": [
    "print('Only patients Spearmann correlation coefficient:')\n",
    "mean_degree_and_gEff_auc_df[mean_degree_and_gEff_auc_df['group'] == 'st'][['mean_degree_auc', 'glob_eff_auc']].corr(method='spearman')"
   ]
  },
  {
   "cell_type": "markdown",
   "metadata": {
    "pycharm": {
     "name": "#%% md\n"
    }
   },
   "source": [
    "## 2. Comparing Eglob across bins\n",
    "Using repeated measures ANOVA here instead of t-test (as bins are defacto repeated measures for a single subject), then corrected by Benjamini-Hochberg, as well as Storey procedures.\n",
    "\n",
    "Rationale: more measures might lead to higher statistical power."
   ]
  },
  {
   "cell_type": "markdown",
   "metadata": {},
   "source": [
    "### A. Compare different time-points for patients"
   ]
  },
  {
   "cell_type": "code",
   "execution_count": null,
   "metadata": {
    "pycharm": {
     "name": "#%%\n"
    }
   },
   "outputs": [],
   "source": [
    "tp1_vs_tp2_df = st_global_eff_df[st_global_eff_df['timepoint'].isin([0, 1])]\n",
    "timepoint_aov_tp1_vs_tp2_df = pg.rm_anova(data=tp1_vs_tp2_df, dv='glob_eff', subject='subject', within='timepoint', detailed=True)\n",
    "timepoint_aov_tp1_vs_tp2_pval = timepoint_aov_tp1_vs_tp2_df['p-unc'][0]\n",
    "\n",
    "tp1_vs_tp3_df = st_global_eff_df[st_global_eff_df['timepoint'].isin([0, 2])]\n",
    "timepoint_aov_tp1_vs_tp3_df = pg.rm_anova(data=tp1_vs_tp3_df, dv='glob_eff', subject='subject', within='timepoint', detailed=True)\n",
    "timepoint_aov_tp1_vs_tp3_pval = timepoint_aov_tp1_vs_tp3_df['p-unc'][0]\n",
    "\n",
    "tp2_vs_tp3_df = st_global_eff_df[st_global_eff_df['timepoint'].isin([1, 2])]\n",
    "timepoint_aov_tp2_vs_tp3_df = pg.rm_anova(data=tp2_vs_tp3_df, dv='glob_eff', subject='subject', within='timepoint', detailed=True)\n",
    "timepoint_aov_tp2_vs_tp3_pval = timepoint_aov_tp2_vs_tp3_df['p-unc'][0]\n",
    "\n",
    "print('Uncorrected pvals', timepoint_aov_tp1_vs_tp2_pval, timepoint_aov_tp1_vs_tp3_pval, timepoint_aov_tp2_vs_tp3_pval)"
   ]
  },
  {
   "cell_type": "code",
   "execution_count": null,
   "metadata": {
    "pycharm": {
     "name": "#%%\n"
    }
   },
   "outputs": [],
   "source": [
    "_, timepoint_aov_bh_fdr_pvals, _, _ = multitest.multipletests([timepoint_aov_tp1_vs_tp2_pval, timepoint_aov_tp1_vs_tp3_pval, timepoint_aov_tp2_vs_tp3_pval], method='fdr_bh')\n",
    "print('BH FDR corrected p-vals are:', timepoint_aov_bh_fdr_pvals)"
   ]
  },
  {
   "cell_type": "code",
   "execution_count": null,
   "metadata": {
    "pycharm": {
     "name": "#%%\n"
    }
   },
   "outputs": [],
   "source": [
    "_, timepoint_aov_storey_fdr_pvals = qvalue([timepoint_aov_tp1_vs_tp2_pval, timepoint_aov_tp1_vs_tp3_pval, timepoint_aov_tp2_vs_tp3_pval])\n",
    "print('Storey FDR corrected p-vals are:', timepoint_aov_storey_fdr_pvals)"
   ]
  },
  {
   "cell_type": "markdown",
   "metadata": {
    "pycharm": {
     "name": "#%% md\n"
    }
   },
   "source": [
    "### B. Compare patients to healthy controls"
   ]
  },
  {
   "cell_type": "code",
   "execution_count": null,
   "metadata": {
    "pycharm": {
     "name": "#%%\n"
    }
   },
   "outputs": [],
   "source": [
    "tp1_vs_hc_df = global_eff_df[(global_eff_df['timepoint'] == 0) | (global_eff_df['group'] == 'hc')]\n",
    "group_aov_tp1_vs_hc_df = pg.rm_anova(data=tp1_vs_hc_df, dv='glob_eff', subject='subject', within='group', detailed=True)\n",
    "group_aov_tp1_vs_hc_pval = group_aov_tp1_vs_hc_df['p-unc'][0]\n",
    "\n",
    "tp2_vs_hc_df = global_eff_df[(global_eff_df['timepoint'] == 1) | (global_eff_df['group'] == 'hc')]\n",
    "group_aov_tp2_vs_hc_df = pg.rm_anova(data=tp2_vs_hc_df, dv='glob_eff', subject='subject', within='group', detailed=True)\n",
    "group_aov_tp2_vs_hc_pval = group_aov_tp2_vs_hc_df['p-unc'][0]\n",
    "\n",
    "tp3_vs_hc_df = global_eff_df[(global_eff_df['timepoint'] == 2) | (global_eff_df['group'] == 'hc')]\n",
    "group_aov_tp3_vs_hc_df = pg.rm_anova(data=tp3_vs_hc_df, dv='glob_eff', subject='subject', within='group', detailed=True)\n",
    "group_aov_tp3_vs_hc_pval = group_aov_tp3_vs_hc_df['p-unc'][0]\n",
    "\n",
    "print('Uncorrected pvals', group_aov_tp1_vs_hc_pval, group_aov_tp2_vs_hc_pval, group_aov_tp3_vs_hc_pval)\n",
    "\n"
   ]
  },
  {
   "cell_type": "markdown",
   "metadata": {},
   "source": [
    "Analysis: intra-subject variance is too big rendering ANOVA across all density bins useless "
   ]
  },
  {
   "cell_type": "code",
   "execution_count": null,
   "metadata": {},
   "outputs": [],
   "source": []
  }
 ],
 "metadata": {
  "kernelspec": {
   "display_name": "Python 3",
   "language": "python",
   "name": "python3"
  },
  "language_info": {
   "codemirror_mode": {
    "name": "ipython",
    "version": 3
   },
   "file_extension": ".py",
   "mimetype": "text/x-python",
   "name": "python",
   "nbconvert_exporter": "python",
   "pygments_lexer": "ipython3",
   "version": "3.8.5"
  }
 },
 "nbformat": 4,
 "nbformat_minor": 1
}