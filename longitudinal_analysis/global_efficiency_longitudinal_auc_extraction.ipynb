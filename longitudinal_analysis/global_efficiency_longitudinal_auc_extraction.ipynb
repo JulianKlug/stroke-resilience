{
 "cells": [
  {
   "cell_type": "code",
   "execution_count": null,
   "metadata": {},
   "outputs": [],
   "source": [
    "import scipy.io\n",
    "import numpy as np\n",
    "from sklearn.metrics import auc\n",
    "import pingouin as pg\n",
    "import pandas as pd\n",
    "from scipy.stats import f_oneway\n",
    "import matplotlib.pyplot as plt\n",
    "import seaborn as sns\n",
    "import statsmodels.formula.api as smf\n",
    "from statsmodels.stats.anova import AnovaRM"
   ]
  },
  {
   "cell_type": "code",
   "execution_count": null,
   "metadata": {
    "pycharm": {
     "name": "#%%\n"
    }
   },
   "outputs": [],
   "source": [
    "hc_data_path = '/Users/jk1/unige_onedrive/OneDrive - unige.ch/BCT/atlas_BNA/BNA_240_flipped_N32_retroicor_SBB4_prop_bin_window/HC/CharPath240_binwin_HC.mat'\n",
    "st_data_path = '/Users/jk1/unige_onedrive/OneDrive - unige.ch/BCT/atlas_BNA/BNA_240_flipped_N32_retroicor_SBB4_prop_bin_window/ST/CharPath240_binwin.mat'"
   ]
  },
  {
   "cell_type": "code",
   "execution_count": null,
   "metadata": {
    "pycharm": {
     "name": "#%%\n"
    }
   },
   "outputs": [],
   "source": [
    "minimum_connectivity_threshold = 0.3"
   ]
  },
  {
   "cell_type": "code",
   "execution_count": null,
   "metadata": {
    "pycharm": {
     "name": "#%%\n"
    }
   },
   "outputs": [],
   "source": [
    "hc_data_mat = scipy.io.loadmat(hc_data_path)\n",
    "st_data_mat = scipy.io.loadmat(st_data_path)"
   ]
  },
  {
   "cell_type": "code",
   "execution_count": null,
   "metadata": {
    "pycharm": {
     "name": "#%%\n"
    }
   },
   "outputs": [],
   "source": [
    "# converting matlab mat to arrays\n",
    "# transposing to have shape (n_subj, n_thresholds)\n",
    "hc_glob_eff = np.vstack(hc_data_mat['GlobEfficiency'][0][0]).T\n",
    "st0_glob_eff = np.vstack(np.vstack(st_data_mat['GlobEfficiency'][0][0])[0][0]).T\n",
    "st1_glob_eff = np.vstack(np.vstack(st_data_mat['GlobEfficiency'][0][0])[1][0]).T\n",
    "st2_glob_eff = np.vstack(np.vstack(st_data_mat['GlobEfficiency'][0][0])[2][0]).T"
   ]
  },
  {
   "cell_type": "code",
   "execution_count": null,
   "metadata": {
    "pycharm": {
     "name": "#%%\n"
    }
   },
   "outputs": [],
   "source": [
    "# correct for missing values - (pt1 TP1, pt5 Tp2, Pt13 (=pt17) TP3)\n",
    "n_bins = st0_glob_eff.shape[1]\n",
    "st0_glob_eff = np.insert(st0_glob_eff, 0, np.full((n_bins), np.NaN), axis=0)\n",
    "st1_glob_eff = np.insert(st1_glob_eff, 4, np.full((n_bins), np.NaN), axis=0)\n",
    "st2_glob_eff = np.insert(st2_glob_eff, 12, np.full((n_bins), np.NaN), axis=0)"
   ]
  },
  {
   "cell_type": "code",
   "execution_count": null,
   "metadata": {
    "pycharm": {
     "name": "#%%\n"
    }
   },
   "outputs": [],
   "source": [
    "n_hc = hc_glob_eff.shape[0]\n",
    "n_st = st0_glob_eff.shape[0]"
   ]
  },
  {
   "cell_type": "code",
   "execution_count": null,
   "metadata": {
    "pycharm": {
     "name": "#%%\n"
    }
   },
   "outputs": [],
   "source": [
    "# only analyse thresholds above minimum_connectivity_threshold\n",
    "minimum_connectivity_threshold_index = int(minimum_connectivity_threshold*10 - 1)\n",
    "connectivity_thresholds = np.arange(minimum_connectivity_threshold, 1.1, 0.1)"
   ]
  },
  {
   "cell_type": "code",
   "execution_count": null,
   "metadata": {
    "pycharm": {
     "name": "#%%\n"
    }
   },
   "outputs": [],
   "source": [
    "def glob_eff_auc_per_subject(subjects_glob_eff, connectivity_thresholds, minimum_connectivity_threshold_index):\n",
    "    # compute global efficiency AUC over connectivity_thresholds for each subject\n",
    "    subjects_glob_eff_auc = []\n",
    "    for subj_idx in range(subjects_glob_eff.shape[0]):\n",
    "        subjects_glob_eff_auc.append(\n",
    "            auc(connectivity_thresholds,\n",
    "                subjects_glob_eff[subj_idx, minimum_connectivity_threshold_index:])\n",
    "        )\n",
    "    return subjects_glob_eff_auc"
   ]
  },
  {
   "cell_type": "code",
   "execution_count": null,
   "metadata": {
    "pycharm": {
     "name": "#%%\n"
    }
   },
   "outputs": [],
   "source": [
    "hc_glob_eff_auc = glob_eff_auc_per_subject(hc_glob_eff, connectivity_thresholds, minimum_connectivity_threshold_index)\n",
    "st0_glob_eff_auc = glob_eff_auc_per_subject(st0_glob_eff, connectivity_thresholds, minimum_connectivity_threshold_index)\n",
    "st1_glob_eff_auc = glob_eff_auc_per_subject(st1_glob_eff, connectivity_thresholds, minimum_connectivity_threshold_index)\n",
    "st2_glob_eff_auc = glob_eff_auc_per_subject(st2_glob_eff, connectivity_thresholds, minimum_connectivity_threshold_index)"
   ]
  },
  {
   "cell_type": "code",
   "execution_count": null,
   "metadata": {
    "pycharm": {
     "name": "#%%\n"
    }
   },
   "outputs": [],
   "source": [
    "# Compare to healthy subjects using one-way ANOVA\n",
    "f_oneway(hc_glob_eff_auc, st0_glob_eff_auc, st1_glob_eff_auc, st2_glob_eff_auc)\n"
   ]
  },
  {
   "cell_type": "code",
   "execution_count": null,
   "metadata": {
    "pycharm": {
     "name": "#%%\n"
    }
   },
   "outputs": [],
   "source": [
    "# glob_eff_auc_df = pd.DataFrame(hc_glob_eff_auc, st0_glob_eff_auc, st1_glob_eff_auc, st2_glob_eff_auc,\n",
    "#                                columns=['hc', 'st0', 'st1', 'st2'])\n",
    "all_subj_idx = np.arange(n_hc + n_st)\n",
    "hc_idx = all_subj_idx[:n_hc]\n",
    "st_idx = all_subj_idx[n_hc:]\n",
    "\n",
    "columns = ['subject', 'glob_eff_auc', 'group', 'timepoint']\n",
    "hc_glob_eff_auc_df = pd.DataFrame([hc_idx, hc_glob_eff_auc, np.repeat('hc', n_hc), np.repeat(0, n_hc)]).T\n",
    "st0_glob_eff_auc_df = pd.DataFrame([st_idx, st0_glob_eff_auc, np.repeat('st', n_st), np.repeat(0, n_st)]).T\n",
    "st1_glob_eff_auc_df = pd.DataFrame([st_idx, st1_glob_eff_auc, np.repeat('st', n_st), np.repeat(1, n_st)]).T\n",
    "st2_glob_eff_auc_df = pd.DataFrame([st_idx, st2_glob_eff_auc, np.repeat('st', n_st), np.repeat(2, n_st)]).T\n",
    "\n",
    "glob_eff_auc_df = pd.concat([hc_glob_eff_auc_df,st0_glob_eff_auc_df, st1_glob_eff_auc_df, st2_glob_eff_auc_df],\n",
    "                            ignore_index=True)\n",
    "all_st_glob_eff_auc_df = pd.concat([st0_glob_eff_auc_df, st1_glob_eff_auc_df, st2_glob_eff_auc_df],\n",
    "                            ignore_index=True)\n",
    "glob_eff_auc_df.columns = columns\n",
    "all_st_glob_eff_auc_df.columns = columns\n",
    "\n",
    "# convert auc to numeric\n",
    "glob_eff_auc_df['glob_eff_auc'] = glob_eff_auc_df['glob_eff_auc'].astype('float')\n",
    "all_st_glob_eff_auc_df['glob_eff_auc'] = all_st_glob_eff_auc_df['glob_eff_auc'].astype('float')\n",
    "\n",
    "# convert timepoint to numeric\n",
    "glob_eff_auc_df['timepoint'] = glob_eff_auc_df['timepoint'].astype('float')\n",
    "all_st_glob_eff_auc_df['timepoint'] = all_st_glob_eff_auc_df['timepoint'].astype('float')\n",
    "\n",
    "\n",
    "glob_eff_auc_df.head()"
   ]
  },
  {
   "cell_type": "code",
   "execution_count": null,
   "metadata": {
    "pycharm": {
     "name": "#%%\n"
    }
   },
   "outputs": [],
   "source": [
    "# without AUC data reduction\n",
    "\n",
    "hc_glob_eff_df = pd.DataFrame(data=hc_glob_eff)\n",
    "hc_glob_eff_df['subject'] = hc_idx\n",
    "hc_glob_eff_df = hc_glob_eff_df.melt(id_vars=['subject'], var_name='density_bin', value_name='glob_eff')\n",
    "hc_glob_eff_df['timepoint'] = 0\n",
    "hc_glob_eff_df['group'] = 'hc'\n",
    "\n",
    "st0_glob_eff_df = pd.DataFrame(data=st0_glob_eff)\n",
    "st0_glob_eff_df['subject'] = st_idx\n",
    "st0_glob_eff_df = st0_glob_eff_df.melt(id_vars=['subject'], var_name='density_bin', value_name='glob_eff')\n",
    "st0_glob_eff_df['timepoint'] = 0\n",
    "st0_glob_eff_df['group'] = 'st'\n",
    "\n",
    "st1_glob_eff_df = pd.DataFrame(data=st1_glob_eff)\n",
    "st1_glob_eff_df['subject'] = st_idx\n",
    "st1_glob_eff_df = st1_glob_eff_df.melt(id_vars=['subject'], var_name='density_bin', value_name='glob_eff')\n",
    "st1_glob_eff_df['timepoint'] = 1\n",
    "st1_glob_eff_df['group'] = 'st'\n",
    "\n",
    "st2_glob_eff_df = pd.DataFrame(data=st2_glob_eff)\n",
    "st2_glob_eff_df['subject'] = st_idx\n",
    "st2_glob_eff_df = st2_glob_eff_df.melt(id_vars=['subject'], var_name='density_bin', value_name='glob_eff')\n",
    "st2_glob_eff_df['timepoint'] = 2\n",
    "st2_glob_eff_df['group'] = 'st'\n",
    "\n",
    "glob_eff_df = pd.concat([hc_glob_eff_df,st0_glob_eff_df, st1_glob_eff_df, st2_glob_eff_df],\n",
    "                            ignore_index=True)"
   ]
  },
  {
   "cell_type": "code",
   "execution_count": null,
   "metadata": {
    "pycharm": {
     "name": "#%%\n"
    }
   },
   "outputs": [],
   "source": [
    "# convert auc to numeric\n",
    "glob_eff_df['glob_eff'] = glob_eff_df['glob_eff'].astype('float')\n",
    "glob_eff_df['density_bin'] = glob_eff_df['density_bin'].astype('float')"
   ]
  },
  {
   "cell_type": "code",
   "execution_count": null,
   "metadata": {
    "pycharm": {
     "name": "#%%\n"
    }
   },
   "outputs": [],
   "source": [
    "# make density bins correspond to initial nomenclature (1-10)\n",
    "glob_eff_df['density_bin'] += 1\n",
    "\n",
    "# threshold bins at [0.3-1]\n",
    "glob_eff_df = glob_eff_df[glob_eff_df['density_bin'] >= 3]"
   ]
  },
  {
   "cell_type": "code",
   "execution_count": null,
   "metadata": {
    "pycharm": {
     "name": "#%%\n"
    }
   },
   "outputs": [],
   "source": [
    "ax = sns.boxplot(x=\"timepoint\", y=\"glob_eff_auc\", hue=\"group\", data=glob_eff_auc_df, palette=\"Set3\")\n",
    "ax.set_title('Global Efficiency AUC')\n",
    "plt.show()"
   ]
  },
  {
   "cell_type": "code",
   "execution_count": null,
   "metadata": {
    "pycharm": {
     "name": "#%%\n"
    }
   },
   "outputs": [],
   "source": [
    "ax = sns.boxplot(x=\"timepoint\", y=\"glob_eff\", hue=\"group\", data=glob_eff_df, palette=\"Set3\")\n",
    "ax.set_title('Global Efficiency')\n",
    "plt.show()"
   ]
  },
  {
   "cell_type": "code",
   "execution_count": null,
   "metadata": {
    "pycharm": {
     "name": "#%%\n"
    }
   },
   "outputs": [],
   "source": [
    "pg.rm_anova(data=glob_eff_auc_df, dv='glob_eff_auc', subject='subject', within=['group'], detailed=True)\n"
   ]
  },
  {
   "cell_type": "code",
   "execution_count": null,
   "metadata": {
    "pycharm": {
     "name": "#%%\n"
    }
   },
   "outputs": [],
   "source": [
    "pg.rm_anova(data=all_st_glob_eff_auc_df, dv='glob_eff_auc', subject='subject', within=['timepoint'], detailed=True)\n"
   ]
  },
  {
   "cell_type": "code",
   "execution_count": null,
   "metadata": {
    "pycharm": {
     "name": "#%%\n"
    }
   },
   "outputs": [],
   "source": [
    "aov = pg.mixed_anova(dv='glob_eff_auc', within='timepoint', between='group', subject='subject', data=glob_eff_auc_df)\n",
    "# Pretty printing of ANOVA summary\n",
    "pg.print_table(aov)"
   ]
  },
  {
   "cell_type": "code",
   "execution_count": null,
   "metadata": {
    "pycharm": {
     "name": "#%%\n"
    }
   },
   "outputs": [],
   "source": [
    "# # conduct ANOVA using mixedlm\n",
    "# my_model_fit = smf.mixedlm(\"glob_eff_auc ~ timepoint\", glob_eff_auc_df, groups=glob_eff_auc_df[\"group\"]).fit()\n",
    "# # get random effects\n",
    "# my_model_fit.random_effects\n",
    "# # get fixed effects\n",
    "# my_model_fit.summary()"
   ]
  },
  {
   "cell_type": "code",
   "execution_count": null,
   "metadata": {
    "pycharm": {
     "name": "#%%\n"
    }
   },
   "outputs": [],
   "source": [
    "glob_eff_auc_df.to_csv('glob_eff_auc_df.csv', index=False)"
   ]
  },
  {
   "cell_type": "code",
   "execution_count": null,
   "metadata": {
    "pycharm": {
     "name": "#%%\n"
    }
   },
   "outputs": [],
   "source": [
    "glob_eff_df.to_csv('glob_eff_df.csv', index=False)"
   ]
  },
  {
   "cell_type": "code",
   "execution_count": null,
   "metadata": {
    "pycharm": {
     "name": "#%%\n"
    }
   },
   "outputs": [],
   "source": []
  }
 ],
 "metadata": {
  "kernelspec": {
   "display_name": "Python 3",
   "language": "python",
   "name": "python3"
  },
  "language_info": {
   "codemirror_mode": {
    "name": "ipython",
    "version": 3
   },
   "file_extension": ".py",
   "mimetype": "text/x-python",
   "name": "python",
   "nbconvert_exporter": "python",
   "pygments_lexer": "ipython3",
   "version": "3.8.5"
  }
 },
 "nbformat": 4,
 "nbformat_minor": 1
}