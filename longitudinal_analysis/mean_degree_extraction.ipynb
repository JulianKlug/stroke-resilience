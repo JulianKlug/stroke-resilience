{
 "cells": [
  {
   "cell_type": "code",
   "execution_count": 43,
   "metadata": {},
   "outputs": [],
   "source": [
    "import scipy.io\n",
    "import numpy as np\n",
    "from sklearn.metrics import auc\n",
    "import pandas as pd\n",
    "import matplotlib.pyplot as plt\n",
    "import seaborn as sns\n",
    "from scipy import stats"
   ]
  },
  {
   "cell_type": "markdown",
   "metadata": {
    "collapsed": false,
    "pycharm": {
     "name": "#%% md\n"
    }
   },
   "source": [
    "# Extracting mean degree\n",
    "\n"
   ]
  },
  {
   "cell_type": "code",
   "execution_count": 44,
   "metadata": {
    "pycharm": {
     "name": "#%%\n"
    }
   },
   "outputs": [],
   "source": [
    "hc_data_path = '/Users/jk1/unige_onedrive/OneDrive - unige.ch/BCT/atlas_BNA/BNA_240_flipped_N32_retroicor_SBB4_prop_bin_window/HC/Degrees240_binwin_HC.mat'\n",
    "st_data_path = '/Users/jk1/unige_onedrive/OneDrive - unige.ch/BCT/atlas_BNA/BNA_240_flipped_N32_retroicor_SBB4_prop_bin_window/ST/Degrees240_binwin.mat'"
   ]
  },
  {
   "cell_type": "code",
   "execution_count": 45,
   "metadata": {
    "pycharm": {
     "name": "#%%\n"
    }
   },
   "outputs": [],
   "source": [
    "outcome_var = 'mymeandegree_bin'\n",
    "minimum_connectivity_threshold = 0.3"
   ]
  },
  {
   "cell_type": "code",
   "execution_count": 46,
   "metadata": {
    "pycharm": {
     "name": "#%%\n"
    }
   },
   "outputs": [],
   "source": [
    "hc_data_mat = scipy.io.loadmat(hc_data_path)\n",
    "st_data_mat = scipy.io.loadmat(st_data_path)"
   ]
  },
  {
   "cell_type": "code",
   "execution_count": 47,
   "metadata": {
    "pycharm": {
     "name": "#%%\n"
    }
   },
   "outputs": [
    {
     "data": {
      "text/plain": "15"
     },
     "execution_count": 47,
     "metadata": {},
     "output_type": "execute_result"
    }
   ],
   "source": [
    "len(st_data_mat[outcome_var][0][0][0][0][0][0])"
   ]
  },
  {
   "cell_type": "code",
   "execution_count": 48,
   "metadata": {
    "pycharm": {
     "name": "#%%\n"
    }
   },
   "outputs": [],
   "source": [
    "n_hc = len(hc_data_mat[outcome_var][0][0][0])\n",
    "n_bins = len(hc_data_mat[outcome_var][0][0])\n",
    "n_tp = 3"
   ]
  },
  {
   "cell_type": "code",
   "execution_count": 49,
   "metadata": {
    "pycharm": {
     "name": "#%%\n"
    }
   },
   "outputs": [],
   "source": [
    "def parse_mat_file(data_mat, n_bins, outcome_var):\n",
    "    # parsing matlab array to obtain (subj, bin)\n",
    "    return np.moveaxis(\n",
    "                np.squeeze([np.vstack(data_mat[outcome_var][0][0][bin_idx])\n",
    "                                     for bin_idx in range(n_bins)]),\n",
    "                0, -1)"
   ]
  },
  {
   "cell_type": "code",
   "execution_count": 50,
   "metadata": {
    "pycharm": {
     "name": "#%%\n"
    }
   },
   "outputs": [],
   "source": [
    "hc_mean_degree = parse_mat_file(hc_data_mat, n_bins, outcome_var)\n",
    "st_mean_degree = np.moveaxis(\n",
    "                    np.squeeze([[np.vstack(st_data_mat[outcome_var][0][0][tp][0][0][bin_idx])\n",
    "                                                     for bin_idx in range(n_bins)]\n",
    "                                                        for tp in range(n_tp)]),\n",
    "                    1, 2)"
   ]
  },
  {
   "cell_type": "code",
   "execution_count": 51,
   "metadata": {
    "pycharm": {
     "name": "#%%\n"
    }
   },
   "outputs": [],
   "source": [
    "# correct for missing values - (pt1 TP1, pt5 Tp2, Pt13 (=pt17) TP3)\n",
    "st0_md_corr = np.insert(st_mean_degree[0], 0, np.full((n_bins), np.NaN), axis=0)\n",
    "st1_md_corr = np.insert(st_mean_degree[1], 4, np.full((n_bins), np.NaN), axis=0)\n",
    "st2_md_corr = np.insert(st_mean_degree[2], 12, np.full((n_bins), np.NaN), axis=0)\n",
    "\n",
    "st_mean_degree = np.array([st0_md_corr, st1_md_corr, st2_md_corr])"
   ]
  },
  {
   "cell_type": "code",
   "execution_count": 52,
   "metadata": {
    "pycharm": {
     "name": "#%%\n"
    }
   },
   "outputs": [],
   "source": [
    "# use auc only over predefined area of thresholds\n",
    "def custom_auc(values_over_thresholds):\n",
    "    # only analyse thresholds above minimum_connectivity_threshold\n",
    "    minimum_connectivity_threshold_index = int(minimum_connectivity_threshold*10)  - 1 # here thresholds start at bin1\n",
    "    connectivity_thresholds = np.arange(minimum_connectivity_threshold, 1.1, 0.1)\n",
    "\n",
    "    return auc(connectivity_thresholds,\n",
    "                values_over_thresholds[minimum_connectivity_threshold_index:])"
   ]
  },
  {
   "cell_type": "code",
   "execution_count": 53,
   "metadata": {
    "pycharm": {
     "name": "#%%\n"
    }
   },
   "outputs": [],
   "source": [
    "# take integral AUC over [0.3-1.0] interval\n",
    "hc_mean_degree_auc = np.apply_along_axis(custom_auc, arr=hc_mean_degree, axis=1)\n",
    "st_mean_degree_auc = np.apply_along_axis(custom_auc, arr=st_mean_degree, axis=-1)"
   ]
  },
  {
   "cell_type": "code",
   "execution_count": 54,
   "metadata": {
    "pycharm": {
     "name": "#%%\n"
    }
   },
   "outputs": [],
   "source": [
    "hc_mean_degree_auc_df = pd.DataFrame(hc_mean_degree_auc, columns=['mean_degree_auc']).rename_axis('subject').reset_index()\n",
    "hc_mean_degree_auc_df['group'] = 'hc'\n",
    "hc_mean_degree_auc_df['timepoint'] = 0\n",
    "\n",
    "st_mean_degree_auc_df = pd.DataFrame(st_mean_degree_auc).rename_axis('timepoint').reset_index()\\\n",
    "                                .melt(id_vars=\"timepoint\", value_name='mean_degree_auc', var_name=\"subject\")\n",
    "st_mean_degree_auc_df[\"subject\"] += n_hc\n",
    "st_mean_degree_auc_df['group'] = 'st'\n"
   ]
  },
  {
   "cell_type": "code",
   "execution_count": 55,
   "outputs": [],
   "source": [
    "minimum_connectivity_threshold_index = int(minimum_connectivity_threshold*10)  - 1 # here thresholds start at bin1\n",
    "\n",
    "hc_mean_degree_df = pd.DataFrame(hc_mean_degree[:, minimum_connectivity_threshold_index:])\\\n",
    "                    .rename_axis('subject').reset_index()\\\n",
    "                    .melt(id_vars=['subject'], var_name='density_bin', value_name='mean_degree')\n",
    "hc_mean_degree_df['group'] = 'hc'\n",
    "hc_mean_degree_df['timepoint'] = 0"
   ],
   "metadata": {
    "collapsed": false,
    "pycharm": {
     "name": "#%%\n"
    }
   }
  },
  {
   "cell_type": "code",
   "execution_count": 56,
   "outputs": [],
   "source": [
    "st0_md_corr_df = pd.DataFrame(st0_md_corr[:, minimum_connectivity_threshold_index:])\\\n",
    "                    .rename_axis('subject').reset_index()\\\n",
    "                    .melt(id_vars=['subject'], var_name='density_bin', value_name='mean_degree')\n",
    "st0_md_corr_df['timepoint'] = 0\n",
    "\n",
    "st1_md_corr_df = pd.DataFrame(st1_md_corr[:, minimum_connectivity_threshold_index:])\\\n",
    "                    .rename_axis('subject').reset_index()\\\n",
    "                    .melt(id_vars=['subject'], var_name='density_bin', value_name='mean_degree')\n",
    "st1_md_corr_df['timepoint'] = 1\n",
    "\n",
    "st2_md_corr_df = pd.DataFrame(st2_md_corr[:, minimum_connectivity_threshold_index:])\\\n",
    "                    .rename_axis('subject').reset_index()\\\n",
    "                    .melt(id_vars=['subject'], var_name='density_bin', value_name='mean_degree')\n",
    "st2_md_corr_df['timepoint'] = 2\n",
    "\n",
    "st_mean_degree_df = pd.concat([st0_md_corr_df, st1_md_corr_df, st2_md_corr_df])\n",
    "st_mean_degree_df['group'] = 'st'\n",
    "st_mean_degree_df[\"subject\"] += n_hc"
   ],
   "metadata": {
    "collapsed": false,
    "pycharm": {
     "name": "#%%\n"
    }
   }
  },
  {
   "cell_type": "code",
   "execution_count": 57,
   "metadata": {
    "pycharm": {
     "name": "#%%\n"
    }
   },
   "outputs": [],
   "source": [
    "all_mean_degree_auc_df = pd.concat([hc_mean_degree_auc_df, st_mean_degree_auc_df],\n",
    "                                ignore_index=True)\n",
    "\n",
    "# convert auc to numeric\n",
    "all_mean_degree_auc_df['mean_degree_auc'] = all_mean_degree_auc_df['mean_degree_auc'].astype('float')\n"
   ]
  },
  {
   "cell_type": "code",
   "execution_count": 58,
   "outputs": [],
   "source": [
    "all_mean_degree_df = pd.concat([hc_mean_degree_df, st_mean_degree_df],\n",
    "                                ignore_index=True)\n",
    "\n",
    "all_mean_degree_df['density_bin'] += 3 # correct density bin indexing\n",
    "\n",
    "# convert auc to numeric\n",
    "all_mean_degree_df['mean_degree'] = all_mean_degree_df['mean_degree'].astype('float')"
   ],
   "metadata": {
    "collapsed": false,
    "pycharm": {
     "name": "#%%\n"
    }
   }
  },
  {
   "cell_type": "code",
   "execution_count": 59,
   "metadata": {
    "pycharm": {
     "name": "#%%\n"
    }
   },
   "outputs": [
    {
     "data": {
      "text/plain": "<Figure size 407.875x360 with 1 Axes>",
      "image/png": "[encoded data removed]"
     },
     "metadata": {
      "needs_background": "light"
     },
     "output_type": "display_data"
    }
   ],
   "source": [
    "ax = sns.catplot(x=\"timepoint\", y=\"mean_degree_auc\", hue=\"group\",\n",
    "            kind='box', dodge=True,\n",
    "            data=all_mean_degree_auc_df, palette=\"Set3\"\n",
    "                )\n",
    "ax.fig.suptitle('Mean Degree AUC')\n",
    "ax.fig.subplots_adjust(top=0.85)\n",
    "plt.show()"
   ]
  },
  {
   "cell_type": "code",
   "execution_count": 60,
   "outputs": [
    {
     "data": {
      "text/plain": "<Figure size 407.875x360 with 1 Axes>",
      "image/png": "[encoded data removed]"
     },
     "metadata": {
      "needs_background": "light"
     },
     "output_type": "display_data"
    }
   ],
   "source": [
    "ax = sns.catplot(x=\"timepoint\", y=\"mean_degree\", hue=\"group\",\n",
    "            kind='box', dodge=True,\n",
    "            data=all_mean_degree_df, palette=\"Set3\"\n",
    "                )\n",
    "ax.fig.suptitle('Mean Degree')\n",
    "ax.fig.subplots_adjust(top=0.85)\n",
    "plt.show()\n"
   ],
   "metadata": {
    "collapsed": false,
    "pycharm": {
     "name": "#%%\n"
    }
   }
  },
  {
   "cell_type": "code",
   "execution_count": 61,
   "metadata": {
    "pycharm": {
     "name": "#%%\n"
    }
   },
   "outputs": [],
   "source": [
    "all_mean_degree_df.to_csv('mean_degree_df.csv', index=False)\n",
    "all_mean_degree_auc_df.to_csv('mean_degree_auc_df.csv', index=False)"
   ]
  },
  {
   "cell_type": "markdown",
   "metadata": {
    "collapsed": false,
    "pycharm": {
     "name": "#%% md\n"
    }
   },
   "source": [
    "## Correlating mean degree to Eglob"
   ]
  },
  {
   "cell_type": "code",
   "execution_count": 62,
   "metadata": {
    "pycharm": {
     "name": "#%%\n"
    }
   },
   "outputs": [],
   "source": [
    "global_efficiency_auc_df = pd.read_csv('glob_eff_auc_df.csv')"
   ]
  },
  {
   "cell_type": "code",
   "execution_count": 63,
   "metadata": {
    "pycharm": {
     "name": "#%%\n"
    }
   },
   "outputs": [],
   "source": [
    "overall_df = global_efficiency_auc_df.merge(all_mean_degree_auc_df, on=['subject', 'group', 'timepoint'], how=\"inner\")"
   ]
  },
  {
   "cell_type": "code",
   "execution_count": 64,
   "metadata": {
    "pycharm": {
     "name": "#%%\n"
    }
   },
   "outputs": [
    {
     "data": {
      "text/plain": "0.8978847170809096"
     },
     "execution_count": 64,
     "metadata": {},
     "output_type": "execute_result"
    }
   ],
   "source": [
    "overall_df['mean_degree_auc'].corr(overall_df['glob_eff_auc'], method=\"spearman\")"
   ]
  },
  {
   "cell_type": "code",
   "execution_count": 64,
   "metadata": {
    "pycharm": {
     "name": "#%%\n"
    }
   },
   "outputs": [],
   "source": []
  }
 ],
 "metadata": {
  "kernelspec": {
   "display_name": "Python 3",
   "language": "python",
   "name": "python3"
  },
  "language_info": {
   "codemirror_mode": {
    "name": "ipython",
    "version": 2
   },
   "file_extension": ".py",
   "mimetype": "text/x-python",
   "name": "python",
   "nbconvert_exporter": "python",
   "pygments_lexer": "ipython2",
   "version": "2.7.6"
  }
 },
 "nbformat": 4,
 "nbformat_minor": 0
}