{
 "cells": [
  {
   "cell_type": "code",
   "execution_count": null,
   "metadata": {
    "collapsed": true
   },
   "outputs": [],
   "source": [
    "import scipy.io\n",
    "import numpy as np\n",
    "from sklearn.metrics import auc\n",
    "import pandas as pd\n",
    "import matplotlib.pyplot as plt\n",
    "import seaborn as sns\n",
    "from scipy import stats"
   ]
  },
  {
   "cell_type": "markdown",
   "source": [
    "# Extracting mean degree\n",
    "\n"
   ],
   "metadata": {
    "collapsed": false,
    "pycharm": {
     "name": "#%% md\n"
    }
   }
  },
  {
   "cell_type": "code",
   "execution_count": null,
   "outputs": [],
   "source": [
    "hc_data_path = '/Users/jk1/unige_onedrive/OneDrive - unige.ch/BCT/atlas_BNA/BNA_240_flipped_N32_retroicor_SBB4_prop_bin_window/HC/Degrees240_binwin_HC.mat'\n",
    "st_data_path = '/Users/jk1/unige_onedrive/OneDrive - unige.ch/BCT/atlas_BNA/BNA_240_flipped_N32_retroicor_SBB4_prop_bin_window/ST/Degrees240_binwin.mat'"
   ],
   "metadata": {
    "collapsed": false,
    "pycharm": {
     "name": "#%%\n"
    }
   }
  },
  {
   "cell_type": "code",
   "execution_count": null,
   "outputs": [],
   "source": [
    "outcome_var = 'mymeandegree_bin'\n",
    "minimum_connectivity_threshold = 0.3"
   ],
   "metadata": {
    "collapsed": false,
    "pycharm": {
     "name": "#%%\n"
    }
   }
  },
  {
   "cell_type": "code",
   "execution_count": null,
   "outputs": [],
   "source": [
    "hc_data_mat = scipy.io.loadmat(hc_data_path)\n",
    "st_data_mat = scipy.io.loadmat(st_data_path)"
   ],
   "metadata": {
    "collapsed": false,
    "pycharm": {
     "name": "#%%\n"
    }
   }
  },
  {
   "cell_type": "code",
   "execution_count": null,
   "outputs": [],
   "source": [
    "len(st_data_mat[outcome_var][0][0][0][0][0][0])"
   ],
   "metadata": {
    "collapsed": false,
    "pycharm": {
     "name": "#%%\n"
    }
   }
  },
  {
   "cell_type": "code",
   "execution_count": null,
   "outputs": [],
   "source": [
    "n_hc = len(hc_data_mat[outcome_var][0][0][0])\n",
    "n_bins = len(hc_data_mat[outcome_var][0][0])\n",
    "n_tp = 3"
   ],
   "metadata": {
    "collapsed": false,
    "pycharm": {
     "name": "#%%\n"
    }
   }
  },
  {
   "cell_type": "code",
   "execution_count": null,
   "outputs": [],
   "source": [
    "def parse_mat_file(data_mat, n_bins, outcome_var):\n",
    "    # parsing matlab array to obtain (subj, bin)\n",
    "    return np.moveaxis(\n",
    "                np.squeeze([np.vstack(data_mat[outcome_var][0][0][bin_idx])\n",
    "                                     for bin_idx in range(n_bins)]),\n",
    "                0, -1)"
   ],
   "metadata": {
    "collapsed": false,
    "pycharm": {
     "name": "#%%\n"
    }
   }
  },
  {
   "cell_type": "code",
   "execution_count": null,
   "outputs": [],
   "source": [
    "hc_mean_degree = parse_mat_file(hc_data_mat, n_bins, outcome_var)\n",
    "st_mean_degree = np.moveaxis(\n",
    "                    np.squeeze([[np.vstack(st_data_mat[outcome_var][0][0][tp][0][0][bin_idx])\n",
    "                                                     for bin_idx in range(n_bins)]\n",
    "                                                        for tp in range(n_tp)]),\n",
    "                    1, 2)"
   ],
   "metadata": {
    "collapsed": false,
    "pycharm": {
     "name": "#%%\n"
    }
   }
  },
  {
   "cell_type": "code",
   "execution_count": null,
   "outputs": [],
   "source": [
    "# use auc only over predefined area of thresholds\n",
    "def custom_auc(values_over_thresholds):\n",
    "    # only analyse thresholds above minimum_connectivity_threshold\n",
    "    minimum_connectivity_threshold_index = int(minimum_connectivity_threshold*10)  - 1 # here thresholds start at bin1\n",
    "    connectivity_thresholds = np.arange(minimum_connectivity_threshold, 1.1, 0.1)\n",
    "\n",
    "    return auc(connectivity_thresholds,\n",
    "                values_over_thresholds[minimum_connectivity_threshold_index:])"
   ],
   "metadata": {
    "collapsed": false,
    "pycharm": {
     "name": "#%%\n"
    }
   }
  },
  {
   "cell_type": "code",
   "execution_count": null,
   "outputs": [],
   "source": [
    "# take integral AUC over [0.3-1.0] interval\n",
    "hc_mean_degree_auc = np.apply_along_axis(custom_auc, arr=hc_mean_degree, axis=1)\n",
    "st_mean_degree_auc = np.apply_along_axis(custom_auc, arr=st_mean_degree, axis=-1)"
   ],
   "metadata": {
    "collapsed": false,
    "pycharm": {
     "name": "#%%\n"
    }
   }
  },
  {
   "cell_type": "code",
   "execution_count": null,
   "outputs": [],
   "source": [
    "hc_mean_degree_auc_df = pd.DataFrame(hc_mean_degree_auc, columns=['mean_degree_auc']).rename_axis('subject').reset_index()\n",
    "hc_mean_degree_auc_df['group'] = 'hc'\n",
    "hc_mean_degree_auc_df['timepoint'] = 0\n",
    "\n",
    "st_mean_degree_auc_df = pd.DataFrame(st_mean_degree_auc).rename_axis('timepoint').reset_index()\\\n",
    "                                .melt(id_vars=\"timepoint\", value_name='mean_degree_auc', var_name=\"subject\")\n",
    "st_mean_degree_auc_df[\"subject\"] += n_hc\n",
    "st_mean_degree_auc_df['group'] = 'st'\n"
   ],
   "metadata": {
    "collapsed": false,
    "pycharm": {
     "name": "#%%\n"
    }
   }
  },
  {
   "cell_type": "code",
   "execution_count": null,
   "outputs": [],
   "source": [
    "all_mean_degree_auc_df = pd.concat([hc_mean_degree_auc_df, st_mean_degree_auc_df],\n",
    "                                ignore_index=True)\n",
    "\n",
    "# convert auc to numeric\n",
    "all_mean_degree_auc_df['mean_degree_auc'] = all_mean_degree_auc_df['mean_degree_auc'].astype('float')\n"
   ],
   "metadata": {
    "collapsed": false,
    "pycharm": {
     "name": "#%%\n"
    }
   }
  },
  {
   "cell_type": "code",
   "execution_count": null,
   "outputs": [],
   "source": [
    "ax = sns.catplot(x=\"timepoint\", y=\"mean_degree_auc\", hue=\"group\",\n",
    "            kind='box', dodge=True,\n",
    "            data=all_mean_degree_auc_df, palette=\"Set3\"\n",
    "                )\n",
    "ax.fig.suptitle('Mean Degree AUC')\n",
    "ax.fig.subplots_adjust(top=0.85)\n",
    "plt.show()"
   ],
   "metadata": {
    "collapsed": false,
    "pycharm": {
     "name": "#%%\n"
    }
   }
  },
  {
   "cell_type": "code",
   "execution_count": null,
   "outputs": [],
   "source": [
    "all_mean_degree_auc_df.to_csv('mean_degree_auc_df.csv', index=False)"
   ],
   "metadata": {
    "collapsed": false,
    "pycharm": {
     "name": "#%%\n"
    }
   }
  },
  {
   "cell_type": "markdown",
   "source": [
    "## Correlating mean degree to Eglob"
   ],
   "metadata": {
    "collapsed": false,
    "pycharm": {
     "name": "#%% md\n"
    }
   }
  },
  {
   "cell_type": "code",
   "execution_count": null,
   "outputs": [],
   "source": [
    "global_efficiency_auc_df = pd.read_csv('glob_eff_auc_df.csv')"
   ],
   "metadata": {
    "collapsed": false,
    "pycharm": {
     "name": "#%%\n"
    }
   }
  },
  {
   "cell_type": "code",
   "execution_count": null,
   "outputs": [],
   "source": [
    "overall_df = global_efficiency_auc_df.merge(all_mean_degree_auc_df, on=['subject', 'group', 'timepoint'], how=\"inner\")"
   ],
   "metadata": {
    "collapsed": false,
    "pycharm": {
     "name": "#%%\n"
    }
   }
  },
  {
   "cell_type": "code",
   "execution_count": null,
   "outputs": [],
   "source": [
    "overall_df['mean_degree_auc'].corr(overall_df['glob_eff_auc'], method=\"spearman\")"
   ],
   "metadata": {
    "collapsed": false,
    "pycharm": {
     "name": "#%%\n"
    }
   }
  },
  {
   "cell_type": "code",
   "execution_count": null,
   "outputs": [],
   "source": [],
   "metadata": {
    "collapsed": false,
    "pycharm": {
     "name": "#%%\n"
    }
   }
  }
 ],
 "metadata": {
  "kernelspec": {
   "display_name": "Python 3",
   "language": "python",
   "name": "python3"
  },
  "language_info": {
   "codemirror_mode": {
    "name": "ipython",
    "version": 2
   },
   "file_extension": ".py",
   "mimetype": "text/x-python",
   "name": "python",
   "nbconvert_exporter": "python",
   "pygments_lexer": "ipython2",
   "version": "2.7.6"
  }
 },
 "nbformat": 4,
 "nbformat_minor": 0
}