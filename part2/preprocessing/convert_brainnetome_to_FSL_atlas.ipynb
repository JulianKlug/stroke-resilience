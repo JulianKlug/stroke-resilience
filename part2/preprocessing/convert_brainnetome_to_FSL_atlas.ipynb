{
 "cells": [
  {
   "cell_type": "code",
   "execution_count": 58,
   "metadata": {
    "collapsed": true,
    "pycharm": {
     "name": "#%%\n"
    }
   },
   "outputs": [],
   "source": [
    "import pandas as pd\n",
    "import os"
   ]
  },
  {
   "cell_type": "code",
   "execution_count": 59,
   "outputs": [],
   "source": [
    "brainnetome_label_path = '/Users/jk1/Downloads/BNA_subregions.xlsx'\n",
    "brainnetome_file_path = '/BNA/BN_Atlas_246'"
   ],
   "metadata": {
    "collapsed": false,
    "pycharm": {
     "name": "#%%\n"
    }
   }
  },
  {
   "cell_type": "code",
   "execution_count": 60,
   "outputs": [],
   "source": [
    "output_folder = '/Users/jk1/temp/brainnetome_atlas'\n",
    "xml_file_path = os.path.join(output_folder, 'BNA.xml')"
   ],
   "metadata": {
    "collapsed": false,
    "pycharm": {
     "name": "#%%\n"
    }
   }
  },
  {
   "cell_type": "code",
   "execution_count": 61,
   "outputs": [
    {
     "data": {
      "text/plain": "              Lobe                          Gyrus Left and Right Hemisphere  \\\n0    Frontal Lobe   SFG, Superior Frontal Gyrus                SFG_L(R)_7_1   \n1              NaN                            NaN              SFG_L(R)_7_2   \n2              NaN                            NaN              SFG_L(R)_7_3   \n3              NaN                            NaN              SFG_L(R)_7_4   \n4              NaN                            NaN              SFG_L(R)_7_5   \n..             ...                            ...                       ...   \n118            NaN                            NaN              Tha_L(R)_8_4   \n119            NaN                            NaN              Tha_L(R)_8_5   \n120            NaN                            NaN              Tha_L(R)_8_6   \n121            NaN                            NaN              Tha_L(R)_8_7   \n122            NaN                            NaN              Tha_L(R)_8_8   \n\n     Label ID.L  Label ID.R                            Unnamed: 5  \\\n0             1           2                    A8m, medial area 8   \n1             3           4             A8dl, dorsolateral area 8   \n2             5           6                   A9l, lateral area 9   \n3             7           8             A6dl, dorsolateral area 6   \n4             9          10                    A6m, medial area 6   \n..          ...         ...                                   ...   \n118         237         238      rTtha, rostral temporal thalamus   \n119         239         240    PPtha, posterior parietal thalamus   \n120         241         242              Otha, occipital thalamus   \n121         243         244       cTtha, caudal temporal thalamus   \n122         245         246  lPFtha, lateral pre-frontal thalamus   \n\n     Anatomical and modified Cyto-architectonic descriptions  lh.MNI(X,Y,Z)  \\\n0                                                  NaN          -5 ,15, 54    \n1                                                  NaN         -18, 24, 53    \n2                                                  NaN         -11, 49, 40    \n3                                                  NaN         -18, -1, 65    \n4                                                  NaN          -6, -5, 58    \n..                                                 ...                  ...   \n118                                                NaN          -7, -14, 7    \n119                                                NaN         -16, -24, 6    \n120                                                NaN         -15, -28, 4    \n121                                                NaN        -12, -22, 13    \n122                                                NaN         -11, -14, 2    \n\n    rh.MNI(X,Y,Z)  \n0      7, 16, 54   \n1     22, 26, 51   \n2     13, 48, 40   \n3      20, 4, 64   \n4      7, -4, 60   \n..            ...  \n118    3, -13, 5   \n119   15, -25, 6   \n120   13, -27, 8   \n121  10, -14, 14   \n122   13, -16, 7   \n\n[123 rows x 9 columns]",
      "text/html": "<div>\n<style scoped>\n    .dataframe tbody tr th:only-of-type {\n        vertical-align: middle;\n    }\n\n    .dataframe tbody tr th {\n        vertical-align: top;\n    }\n\n    .dataframe thead th {\n        text-align: right;\n    }\n</style>\n<table border=\"1\" class=\"dataframe\">\n  <thead>\n    <tr style=\"text-align: right;\">\n      <th></th>\n      <th>Lobe</th>\n      <th>Gyrus</th>\n      <th>Left and Right Hemisphere</th>\n      <th>Label ID.L</th>\n      <th>Label ID.R</th>\n      <th>Unnamed: 5</th>\n      <th>Anatomical and modified Cyto-architectonic descriptions</th>\n      <th>lh.MNI(X,Y,Z)</th>\n      <th>rh.MNI(X,Y,Z)</th>\n    </tr>\n  </thead>\n  <tbody>\n    <tr>\n      <th>0</th>\n      <td>Frontal Lobe</td>\n      <td>SFG, Superior Frontal Gyrus</td>\n      <td>SFG_L(R)_7_1</td>\n      <td>1</td>\n      <td>2</td>\n      <td>A8m, medial area 8</td>\n      <td>NaN</td>\n      <td>-5 ,15, 54</td>\n      <td>7, 16, 54</td>\n    </tr>\n    <tr>\n      <th>1</th>\n      <td>NaN</td>\n      <td>NaN</td>\n      <td>SFG_L(R)_7_2</td>\n      <td>3</td>\n      <td>4</td>\n      <td>A8dl, dorsolateral area 8</td>\n      <td>NaN</td>\n      <td>-18, 24, 53</td>\n      <td>22, 26, 51</td>\n    </tr>\n    <tr>\n      <th>2</th>\n      <td>NaN</td>\n      <td>NaN</td>\n      <td>SFG_L(R)_7_3</td>\n      <td>5</td>\n      <td>6</td>\n      <td>A9l, lateral area 9</td>\n      <td>NaN</td>\n      <td>-11, 49, 40</td>\n      <td>13, 48, 40</td>\n    </tr>\n    <tr>\n      <th>3</th>\n      <td>NaN</td>\n      <td>NaN</td>\n      <td>SFG_L(R)_7_4</td>\n      <td>7</td>\n      <td>8</td>\n      <td>A6dl, dorsolateral area 6</td>\n      <td>NaN</td>\n      <td>-18, -1, 65</td>\n      <td>20, 4, 64</td>\n    </tr>\n    <tr>\n      <th>4</th>\n      <td>NaN</td>\n      <td>NaN</td>\n      <td>SFG_L(R)_7_5</td>\n      <td>9</td>\n      <td>10</td>\n      <td>A6m, medial area 6</td>\n      <td>NaN</td>\n      <td>-6, -5, 58</td>\n      <td>7, -4, 60</td>\n    </tr>\n    <tr>\n      <th>...</th>\n      <td>...</td>\n      <td>...</td>\n      <td>...</td>\n      <td>...</td>\n      <td>...</td>\n      <td>...</td>\n      <td>...</td>\n      <td>...</td>\n      <td>...</td>\n    </tr>\n    <tr>\n      <th>118</th>\n      <td>NaN</td>\n      <td>NaN</td>\n      <td>Tha_L(R)_8_4</td>\n      <td>237</td>\n      <td>238</td>\n      <td>rTtha, rostral temporal thalamus</td>\n      <td>NaN</td>\n      <td>-7, -14, 7</td>\n      <td>3, -13, 5</td>\n    </tr>\n    <tr>\n      <th>119</th>\n      <td>NaN</td>\n      <td>NaN</td>\n      <td>Tha_L(R)_8_5</td>\n      <td>239</td>\n      <td>240</td>\n      <td>PPtha, posterior parietal thalamus</td>\n      <td>NaN</td>\n      <td>-16, -24, 6</td>\n      <td>15, -25, 6</td>\n    </tr>\n    <tr>\n      <th>120</th>\n      <td>NaN</td>\n      <td>NaN</td>\n      <td>Tha_L(R)_8_6</td>\n      <td>241</td>\n      <td>242</td>\n      <td>Otha, occipital thalamus</td>\n      <td>NaN</td>\n      <td>-15, -28, 4</td>\n      <td>13, -27, 8</td>\n    </tr>\n    <tr>\n      <th>121</th>\n      <td>NaN</td>\n      <td>NaN</td>\n      <td>Tha_L(R)_8_7</td>\n      <td>243</td>\n      <td>244</td>\n      <td>cTtha, caudal temporal thalamus</td>\n      <td>NaN</td>\n      <td>-12, -22, 13</td>\n      <td>10, -14, 14</td>\n    </tr>\n    <tr>\n      <th>122</th>\n      <td>NaN</td>\n      <td>NaN</td>\n      <td>Tha_L(R)_8_8</td>\n      <td>245</td>\n      <td>246</td>\n      <td>lPFtha, lateral pre-frontal thalamus</td>\n      <td>NaN</td>\n      <td>-11, -14, 2</td>\n      <td>13, -16, 7</td>\n    </tr>\n  </tbody>\n</table>\n<p>123 rows × 9 columns</p>\n</div>"
     },
     "execution_count": 61,
     "metadata": {},
     "output_type": "execute_result"
    }
   ],
   "source": [
    "brainnetome_labels = pd.read_excel(brainnetome_label_path)\n",
    "brainnetome_labels"
   ],
   "metadata": {
    "collapsed": false,
    "pycharm": {
     "name": "#%%\n"
    }
   }
  },
  {
   "cell_type": "code",
   "execution_count": 62,
   "outputs": [],
   "source": [
    "label_string = ''"
   ],
   "metadata": {
    "collapsed": false,
    "pycharm": {
     "name": "#%%\n"
    }
   }
  },
  {
   "cell_type": "code",
   "execution_count": 63,
   "outputs": [],
   "source": [
    "for index, row in brainnetome_labels.iterrows():\n",
    "    label_L = row['Left and Right Hemisphere'].replace('L(R)', 'L')\n",
    "    label_R = row['Left and Right Hemisphere'].replace('L(R)', 'R')\n",
    "\n",
    "    index_L = row['Label ID.L']\n",
    "    index_R = row['Label ID.R']\n",
    "\n",
    "    coord_L = row['lh.MNI(X,Y,Z)'].split(',')\n",
    "    coord_R = row['rh.MNI(X,Y,Z)'].split(',')\n",
    "\n",
    "    xL = coord_L[0].strip()\n",
    "    yL = coord_L[1].strip()\n",
    "    zL = coord_L[2].strip()\n",
    "\n",
    "    xR = coord_R[0].strip()\n",
    "    yR = coord_R[1].strip()\n",
    "    zR = coord_R[2].strip()\n",
    "\n",
    "    label_string += f'<label index=\"{index_L}\" x=\"{xL}\" y=\"{yL}\" z=\"{zL}\">{label_L}</label>\\n'\n",
    "    label_string += f'<label index=\"{index_R}\" x=\"{xR}\" y=\"{yR}\" z=\"{zR}\">{label_R}</label>\\n'"
   ],
   "metadata": {
    "collapsed": false,
    "pycharm": {
     "name": "#%%\n"
    }
   }
  },
  {
   "cell_type": "code",
   "execution_count": 64,
   "outputs": [],
   "source": [
    "xml = f\"\"\"<?xml version=\"1.0\" encoding=\"ISO-8859-1\"?>\n",
    "<atlas version=\"1.0\">\n",
    "  <header>\n",
    "    <name>Brainnetome Atlas</name>\n",
    "    <shortname>BNA</shortname>\n",
    "    <type>Label</type>\n",
    "    <images>\n",
    "      <imagefile>{brainnetome_file_path}</imagefile>\n",
    "      <summaryimagefile>{brainnetome_file_path}</summaryimagefile>\n",
    "    </images>\n",
    "  </header>\n",
    "  <data>\n",
    "{label_string}\n",
    "  </data>\n",
    "</atlas>\n",
    "\"\"\""
   ],
   "metadata": {
    "collapsed": false,
    "pycharm": {
     "name": "#%%\n"
    }
   }
  },
  {
   "cell_type": "code",
   "execution_count": 65,
   "outputs": [
    {
     "name": "stdout",
     "output_type": "stream",
     "text": [
      "<?xml version=\"1.0\" encoding=\"ISO-8859-1\"?>\n",
      "<atlas version=\"1.0\">\n",
      "  <header>\n",
      "    <name>Brainnetome Atlas</name>\n",
      "    <shortname>BNA</shortname>\n",
      "    <type>Label</type>\n",
      "    <images>\n",
      "      <imagefile>/BNA/BN_Atlas_246</imagefile>\n",
      "      <summaryimagefile>/BNA/BN_Atlas_246</summaryimagefile>\n",
      "    </images>\n",
      "  </header>\n",
      "  <data>\n",
      "<label index=\"1\" x=\"-5\" y=\"15\" z=\"54\">SFG_L_7_1</label>\n",
      "<label index=\"2\" x=\"7\" y=\"16\" z=\"54\">SFG_R_7_1</label>\n",
      "<label index=\"3\" x=\"-18\" y=\"24\" z=\"53\">SFG_L_7_2</label>\n",
      "<label index=\"4\" x=\"22\" y=\"26\" z=\"51\">SFG_R_7_2</label>\n",
      "<label index=\"5\" x=\"-11\" y=\"49\" z=\"40\">SFG_L_7_3</label>\n",
      "<label index=\"6\" x=\"13\" y=\"48\" z=\"40\">SFG_R_7_3</label>\n",
      "<label index=\"7\" x=\"-18\" y=\"-1\" z=\"65\">SFG_L_7_4</label>\n",
      "<label index=\"8\" x=\"20\" y=\"4\" z=\"64\">SFG_R_7_4</label>\n",
      "<label index=\"9\" x=\"-6\" y=\"-5\" z=\"58\">SFG_L_7_5</label>\n",
      "<label index=\"10\" x=\"7\" y=\"-4\" z=\"60\">SFG_R_7_5</label>\n",
      "<label index=\"11\" x=\"-5\" y=\"36\" z=\"38\">SFG_L_7_6</label>\n",
      "<label index=\"12\" x=\"6\" y=\"38\" z=\"35\">SFG_R_7_6</label>\n",
      "<label index=\"13\" x=\"-8\" y=\"56\" z=\"15\">SFG_L_7_7</label>\n",
      "<label index=\"14\" x=\"8\" y=\"58\" z=\"13\">SFG_R_7_7</label>\n",
      "<label index=\"15\" x=\"-27\" y=\"43\" z=\"31\">MFG_L_7_1</label>\n",
      "<label index=\"16\" x=\"30\" y=\"37\" z=\"36\">MFG_R_7_1</label>\n",
      "<label index=\"17\" x=\"-42\" y=\"13\" z=\"36\">MFG_L_7_2</label>\n",
      "<label index=\"18\" x=\"42\" y=\"11\" z=\"39\">MFG_R_7_2</label>\n",
      "<label index=\"19\" x=\"-28\" y=\"56\" z=\"12\">MFG_L_7_3</label>\n",
      "<label index=\"20\" x=\"28\" y=\"55\" z=\"17\">MFG_R_7_3</label>\n",
      "<label index=\"21\" x=\"-41\" y=\"41\" z=\"16\">MFG_L_7_4</label>\n",
      "<label index=\"22\" x=\"42\" y=\"44\" z=\"14\">MFG_R_7_4</label>\n",
      "<label index=\"23\" x=\"-33\" y=\"23\" z=\"45\">MFG_L_7_5</label>\n",
      "<label index=\"24\" x=\"42\" y=\"27\" z=\"39\">MFG_R_7_5</label>\n",
      "<label index=\"25\" x=\"-32\" y=\"4\" z=\"55\">MFG_L_7_6</label>\n",
      "<label index=\"26\" x=\"34\" y=\"8\" z=\"54\">MFG_R_7_6</label>\n",
      "<label index=\"27\" x=\"-26\" y=\"60\" z=\"-6\">MFG_L_7_7</label>\n",
      "<label index=\"28\" x=\"25\" y=\"61\" z=\"-4\">MFG_R_7_7</label>\n",
      "<label index=\"29\" x=\"-46\" y=\"13\" z=\"24\">IFG_L_6_1</label>\n",
      "<label index=\"30\" x=\"45\" y=\"16\" z=\"25\">IFG_R_6_1</label>\n",
      "<label index=\"31\" x=\"-47\" y=\"32\" z=\"14\">IFG_L_6_2</label>\n",
      "<label index=\"32\" x=\"48\" y=\"35\" z=\"13\">IFG_R_6_2</label>\n",
      "<label index=\"33\" x=\"-53\" y=\"23\" z=\"11\">IFG_L_6_3</label>\n",
      "<label index=\"34\" x=\"54\" y=\"24\" z=\"12\">IFG_R_6_3</label>\n",
      "<label index=\"35\" x=\"-49\" y=\"36\" z=\"-3\">IFG_L_6_4</label>\n",
      "<label index=\"36\" x=\"51\" y=\"36\" z=\"-1\">IFG_R_6_4</label>\n",
      "<label index=\"37\" x=\"-39\" y=\"23\" z=\"4\">IFG_L_6_5</label>\n",
      "<label index=\"38\" x=\"42\" y=\"22\" z=\"3\">IFG_R_6_5</label>\n",
      "<label index=\"39\" x=\"-52\" y=\"13\" z=\"6\">IFG_L_6_6</label>\n",
      "<label index=\"40\" x=\"54\" y=\"14\" z=\"11\">IFG_R_6_6</label>\n",
      "<label index=\"41\" x=\"-7\" y=\"54\" z=\"-7\">OrG_L_6_1</label>\n",
      "<label index=\"42\" x=\"6\" y=\"47\" z=\"-7\">OrG_R_6_1</label>\n",
      "<label index=\"43\" x=\"-36\" y=\"33\" z=\"-16\">OrG_L_6_2</label>\n",
      "<label index=\"44\" x=\"40\" y=\"39\" z=\"-14\">OrG_R_6_2</label>\n",
      "<label index=\"45\" x=\"-23\" y=\"38\" z=\"-18\">OrG_L_6_3</label>\n",
      "<label index=\"46\" x=\"23\" y=\"36\" z=\"-18\">OrG_R_6_3</label>\n",
      "<label index=\"47\" x=\"-6\" y=\"52\" z=\"-19\">OrG_L_6_4</label>\n",
      "<label index=\"48\" x=\"6\" y=\"57\" z=\"-16\">OrG_R_6_4</label>\n",
      "<label index=\"49\" x=\"-10\" y=\"18\" z=\"-19\">OrG_L_6_5</label>\n",
      "<label index=\"50\" x=\"9\" y=\"20\" z=\"-19\">OrG_R_6_5</label>\n",
      "<label index=\"51\" x=\"-41\" y=\"32\" z=\"-9\">OrG_L_6_6</label>\n",
      "<label index=\"52\" x=\"42\" y=\"31\" z=\"-9\">OrG_R_6_6</label>\n",
      "<label index=\"53\" x=\"-49\" y=\"-8\" z=\"39\">PrG_L_6_1</label>\n",
      "<label index=\"54\" x=\"55\" y=\"-2\" z=\"33\">PrG_R_6_1</label>\n",
      "<label index=\"55\" x=\"-32\" y=\"-9\" z=\"58\">PrG_L_6_2</label>\n",
      "<label index=\"56\" x=\"33\" y=\"-7\" z=\"57\">PrG_R_6_2</label>\n",
      "<label index=\"57\" x=\"-26\" y=\"-25\" z=\"63\">PrG_L_6_3</label>\n",
      "<label index=\"58\" x=\"34\" y=\"-19\" z=\"59\">PrG_R_6_3</label>\n",
      "<label index=\"59\" x=\"-13\" y=\"-20\" z=\"73\">PrG_L_6_4</label>\n",
      "<label index=\"60\" x=\"15\" y=\"-22\" z=\"71\">PrG_R_6_4</label>\n",
      "<label index=\"61\" x=\"-52\" y=\"0\" z=\"8\">PrG_L_6_5</label>\n",
      "<label index=\"62\" x=\"54\" y=\"4\" z=\"9\">PrG_R_6_5</label>\n",
      "<label index=\"63\" x=\"-49\" y=\"5\" z=\"30\">PrG_L_6_6</label>\n",
      "<label index=\"64\" x=\"51\" y=\"7\" z=\"30\">PrG_R_6_6</label>\n",
      "<label index=\"65\" x=\"-8\" y=\"-38\" z=\"58\">PCL_L_2_1</label>\n",
      "<label index=\"66\" x=\"10\" y=\"-34\" z=\"54\">PCL_R_2_1</label>\n",
      "<label index=\"67\" x=\"-4\" y=\"-23\" z=\"61\">PCL_L_2_2</label>\n",
      "<label index=\"68\" x=\"5\" y=\"-21\" z=\"61\">PCL_R_2_2</label>\n",
      "<label index=\"69\" x=\"-32\" y=\"14\" z=\"-34\">STG_L_6_1</label>\n",
      "<label index=\"70\" x=\"31\" y=\"15\" z=\"-34\">STG_R_6_1</label>\n",
      "<label index=\"71\" x=\"-54\" y=\"-32\" z=\"12\">STG_L_6_2</label>\n",
      "<label index=\"72\" x=\"54\" y=\"-24\" z=\"11\">STG_R_6_2</label>\n",
      "<label index=\"73\" x=\"-50\" y=\"-11\" z=\"1\">STG_L_6_3</label>\n",
      "<label index=\"74\" x=\"51\" y=\"-4\" z=\"-1\">STG_R_6_3</label>\n",
      "<label index=\"75\" x=\"-62\" y=\"-33\" z=\"7\">STG_L_6_4</label>\n",
      "<label index=\"76\" x=\"66\" y=\"-20\" z=\"6\">STG_R_6_4</label>\n",
      "<label index=\"77\" x=\"-45\" y=\"11\" z=\"-20\">STG_L_6_5</label>\n",
      "<label index=\"78\" x=\"47\" y=\"12\" z=\"-20\">STG_R_6_5</label>\n",
      "<label index=\"79\" x=\"-55\" y=\"-3\" z=\"-10\">STG_L_6_6</label>\n",
      "<label index=\"80\" x=\"56\" y=\"-12\" z=\"-5\">STG_R_6_6</label>\n",
      "<label index=\"81\" x=\"-65\" y=\"-30\" z=\"-12\">MTG_L_4_1</label>\n",
      "<label index=\"82\" x=\"65\" y=\"-29\" z=\"-13\">MTG_R_4_1</label>\n",
      "<label index=\"83\" x=\"-53\" y=\"2\" z=\"-30\">MTG_L_4_2</label>\n",
      "<label index=\"84\" x=\"51\" y=\"6\" z=\"-32\">MTG_R_4_2</label>\n",
      "<label index=\"85\" x=\"-59\" y=\"-58\" z=\"4\">MTG_L_4_3</label>\n",
      "<label index=\"86\" x=\"60\" y=\"-53\" z=\"3\">MTG_R_4_3</label>\n",
      "<label index=\"87\" x=\"-58\" y=\"-20\" z=\"-9\">MTG_L_4_4</label>\n",
      "<label index=\"88\" x=\"58\" y=\"-16\" z=\"-10\">MTG_R_4_4</label>\n",
      "<label index=\"89\" x=\"-45\" y=\"-26\" z=\"-27\">ITG_L_7_1</label>\n",
      "<label index=\"90\" x=\"46\" y=\"-14\" z=\"-33\">ITG_R_7_1</label>\n",
      "<label index=\"91\" x=\"-51\" y=\"-57\" z=\"-15\">ITG_L_7_2</label>\n",
      "<label index=\"92\" x=\"53\" y=\"-52\" z=\"-18\">ITG_R_7_2</label>\n",
      "<label index=\"93\" x=\"-43\" y=\"-2\" z=\"-41\">ITG_L_7_3</label>\n",
      "<label index=\"94\" x=\"40\" y=\"0\" z=\"-43\">ITG_R_7_3</label>\n",
      "<label index=\"95\" x=\"-56\" y=\"-16\" z=\"-28\">ITG_L_7_4</label>\n",
      "<label index=\"96\" x=\"55\" y=\"-11\" z=\"-32\">ITG_R_7_4</label>\n",
      "<label index=\"97\" x=\"-55\" y=\"-60\" z=\"-6\">ITG_L_7_5</label>\n",
      "<label index=\"98\" x=\"54\" y=\"-57\" z=\"-8\">ITG_R_7_5</label>\n",
      "<label index=\"99\" x=\"-59\" y=\"-42\" z=\"-16\">ITG_L_7_6</label>\n",
      "<label index=\"100\" x=\"61\" y=\"-40\" z=\"-17\">ITG_R_7_6</label>\n",
      "<label index=\"101\" x=\"-55\" y=\"-31\" z=\"-27\">ITG_L_7_7</label>\n",
      "<label index=\"102\" x=\"54\" y=\"-31\" z=\"-26\">ITG_R_7_7</label>\n",
      "<label index=\"103\" x=\"-33\" y=\"-16\" z=\"-32\">FuG_L_3_1</label>\n",
      "<label index=\"104\" x=\"33\" y=\"-15\" z=\"-34\">FuG_R_3_1</label>\n",
      "<label index=\"105\" x=\"-31\" y=\"-64\" z=\"-14\">FuG_L_3_2</label>\n",
      "<label index=\"106\" x=\"31\" y=\"-62\" z=\"-14\">FuG_R_3_2</label>\n",
      "<label index=\"107\" x=\"-42\" y=\"-51\" z=\"-17\">FuG_L_3_3</label>\n",
      "<label index=\"108\" x=\"43\" y=\"-49\" z=\"-19\">FuG_R_3_3</label>\n",
      "<label index=\"109\" x=\"-27\" y=\"-7\" z=\"-34\">PhG_L_6_1</label>\n",
      "<label index=\"110\" x=\"28\" y=\"-8\" z=\"-33\">PhG_R_6_1</label>\n",
      "<label index=\"111\" x=\"-25\" y=\"-25\" z=\"-26\">PhG_L_6_2</label>\n",
      "<label index=\"112\" x=\"26\" y=\"-23\" z=\"-27\">PhG_R_6_2</label>\n",
      "<label index=\"113\" x=\"-28\" y=\"-32\" z=\"-18\">PhG_L_6_3</label>\n",
      "<label index=\"114\" x=\"30\" y=\"-30\" z=\"-18\">PhG_R_6_3</label>\n",
      "<label index=\"115\" x=\"-19\" y=\"-12\" z=\"-30\">PhG_L_6_4</label>\n",
      "<label index=\"116\" x=\"19\" y=\"-10\" z=\"-30\">PhG_R_6_4</label>\n",
      "<label index=\"117\" x=\"-23\" y=\"2\" z=\"-32\">PhG_L_6_5</label>\n",
      "<label index=\"118\" x=\"22\" y=\"1\" z=\"-36\">PhG_R_6_5</label>\n",
      "<label index=\"119\" x=\"-17\" y=\"-39\" z=\"-10\">PhG_L_6_6</label>\n",
      "<label index=\"120\" x=\"19\" y=\"-36\" z=\"-11\">PhG_R_6_6</label>\n",
      "<label index=\"121\" x=\"-54\" y=\"-40\" z=\"4\">pSTS_L_2_1</label>\n",
      "<label index=\"122\" x=\"53\" y=\"-37\" z=\"3\">pSTS_R_2_1</label>\n",
      "<label index=\"123\" x=\"-52\" y=\"-50\" z=\"11\">pSTS_L_2_2</label>\n",
      "<label index=\"124\" x=\"57\" y=\"-40\" z=\"12\">pSTS_R_2_2</label>\n",
      "<label index=\"125\" x=\"-16\" y=\"-60\" z=\"63\">SPL_L_5_1</label>\n",
      "<label index=\"126\" x=\"19\" y=\"-57\" z=\"65\">SPL_R_5_1</label>\n",
      "<label index=\"127\" x=\"-15\" y=\"-71\" z=\"52\">SPL_L_5_2</label>\n",
      "<label index=\"128\" x=\"19\" y=\"-69\" z=\"54\">SPL_R_5_2</label>\n",
      "<label index=\"129\" x=\"-33\" y=\"-47\" z=\"50\">SPL_L_5_3</label>\n",
      "<label index=\"130\" x=\"35\" y=\"-42\" z=\"54\">SPL_R_5_3</label>\n",
      "<label index=\"131\" x=\"-22\" y=\"-47\" z=\"65\">SPL_L_5_4</label>\n",
      "<label index=\"132\" x=\"23\" y=\"-43\" z=\"67\">SPL_R_5_4</label>\n",
      "<label index=\"133\" x=\"-27\" y=\"-59\" z=\"54\">SPL_L_5_5</label>\n",
      "<label index=\"134\" x=\"31\" y=\"-54\" z=\"53\">SPL_R_5_5</label>\n",
      "<label index=\"135\" x=\"-34\" y=\"-80\" z=\"29\">IPL_L_6_1</label>\n",
      "<label index=\"136\" x=\"45\" y=\"-71\" z=\"20\">IPL_R_6_1</label>\n",
      "<label index=\"137\" x=\"-38\" y=\"-61\" z=\"46\">IPL_L_6_2</label>\n",
      "<label index=\"138\" x=\"39\" y=\"-65\" z=\"44\">IPL_R_6_2</label>\n",
      "<label index=\"139\" x=\"-51\" y=\"-33\" z=\"42\">IPL_L_6_3</label>\n",
      "<label index=\"140\" x=\"47\" y=\"-35\" z=\"45\">IPL_R_6_3</label>\n",
      "<label index=\"141\" x=\"-56\" y=\"-49\" z=\"38\">IPL_L_6_4</label>\n",
      "<label index=\"142\" x=\"57\" y=\"-44\" z=\"38\">IPL_R_6_4</label>\n",
      "<label index=\"143\" x=\"-47\" y=\"-65\" z=\"26\">IPL_L_6_5</label>\n",
      "<label index=\"144\" x=\"53\" y=\"-54\" z=\"25\">IPL_R_6_5</label>\n",
      "<label index=\"145\" x=\"-53\" y=\"-31\" z=\"23\">IPL_L_6_6</label>\n",
      "<label index=\"146\" x=\"55\" y=\"-26\" z=\"26\">IPL_R_6_6</label>\n",
      "<label index=\"147\" x=\"-5\" y=\"-63\" z=\"51\">PCun_L_4_1</label>\n",
      "<label index=\"148\" x=\"6\" y=\"-65\" z=\"51\">PCun_R_4_1</label>\n",
      "<label index=\"149\" x=\"-8\" y=\"-47\" z=\"57\">PCun_L_4_2</label>\n",
      "<label index=\"150\" x=\"7\" y=\"-47\" z=\"58\">PCun_R_4_2</label>\n",
      "<label index=\"151\" x=\"-12\" y=\"-67\" z=\"25\">PCun_L_4_3</label>\n",
      "<label index=\"152\" x=\"16\" y=\"-64\" z=\"25\">PCun_R_4_3</label>\n",
      "<label index=\"153\" x=\"-6\" y=\"-55\" z=\"34\">PCun_L_4_4</label>\n",
      "<label index=\"154\" x=\"6\" y=\"-54\" z=\"35\">PCun_R_4_4</label>\n",
      "<label index=\"155\" x=\"-50\" y=\"-16\" z=\"43\">PoG_L_4_1</label>\n",
      "<label index=\"156\" x=\"50\" y=\"-14\" z=\"44\">PoG_R_4_1</label>\n",
      "<label index=\"157\" x=\"-56\" y=\"-14\" z=\"16\">PoG_L_4_2</label>\n",
      "<label index=\"158\" x=\"56\" y=\"-10\" z=\"15\">PoG_R_4_2</label>\n",
      "<label index=\"159\" x=\"-46\" y=\"-30\" z=\"50\">PoG_L_4_3</label>\n",
      "<label index=\"160\" x=\"48\" y=\"-24\" z=\"48\">PoG_R_4_3</label>\n",
      "<label index=\"161\" x=\"-21\" y=\"-35\" z=\"68\">PoG_L_4_4</label>\n",
      "<label index=\"162\" x=\"20\" y=\"-33\" z=\"69\">PoG_R_4_4</label>\n",
      "<label index=\"163\" x=\"-36\" y=\"-20\" z=\"10\">INS_L_6_1</label>\n",
      "<label index=\"164\" x=\"37\" y=\"-18\" z=\"8\">INS_R_6_1</label>\n",
      "<label index=\"165\" x=\"-32\" y=\"14\" z=\"-13\">INS_L_6_2</label>\n",
      "<label index=\"166\" x=\"33\" y=\"14\" z=\"-13\">INS_R_6_2</label>\n",
      "<label index=\"167\" x=\"-34\" y=\"18\" z=\"1\">INS_L_6_3</label>\n",
      "<label index=\"168\" x=\"36\" y=\"18\" z=\"1\">INS_R_6_3</label>\n",
      "<label index=\"169\" x=\"-38\" y=\"-4\" z=\"-9\">INS_L_6_4</label>\n",
      "<label index=\"170\" x=\"39\" y=\"-2\" z=\"-9\">INS_R_6_4</label>\n",
      "<label index=\"171\" x=\"-38\" y=\"-8\" z=\"8\">INS_L_6_5</label>\n",
      "<label index=\"172\" x=\"39\" y=\"-7\" z=\"8\">INS_R_6_5</label>\n",
      "<label index=\"173\" x=\"-38\" y=\"5\" z=\"5\">INS_L_6_6</label>\n",
      "<label index=\"174\" x=\"38\" y=\"5\" z=\"5\">INS_R_6_6</label>\n",
      "<label index=\"175\" x=\"-4\" y=\"-39\" z=\"31\">CG_L_7_1</label>\n",
      "<label index=\"176\" x=\"4\" y=\"-37\" z=\"32\">CG_R_7_1</label>\n",
      "<label index=\"177\" x=\"-3\" y=\"8\" z=\"25\">CG_L_7_2</label>\n",
      "<label index=\"178\" x=\"5\" y=\"22\" z=\"12\">CG_R_7_2</label>\n",
      "<label index=\"179\" x=\"-6\" y=\"34\" z=\"21\">CG_L_7_3</label>\n",
      "<label index=\"180\" x=\"5\" y=\"28\" z=\"27\">CG_R_7_3</label>\n",
      "<label index=\"181\" x=\"-8\" y=\"-47\" z=\"10\">CG_L_7_4</label>\n",
      "<label index=\"182\" x=\"9\" y=\"-44\" z=\"11\">CG_R_7_4</label>\n",
      "<label index=\"183\" x=\"-5\" y=\"7\" z=\"37\">CG_L_7_5</label>\n",
      "<label index=\"184\" x=\"4\" y=\"6\" z=\"38\">CG_R_7_5</label>\n",
      "<label index=\"185\" x=\"-7\" y=\"-23\" z=\"41\">CG_L_7_6</label>\n",
      "<label index=\"186\" x=\"6\" y=\"-20\" z=\"40\">CG_R_7_6</label>\n",
      "<label index=\"187\" x=\"-4\" y=\"39\" z=\"-2\">CG_L_7_7</label>\n",
      "<label index=\"188\" x=\"5\" y=\"41\" z=\"6\">CG_R_7_7</label>\n",
      "<label index=\"189\" x=\"-11\" y=\"-82\" z=\"-11\">MVOcC _L_5_1</label>\n",
      "<label index=\"190\" x=\"10\" y=\"-85\" z=\"-9\">MVOcC _R_5_1</label>\n",
      "<label index=\"191\" x=\"-5\" y=\"-81\" z=\"10\">MVOcC _L_5_2</label>\n",
      "<label index=\"192\" x=\"7\" y=\"-76\" z=\"11\">MVOcC _R_5_2</label>\n",
      "<label index=\"193\" x=\"-6\" y=\"-94\" z=\"1\">MVOcC _L_5_3</label>\n",
      "<label index=\"194\" x=\"8\" y=\"-90\" z=\"12\">MVOcC _R_5_3</label>\n",
      "<label index=\"195\" x=\"-17\" y=\"-60\" z=\"-6\">MVOcC _L_5_4</label>\n",
      "<label index=\"196\" x=\"18\" y=\"-60\" z=\"-7\">MVOcC _R_5_4</label>\n",
      "<label index=\"197\" x=\"-13\" y=\"-68\" z=\"12\">MVOcC _L_5_5</label>\n",
      "<label index=\"198\" x=\"15\" y=\"-63\" z=\"12\">MVOcC _R_5_5</label>\n",
      "<label index=\"199\" x=\"-31\" y=\"-89\" z=\"11\">LOcC_L_4_1</label>\n",
      "<label index=\"200\" x=\"34\" y=\"-86\" z=\"11\">LOcC_R_4_1</label>\n",
      "<label index=\"201\" x=\"-46\" y=\"-74\" z=\"3\">LOcC _L_4_2</label>\n",
      "<label index=\"202\" x=\"48\" y=\"-70\" z=\"-1\">LOcC _R_4_2</label>\n",
      "<label index=\"203\" x=\"-18\" y=\"-99\" z=\"2\">LOcC _L_4_3</label>\n",
      "<label index=\"204\" x=\"22\" y=\"-97\" z=\"4\">LOcC _R_4_3</label>\n",
      "<label index=\"205\" x=\"-30\" y=\"-88\" z=\"-12\">LOcC_L_4_4</label>\n",
      "<label index=\"206\" x=\"32\" y=\"-85\" z=\"-12\">LOcC_R_4_4</label>\n",
      "<label index=\"207\" x=\"-11\" y=\"-88\" z=\"31\">LOcC _L_2_1</label>\n",
      "<label index=\"208\" x=\"16\" y=\"-85\" z=\"34\">LOcC _R_2_1</label>\n",
      "<label index=\"209\" x=\"-22\" y=\"-77\" z=\"36\">LOcC _L_2_2</label>\n",
      "<label index=\"210\" x=\"29\" y=\"-75\" z=\"36\">LOcC _R_2_2</label>\n",
      "<label index=\"211\" x=\"-19\" y=\"-2\" z=\"-20\">Amyg_L_2_1</label>\n",
      "<label index=\"212\" x=\"19\" y=\"-2\" z=\"-19\">Amyg_R_2_1</label>\n",
      "<label index=\"213\" x=\"-27\" y=\"-4\" z=\"-20\">Amyg_L_2_2</label>\n",
      "<label index=\"214\" x=\"28\" y=\"-3\" z=\"-20\">Amyg_R_2_2</label>\n",
      "<label index=\"215\" x=\"-22\" y=\"-14\" z=\"-19\">Hipp_L_2_1</label>\n",
      "<label index=\"216\" x=\"22\" y=\"-12\" z=\"-20\">Hipp_R_2_1</label>\n",
      "<label index=\"217\" x=\"-28\" y=\"-30\" z=\"-10\">Hipp_L_2_2</label>\n",
      "<label index=\"218\" x=\"29\" y=\"-27\" z=\"-10\">Hipp_R_2_2</label>\n",
      "<label index=\"219\" x=\"-12\" y=\"14\" z=\"0\">BG_L_6_1</label>\n",
      "<label index=\"220\" x=\"15\" y=\"14\" z=\"-2\">BG_R_6_1</label>\n",
      "<label index=\"221\" x=\"-22\" y=\"-2\" z=\"4\">BG_L_6_2</label>\n",
      "<label index=\"222\" x=\"22\" y=\"-2\" z=\"3\">BG_R_6_2</label>\n",
      "<label index=\"223\" x=\"-17\" y=\"3\" z=\"-9\">BG_L_6_3</label>\n",
      "<label index=\"224\" x=\"15\" y=\"8\" z=\"-9\">BG_R_6_3</label>\n",
      "<label index=\"225\" x=\"-23\" y=\"7\" z=\"-4\">BG_L_6_4</label>\n",
      "<label index=\"226\" x=\"22\" y=\"8\" z=\"-1\">BG_R_6_4</label>\n",
      "<label index=\"227\" x=\"-14\" y=\"2\" z=\"16\">BG_L_6_5</label>\n",
      "<label index=\"228\" x=\"14\" y=\"5\" z=\"14\">BG_R_6_5</label>\n",
      "<label index=\"229\" x=\"-28\" y=\"-5\" z=\"2\">BG_L_6_6</label>\n",
      "<label index=\"230\" x=\"29\" y=\"-3\" z=\"1\">BG_R_6_6</label>\n",
      "<label index=\"231\" x=\"-7\" y=\"-12\" z=\"5\">Tha_L_8_1</label>\n",
      "<label index=\"232\" x=\"7\" y=\"-11\" z=\"6\">Tha_R_8_1</label>\n",
      "<label index=\"233\" x=\"-18\" y=\"-13\" z=\"3\">Tha_L_8_2</label>\n",
      "<label index=\"234\" x=\"12\" y=\"-14\" z=\"1\">Tha_R_8_2</label>\n",
      "<label index=\"235\" x=\"-18\" y=\"-23\" z=\"4\">Tha_L_8_3</label>\n",
      "<label index=\"236\" x=\"18\" y=\"-22\" z=\"3\">Tha_R_8_3</label>\n",
      "<label index=\"237\" x=\"-7\" y=\"-14\" z=\"7\">Tha_L_8_4</label>\n",
      "<label index=\"238\" x=\"3\" y=\"-13\" z=\"5\">Tha_R_8_4</label>\n",
      "<label index=\"239\" x=\"-16\" y=\"-24\" z=\"6\">Tha_L_8_5</label>\n",
      "<label index=\"240\" x=\"15\" y=\"-25\" z=\"6\">Tha_R_8_5</label>\n",
      "<label index=\"241\" x=\"-15\" y=\"-28\" z=\"4\">Tha_L_8_6</label>\n",
      "<label index=\"242\" x=\"13\" y=\"-27\" z=\"8\">Tha_R_8_6</label>\n",
      "<label index=\"243\" x=\"-12\" y=\"-22\" z=\"13\">Tha_L_8_7</label>\n",
      "<label index=\"244\" x=\"10\" y=\"-14\" z=\"14\">Tha_R_8_7</label>\n",
      "<label index=\"245\" x=\"-11\" y=\"-14\" z=\"2\">Tha_L_8_8</label>\n",
      "<label index=\"246\" x=\"13\" y=\"-16\" z=\"7\">Tha_R_8_8</label>\n",
      "\n",
      "  </data>\n",
      "</atlas>\n",
      "\n"
     ]
    }
   ],
   "source": [
    "print(xml)"
   ],
   "metadata": {
    "collapsed": false,
    "pycharm": {
     "name": "#%%\n"
    }
   }
  },
  {
   "cell_type": "code",
   "execution_count": 66,
   "outputs": [],
   "source": [
    "with open(xml_file_path, \"w\") as xml_file:\n",
    "    xml_file.write(xml)"
   ],
   "metadata": {
    "collapsed": false,
    "pycharm": {
     "name": "#%%\n"
    }
   }
  },
  {
   "cell_type": "code",
   "execution_count": 66,
   "outputs": [],
   "source": [],
   "metadata": {
    "collapsed": false,
    "pycharm": {
     "name": "#%%\n"
    }
   }
  }
 ],
 "metadata": {
  "kernelspec": {
   "display_name": "Python 3",
   "language": "python",
   "name": "python3"
  },
  "language_info": {
   "codemirror_mode": {
    "name": "ipython",
    "version": 2
   },
   "file_extension": ".py",
   "mimetype": "text/x-python",
   "name": "python",
   "nbconvert_exporter": "python",
   "pygments_lexer": "ipython2",
   "version": "2.7.6"
  }
 },
 "nbformat": 4,
 "nbformat_minor": 0
}