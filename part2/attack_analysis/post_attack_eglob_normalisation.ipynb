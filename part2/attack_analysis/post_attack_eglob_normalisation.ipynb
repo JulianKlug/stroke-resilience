{
 "cells": [
  {
   "cell_type": "code",
   "execution_count": 70,
   "id": "initial_id",
   "metadata": {
    "collapsed": true,
    "ExecuteTime": {
     "end_time": "2023-10-01T07:51:14.725549Z",
     "start_time": "2023-10-01T07:51:14.551491Z"
    }
   },
   "outputs": [],
   "source": [
    "import pandas as pd\n",
    "import numpy as np\n",
    "import seaborn as sns"
   ]
  },
  {
   "cell_type": "code",
   "execution_count": 71,
   "outputs": [],
   "source": [
    "data_path = '/Users/jk1/temp/resilience_part2/atttacks/simplified_delta_eglob_auc_post_attack.xlsx'"
   ],
   "metadata": {
    "collapsed": false,
    "ExecuteTime": {
     "end_time": "2023-10-01T07:51:14.731118Z",
     "start_time": "2023-10-01T07:51:14.575931Z"
    }
   },
   "id": "607a8f4cc9ff7a3e"
  },
  {
   "cell_type": "code",
   "execution_count": 72,
   "outputs": [],
   "source": [
    "patient_data = pd.read_excel(data_path, sheet_name='patients')\n",
    "control_data = pd.read_excel(data_path, sheet_name='controls')"
   ],
   "metadata": {
    "collapsed": false,
    "ExecuteTime": {
     "end_time": "2023-10-01T07:51:16.153658Z",
     "start_time": "2023-10-01T07:51:14.597992Z"
    }
   },
   "id": "5ec6f34c768fdba9"
  },
  {
   "cell_type": "code",
   "execution_count": 73,
   "outputs": [],
   "source": [
    "patient_data.rename(columns={'WITHOUT 0': 'id'}, inplace=True)\n",
    "patient_data.rename(columns={'sTP1- aTP1 ': 'TP1', 'sTP2-aTP2': 'TP2', 'sTP3-aTP3':'TP3'}, inplace=True)"
   ],
   "metadata": {
    "collapsed": false,
    "ExecuteTime": {
     "end_time": "2023-10-01T07:51:16.161867Z",
     "start_time": "2023-10-01T07:51:16.157490Z"
    }
   },
   "id": "20e6bb17e931e932"
  },
  {
   "cell_type": "code",
   "execution_count": 74,
   "outputs": [],
   "source": [
    "control_data.rename(columns={'WITHOUT 0': 'id'}, inplace=True)\n",
    "control_data.rename(columns={'sTP1- aTP1 ': 'TP1', 'sTP2-aTP2': 'TP2'}, inplace=True)"
   ],
   "metadata": {
    "collapsed": false,
    "ExecuteTime": {
     "end_time": "2023-10-01T07:51:16.187097Z",
     "start_time": "2023-10-01T07:51:16.161373Z"
    }
   },
   "id": "7e6812809eef173d"
  },
  {
   "cell_type": "code",
   "execution_count": 76,
   "outputs": [
    {
     "data": {
      "text/plain": "            attack          TP1          TP2          TP3\ncount  8985.000000  8985.000000  8985.000000  7205.000000\nmean     61.675793     0.000354     0.000354     0.000399\nstd      35.434236     0.001056     0.001013     0.001062\nmin       1.000000    -0.015321    -0.020265    -0.010070\n25%      31.000000    -0.000112    -0.000100    -0.000077\n50%      62.000000     0.000185     0.000192     0.000208\n75%      92.000000     0.000708     0.000683     0.000734\nmax     123.000000     0.010819     0.009297     0.011882",
      "text/html": "<div>\n<style scoped>\n    .dataframe tbody tr th:only-of-type {\n        vertical-align: middle;\n    }\n\n    .dataframe tbody tr th {\n        vertical-align: top;\n    }\n\n    .dataframe thead th {\n        text-align: right;\n    }\n</style>\n<table border=\"1\" class=\"dataframe\">\n  <thead>\n    <tr style=\"text-align: right;\">\n      <th></th>\n      <th>attack</th>\n      <th>TP1</th>\n      <th>TP2</th>\n      <th>TP3</th>\n    </tr>\n  </thead>\n  <tbody>\n    <tr>\n      <th>count</th>\n      <td>8985.000000</td>\n      <td>8985.000000</td>\n      <td>8985.000000</td>\n      <td>7205.000000</td>\n    </tr>\n    <tr>\n      <th>mean</th>\n      <td>61.675793</td>\n      <td>0.000354</td>\n      <td>0.000354</td>\n      <td>0.000399</td>\n    </tr>\n    <tr>\n      <th>std</th>\n      <td>35.434236</td>\n      <td>0.001056</td>\n      <td>0.001013</td>\n      <td>0.001062</td>\n    </tr>\n    <tr>\n      <th>min</th>\n      <td>1.000000</td>\n      <td>-0.015321</td>\n      <td>-0.020265</td>\n      <td>-0.010070</td>\n    </tr>\n    <tr>\n      <th>25%</th>\n      <td>31.000000</td>\n      <td>-0.000112</td>\n      <td>-0.000100</td>\n      <td>-0.000077</td>\n    </tr>\n    <tr>\n      <th>50%</th>\n      <td>62.000000</td>\n      <td>0.000185</td>\n      <td>0.000192</td>\n      <td>0.000208</td>\n    </tr>\n    <tr>\n      <th>75%</th>\n      <td>92.000000</td>\n      <td>0.000708</td>\n      <td>0.000683</td>\n      <td>0.000734</td>\n    </tr>\n    <tr>\n      <th>max</th>\n      <td>123.000000</td>\n      <td>0.010819</td>\n      <td>0.009297</td>\n      <td>0.011882</td>\n    </tr>\n  </tbody>\n</table>\n</div>"
     },
     "execution_count": 76,
     "metadata": {},
     "output_type": "execute_result"
    }
   ],
   "source": [
    "patient_data.describe()"
   ],
   "metadata": {
    "collapsed": false,
    "ExecuteTime": {
     "end_time": "2023-10-01T07:51:16.269129Z",
     "start_time": "2023-10-01T07:51:16.194462Z"
    }
   },
   "id": "a040837b3525df82"
  },
  {
   "cell_type": "code",
   "execution_count": 77,
   "outputs": [
    {
     "data": {
      "text/plain": "            attack          TP1          TP2\ncount  2196.000000  2196.000000  2196.000000\nmean     61.655738     0.000409     0.000400\nstd      35.454123     0.000911     0.000975\nmin       1.000000    -0.003112    -0.005171\n25%      31.000000    -0.000049    -0.000051\n50%      61.500000     0.000229     0.000203\n75%      92.000000     0.000732     0.000701\nmax     123.000000     0.006317     0.008879",
      "text/html": "<div>\n<style scoped>\n    .dataframe tbody tr th:only-of-type {\n        vertical-align: middle;\n    }\n\n    .dataframe tbody tr th {\n        vertical-align: top;\n    }\n\n    .dataframe thead th {\n        text-align: right;\n    }\n</style>\n<table border=\"1\" class=\"dataframe\">\n  <thead>\n    <tr style=\"text-align: right;\">\n      <th></th>\n      <th>attack</th>\n      <th>TP1</th>\n      <th>TP2</th>\n    </tr>\n  </thead>\n  <tbody>\n    <tr>\n      <th>count</th>\n      <td>2196.000000</td>\n      <td>2196.000000</td>\n      <td>2196.000000</td>\n    </tr>\n    <tr>\n      <th>mean</th>\n      <td>61.655738</td>\n      <td>0.000409</td>\n      <td>0.000400</td>\n    </tr>\n    <tr>\n      <th>std</th>\n      <td>35.454123</td>\n      <td>0.000911</td>\n      <td>0.000975</td>\n    </tr>\n    <tr>\n      <th>min</th>\n      <td>1.000000</td>\n      <td>-0.003112</td>\n      <td>-0.005171</td>\n    </tr>\n    <tr>\n      <th>25%</th>\n      <td>31.000000</td>\n      <td>-0.000049</td>\n      <td>-0.000051</td>\n    </tr>\n    <tr>\n      <th>50%</th>\n      <td>61.500000</td>\n      <td>0.000229</td>\n      <td>0.000203</td>\n    </tr>\n    <tr>\n      <th>75%</th>\n      <td>92.000000</td>\n      <td>0.000732</td>\n      <td>0.000701</td>\n    </tr>\n    <tr>\n      <th>max</th>\n      <td>123.000000</td>\n      <td>0.006317</td>\n      <td>0.008879</td>\n    </tr>\n  </tbody>\n</table>\n</div>"
     },
     "execution_count": 77,
     "metadata": {},
     "output_type": "execute_result"
    }
   ],
   "source": [
    "control_data.describe()"
   ],
   "metadata": {
    "collapsed": false,
    "ExecuteTime": {
     "end_time": "2023-10-01T07:51:16.361827Z",
     "start_time": "2023-10-01T07:51:16.224019Z"
    }
   },
   "id": "c07ee4a254206c3d"
  },
  {
   "cell_type": "markdown",
   "source": [
    "# Normalise data by overall control median"
   ],
   "metadata": {
    "collapsed": false
   },
   "id": "5d5e1dc5991c2a49"
  },
  {
   "cell_type": "code",
   "execution_count": 78,
   "outputs": [],
   "source": [
    "control_data_median_TP1 = control_data['TP1'].median()"
   ],
   "metadata": {
    "collapsed": false,
    "ExecuteTime": {
     "end_time": "2023-10-01T07:51:16.362216Z",
     "start_time": "2023-10-01T07:51:16.250800Z"
    }
   },
   "id": "cfc0bf160f22e560"
  },
  {
   "cell_type": "code",
   "execution_count": 79,
   "outputs": [],
   "source": [
    "# normalize all patient timepoints by: 1 - (patient delta /  control median)\n",
    "patient_data['nTP1'] = 1 - (patient_data['TP1'] / control_data_median_TP1)\n",
    "patient_data['nTP2'] = 1 - (patient_data['TP2'] / control_data_median_TP1)\n",
    "patient_data['nTP3'] = 1 - (patient_data['TP3'] / control_data_median_TP1)"
   ],
   "metadata": {
    "collapsed": false,
    "ExecuteTime": {
     "end_time": "2023-10-01T07:51:16.410057Z",
     "start_time": "2023-10-01T07:51:16.259287Z"
    }
   },
   "id": "5a111d21670dfb60"
  },
  {
   "cell_type": "code",
   "execution_count": 80,
   "outputs": [],
   "source": [
    "# normalize control data by: 1 - (control delta /  control median)\n",
    "control_data['c_nTP1'] = 1 - (control_data['TP1'] / control_data_median_TP1)\n",
    "control_data['c_nTP2'] = 1 - (control_data['TP2'] / control_data_median_TP1)"
   ],
   "metadata": {
    "collapsed": false,
    "ExecuteTime": {
     "end_time": "2023-10-01T07:51:16.411163Z",
     "start_time": "2023-10-01T07:51:16.269301Z"
    }
   },
   "id": "5bfca8dae1b50248"
  },
  {
   "cell_type": "code",
   "execution_count": 82,
   "outputs": [
    {
     "data": {
      "text/plain": "            attack          TP1          TP2          TP3         nTP1  \\\ncount  8985.000000  8985.000000  8985.000000  7205.000000  8985.000000   \nmean     61.675793     0.000354     0.000354     0.000399    -0.547487   \nstd      35.434236     0.001056     0.001013     0.001062     4.615980   \nmin       1.000000    -0.015321    -0.020265    -0.010070   -46.280430   \n25%      31.000000    -0.000112    -0.000100    -0.000077    -2.094449   \n50%      62.000000     0.000185     0.000192     0.000208     0.193301   \n75%      92.000000     0.000708     0.000683     0.000734     1.490050   \nmax     123.000000     0.010819     0.009297     0.011882    67.954039   \n\n              nTP2         nTP3  \ncount  8985.000000  7205.000000  \nmean     -0.545148    -0.745195  \nstd       4.428427     4.639363  \nmin     -39.627295   -50.926415  \n25%      -1.986064    -2.208825  \n50%       0.162812     0.090698  \n75%       1.438045     1.335391  \nmax      89.558412    45.007476  ",
      "text/html": "<div>\n<style scoped>\n    .dataframe tbody tr th:only-of-type {\n        vertical-align: middle;\n    }\n\n    .dataframe tbody tr th {\n        vertical-align: top;\n    }\n\n    .dataframe thead th {\n        text-align: right;\n    }\n</style>\n<table border=\"1\" class=\"dataframe\">\n  <thead>\n    <tr style=\"text-align: right;\">\n      <th></th>\n      <th>attack</th>\n      <th>TP1</th>\n      <th>TP2</th>\n      <th>TP3</th>\n      <th>nTP1</th>\n      <th>nTP2</th>\n      <th>nTP3</th>\n    </tr>\n  </thead>\n  <tbody>\n    <tr>\n      <th>count</th>\n      <td>8985.000000</td>\n      <td>8985.000000</td>\n      <td>8985.000000</td>\n      <td>7205.000000</td>\n      <td>8985.000000</td>\n      <td>8985.000000</td>\n      <td>7205.000000</td>\n    </tr>\n    <tr>\n      <th>mean</th>\n      <td>61.675793</td>\n      <td>0.000354</td>\n      <td>0.000354</td>\n      <td>0.000399</td>\n      <td>-0.547487</td>\n      <td>-0.545148</td>\n      <td>-0.745195</td>\n    </tr>\n    <tr>\n      <th>std</th>\n      <td>35.434236</td>\n      <td>0.001056</td>\n      <td>0.001013</td>\n      <td>0.001062</td>\n      <td>4.615980</td>\n      <td>4.428427</td>\n      <td>4.639363</td>\n    </tr>\n    <tr>\n      <th>min</th>\n      <td>1.000000</td>\n      <td>-0.015321</td>\n      <td>-0.020265</td>\n      <td>-0.010070</td>\n      <td>-46.280430</td>\n      <td>-39.627295</td>\n      <td>-50.926415</td>\n    </tr>\n    <tr>\n      <th>25%</th>\n      <td>31.000000</td>\n      <td>-0.000112</td>\n      <td>-0.000100</td>\n      <td>-0.000077</td>\n      <td>-2.094449</td>\n      <td>-1.986064</td>\n      <td>-2.208825</td>\n    </tr>\n    <tr>\n      <th>50%</th>\n      <td>62.000000</td>\n      <td>0.000185</td>\n      <td>0.000192</td>\n      <td>0.000208</td>\n      <td>0.193301</td>\n      <td>0.162812</td>\n      <td>0.090698</td>\n    </tr>\n    <tr>\n      <th>75%</th>\n      <td>92.000000</td>\n      <td>0.000708</td>\n      <td>0.000683</td>\n      <td>0.000734</td>\n      <td>1.490050</td>\n      <td>1.438045</td>\n      <td>1.335391</td>\n    </tr>\n    <tr>\n      <th>max</th>\n      <td>123.000000</td>\n      <td>0.010819</td>\n      <td>0.009297</td>\n      <td>0.011882</td>\n      <td>67.954039</td>\n      <td>89.558412</td>\n      <td>45.007476</td>\n    </tr>\n  </tbody>\n</table>\n</div>"
     },
     "execution_count": 82,
     "metadata": {},
     "output_type": "execute_result"
    }
   ],
   "source": [
    "patient_data.describe()"
   ],
   "metadata": {
    "collapsed": false,
    "ExecuteTime": {
     "end_time": "2023-10-01T07:51:16.413015Z",
     "start_time": "2023-10-01T07:51:16.296410Z"
    }
   },
   "id": "b3540840808229f5"
  },
  {
   "cell_type": "code",
   "execution_count": 90,
   "outputs": [
    {
     "data": {
      "text/plain": "Text(0.5, 1.0, 'Normalised delta eGlob AUC (1 - (delta / control median))')"
     },
     "execution_count": 90,
     "metadata": {},
     "output_type": "execute_result"
    },
    {
     "data": {
      "text/plain": "<Figure size 432x288 with 1 Axes>",
      "image/png": "[encoded data removed]"
     },
     "metadata": {},
     "output_type": "display_data"
    }
   ],
   "source": [
    "# plot normalised patient and control data\n",
    "\n",
    "temp = pd.melt(patient_data[['nTP1', 'nTP2', 'nTP3']], var_name='timepoint', value_name='delta')\n",
    "temp['group'] = 'patient'\n",
    "temp2 = pd.melt(control_data[['c_nTP1', 'c_nTP2']], var_name='timepoint', value_name='delta')\n",
    "temp2['timepoint'] = 'control'\n",
    "temp2 = temp2\n",
    "temp2['group'] = 'control'\n",
    "temp = temp.append(temp2)\n",
    "\n",
    "ax = sns.boxplot(x='timepoint', y='delta', hue='group', data=temp, showfliers=False, palette='Set2')\n",
    "\n",
    "ax.set_ylim([-7.5, 7.5])\n",
    "\n",
    "ax.set_title('Normalised delta eGlob AUC (1 - (delta / control median))')\n"
   ],
   "metadata": {
    "collapsed": false,
    "ExecuteTime": {
     "end_time": "2023-10-01T18:42:25.624455Z",
     "start_time": "2023-10-01T18:42:24.958322Z"
    }
   },
   "id": "331ce15a9021fbf1"
  },
  {
   "cell_type": "markdown",
   "source": [
    "# Normalise data by overall control mean "
   ],
   "metadata": {
    "collapsed": false
   },
   "id": "b3415fa3e0a6aa9a"
  },
  {
   "cell_type": "code",
   "execution_count": 91,
   "outputs": [],
   "source": [
    "control_data_mean_TP1 = control_data['TP1'].mean()"
   ],
   "metadata": {
    "collapsed": false,
    "ExecuteTime": {
     "end_time": "2023-10-01T18:43:35.695621Z",
     "start_time": "2023-10-01T18:43:35.679789Z"
    }
   },
   "id": "a6ab499060fcba57"
  },
  {
   "cell_type": "code",
   "execution_count": 92,
   "outputs": [],
   "source": [
    "# normalize all patient timepoints by: 1 - (patient delta /  control mean)\n",
    "patient_data['nTP1'] = 1 - (patient_data['TP1'] / control_data_mean_TP1)\n",
    "patient_data['nTP2'] = 1 - (patient_data['TP2'] / control_data_mean_TP1)\n",
    "patient_data['nTP3'] = 1 - (patient_data['TP3'] / control_data_mean_TP1)"
   ],
   "metadata": {
    "collapsed": false,
    "ExecuteTime": {
     "end_time": "2023-10-01T18:43:48.873097Z",
     "start_time": "2023-10-01T18:43:48.861747Z"
    }
   },
   "id": "9548f2280209af71"
  },
  {
   "cell_type": "code",
   "execution_count": 93,
   "outputs": [],
   "source": [
    "control_data['c_nTP1'] = 1 - (control_data['TP1'] / control_data_mean_TP1)"
   ],
   "metadata": {
    "collapsed": false,
    "ExecuteTime": {
     "end_time": "2023-10-01T18:44:02.918912Z",
     "start_time": "2023-10-01T18:44:02.906033Z"
    }
   },
   "id": "26ae5ac5f3ca6c31"
  },
  {
   "cell_type": "code",
   "execution_count": 94,
   "outputs": [
    {
     "data": {
      "text/plain": "Text(0.5, 1.0, 'Normalised delta eGlob AUC (1 - (delta / control mean))')"
     },
     "execution_count": 94,
     "metadata": {},
     "output_type": "execute_result"
    },
    {
     "data": {
      "text/plain": "<Figure size 432x288 with 1 Axes>",
      "image/png": "[encoded data removed]"
     },
     "metadata": {},
     "output_type": "display_data"
    }
   ],
   "source": [
    "# plot normalised patient and control data\n",
    "\n",
    "temp = pd.melt(patient_data[['nTP1', 'nTP2', 'nTP3']], var_name='timepoint', value_name='delta')\n",
    "temp['group'] = 'patient'\n",
    "temp2 = pd.melt(control_data[['c_nTP1']], var_name='timepoint', value_name='delta')\n",
    "temp2['timepoint'] = 'control'\n",
    "temp2 = temp2\n",
    "temp2['group'] = 'control'\n",
    "temp = temp.append(temp2)\n",
    "\n",
    "ax = sns.boxplot(x='timepoint', y='delta', hue='group', data=temp, showfliers=False, palette='Set2')\n",
    "\n",
    "ax.set_ylim([-7.5, 7.5])\n",
    "\n",
    "ax.set_title('Normalised delta eGlob AUC (1 - (delta / control mean))')"
   ],
   "metadata": {
    "collapsed": false,
    "ExecuteTime": {
     "end_time": "2023-10-01T18:44:44.077158Z",
     "start_time": "2023-10-01T18:44:43.759139Z"
    }
   },
   "id": "f73b1daba512968f"
  },
  {
   "cell_type": "markdown",
   "source": [
    "# Normalise data by attack-specific control median"
   ],
   "metadata": {
    "collapsed": false
   },
   "id": "5e8619362b314ce7"
  },
  {
   "cell_type": "code",
   "execution_count": 95,
   "outputs": [],
   "source": [
    "# for every patient, find the median of the control data for the same attack and normalise so as normalised = 1 - (patient delta /  control median)\n",
    "\n",
    "patient_data['anTP1'] = patient_data.apply(lambda row: 1 - (row['TP1'] / np.median(control_data[control_data['attack'] == row['attack']]['TP1'].values)), axis=1)\n",
    "patient_data['anTP2'] = patient_data.apply(lambda row: 1 - (row['TP2'] / np.median(control_data[control_data['attack'] == row['attack']]['TP1'].values)), axis=1)\n",
    "patient_data['anTP3'] = patient_data.apply(lambda row: 1 - (row['TP3'] / np.median(control_data[control_data['attack'] == row['attack']]['TP1'].values)), axis=1)"
   ],
   "metadata": {
    "collapsed": false,
    "ExecuteTime": {
     "end_time": "2023-10-01T18:45:32.057141Z",
     "start_time": "2023-10-01T18:45:10.352799Z"
    }
   },
   "id": "5d3f2929d30cc9c5"
  },
  {
   "cell_type": "code",
   "execution_count": 96,
   "outputs": [],
   "source": [
    "control_data['anTP1'] = control_data.apply(lambda row: 1 - (row['TP1'] / np.median(control_data[control_data['attack'] == row['attack']]['TP1'].values)), axis=1)"
   ],
   "metadata": {
    "collapsed": false,
    "ExecuteTime": {
     "end_time": "2023-10-01T18:45:33.846855Z",
     "start_time": "2023-10-01T18:45:32.068976Z"
    }
   },
   "id": "5904a2c5580d5f46"
  },
  {
   "cell_type": "code",
   "execution_count": 98,
   "outputs": [
    {
     "data": {
      "text/plain": "Text(0.5, 1.0, 'Normalised delta eGlob AUC (1 - (delta / attack-specific control median))')"
     },
     "execution_count": 98,
     "metadata": {},
     "output_type": "execute_result"
    },
    {
     "data": {
      "text/plain": "<Figure size 432x288 with 1 Axes>",
      "image/png": "[encoded data removed]"
     },
     "metadata": {},
     "output_type": "display_data"
    }
   ],
   "source": [
    "# plot attack-specific normalised patient and control data\n",
    "\n",
    "temp = pd.melt(patient_data[['anTP1', 'anTP2', 'anTP3']], var_name='timepoint', value_name='delta')\n",
    "temp['group'] = 'patient'\n",
    "temp2 = pd.melt(control_data[['anTP1']], var_name='timepoint', value_name='delta')\n",
    "temp2['timepoint'] = 'control'\n",
    "temp2 = temp2\n",
    "temp2['group'] = 'control'\n",
    "temp = temp.append(temp2)\n",
    "\n",
    "ax = sns.boxplot(x='timepoint', y='delta', hue='group', data=temp, showfliers=False, palette='Set2')\n",
    "\n",
    "# position legend outside (top right)\n",
    "ax.legend(bbox_to_anchor=(1.05, 1), loc=2, borderaxespad=0.)\n",
    "\n",
    "ax.set_title('Normalised delta eGlob AUC (1 - (delta / attack-specific control median))')\n"
   ],
   "metadata": {
    "collapsed": false,
    "ExecuteTime": {
     "end_time": "2023-10-01T18:45:37.226331Z",
     "start_time": "2023-10-01T18:45:36.950533Z"
    }
   },
   "id": "2a00bf9858b8329f"
  },
  {
   "cell_type": "markdown",
   "source": [
    "# Normalise data by attack-specific control mean"
   ],
   "metadata": {
    "collapsed": false
   },
   "id": "67d2eb911aed9c8b"
  },
  {
   "cell_type": "code",
   "execution_count": 99,
   "outputs": [],
   "source": [
    "# for every patient, find the mean of the control data for the same attack and normalise so as normalised = 1 - (patient delta /  control mean)\n",
    "\n",
    "patient_data['anTP1'] = patient_data.apply(lambda row: 1 - (row['TP1'] / np.mean(control_data[control_data['attack'] == row['attack']]['TP1'].values)), axis=1)\n",
    "patient_data['anTP2'] = patient_data.apply(lambda row: 1 - (row['TP2'] / np.mean(control_data[control_data['attack'] == row['attack']]['TP1'].values)), axis=1)\n",
    "patient_data['anTP3'] = patient_data.apply(lambda row: 1 - (row['TP3'] / np.mean(control_data[control_data['attack'] == row['attack']]['TP1'].values)), axis=1)\n",
    "\n",
    "control_data['anTP1'] = control_data.apply(lambda row: 1 - (row['TP1'] / np.mean(control_data[control_data['attack'] == row['attack']]['TP1'].values)), axis=1)"
   ],
   "metadata": {
    "collapsed": false,
    "ExecuteTime": {
     "end_time": "2023-10-01T18:47:11.118563Z",
     "start_time": "2023-10-01T18:46:50.387674Z"
    }
   },
   "id": "a69f1e87567f7407"
  },
  {
   "cell_type": "code",
   "execution_count": 100,
   "outputs": [
    {
     "data": {
      "text/plain": "Text(0.5, 1.0, 'Normalised delta eGlob AUC (1 - (delta / attack-specific control mean))')"
     },
     "execution_count": 100,
     "metadata": {},
     "output_type": "execute_result"
    },
    {
     "data": {
      "text/plain": "<Figure size 432x288 with 1 Axes>",
      "image/png": "[encoded data removed]"
     },
     "metadata": {},
     "output_type": "display_data"
    }
   ],
   "source": [
    "# plot attack-specific normalised patient and control data\n",
    "\n",
    "temp = pd.melt(patient_data[['anTP1', 'anTP2', 'anTP3']], var_name='timepoint', value_name='delta')\n",
    "temp['group'] = 'patient'\n",
    "temp2 = pd.melt(control_data[['anTP1']], var_name='timepoint', value_name='delta')\n",
    "temp2['timepoint'] = 'control'\n",
    "temp2 = temp2\n",
    "temp2['group'] = 'control'\n",
    "temp = temp.append(temp2)\n",
    "\n",
    "ax = sns.boxplot(x='timepoint', y='delta', hue='group', data=temp, showfliers=False, palette='Set2')\n",
    "\n",
    "# position legend outside (top right)\n",
    "ax.legend(bbox_to_anchor=(1.05, 1), loc=2, borderaxespad=0.)\n",
    "\n",
    "ax.set_title('Normalised delta eGlob AUC (1 - (delta / attack-specific control mean))')"
   ],
   "metadata": {
    "collapsed": false,
    "ExecuteTime": {
     "end_time": "2023-10-01T18:48:22.890064Z",
     "start_time": "2023-10-01T18:48:22.605500Z"
    }
   },
   "id": "c6af6173bb89fcf9"
  },
  {
   "cell_type": "markdown",
   "source": [
    "# Normalise data by attack-specific control median but preserve signs\n",
    "\n",
    "-1 * (deltaP - mean(deltaC)) / std(deltaC)"
   ],
   "metadata": {
    "collapsed": false
   },
   "id": "17264aeafaf9bafc"
  },
  {
   "cell_type": "code",
   "execution_count": 103,
   "outputs": [],
   "source": [
    "control_means_by_attack = control_data.groupby('attack')['TP1'].mean()\n",
    "control_means_by_attack.name = 'control_mean'\n",
    "\n",
    "control_sd_by_attack = control_data.groupby('attack')['TP1'].std()\n",
    "control_sd_by_attack.name = 'control_sd'\n",
    "\n",
    "patient_data = patient_data.join(control_means_by_attack, on='attack')\n",
    "patient_data = patient_data.join(control_sd_by_attack, on='attack')\n",
    "\n",
    "patient_data['delta_to_control_mean'] = patient_data['TP1'] - patient_data['control_mean']"
   ],
   "metadata": {
    "collapsed": false,
    "ExecuteTime": {
     "end_time": "2023-10-01T18:48:49.845976Z",
     "start_time": "2023-10-01T18:48:49.825435Z"
    }
   },
   "id": "c024c35b9c67670c"
  },
  {
   "cell_type": "code",
   "execution_count": 104,
   "outputs": [],
   "source": [
    "patient_data['ansTP1'] = patient_data.apply(lambda row: -1 * (row['TP1'] - row['control_mean']) / row['control_sd'], axis=1)\n",
    "patient_data['ansTP2'] = patient_data.apply(lambda row: -1 * (row['TP2'] - row['control_mean']) / row['control_sd'], axis=1)\n",
    "patient_data['ansTP3'] = patient_data.apply(lambda row: -1 * (row['TP3'] - row['control_mean']) / row['control_sd'], axis=1)\n",
    "\n",
    "control_data['ansTP1'] = control_data.apply(lambda row: -1 * (row['TP1'] - np.mean(control_data[control_data['attack'] == row['attack']]['TP1'].values)) / np.std(control_data[control_data['attack'] == row['attack']]['TP1'].values), axis=1)"
   ],
   "metadata": {
    "collapsed": false,
    "ExecuteTime": {
     "end_time": "2023-10-01T18:48:57.660699Z",
     "start_time": "2023-10-01T18:48:53.718461Z"
    }
   },
   "id": "c4bf189392daf055"
  },
  {
   "cell_type": "code",
   "execution_count": 105,
   "outputs": [
    {
     "data": {
      "text/plain": "            ansTP1       ansTP2       ansTP3\ncount  8985.000000  8985.000000  7205.000000\nmean      0.124473     0.106065     0.041187\nstd       1.326200     1.292535     1.316732\nmin      -8.363473   -12.357285    -6.885617\n25%      -0.677853    -0.649513    -0.717453\n50%       0.040294     0.051855     0.006012\n75%       0.813672     0.813241     0.743849\nmax       9.524194    10.974757     9.244756",
      "text/html": "<div>\n<style scoped>\n    .dataframe tbody tr th:only-of-type {\n        vertical-align: middle;\n    }\n\n    .dataframe tbody tr th {\n        vertical-align: top;\n    }\n\n    .dataframe thead th {\n        text-align: right;\n    }\n</style>\n<table border=\"1\" class=\"dataframe\">\n  <thead>\n    <tr style=\"text-align: right;\">\n      <th></th>\n      <th>ansTP1</th>\n      <th>ansTP2</th>\n      <th>ansTP3</th>\n    </tr>\n  </thead>\n  <tbody>\n    <tr>\n      <th>count</th>\n      <td>8985.000000</td>\n      <td>8985.000000</td>\n      <td>7205.000000</td>\n    </tr>\n    <tr>\n      <th>mean</th>\n      <td>0.124473</td>\n      <td>0.106065</td>\n      <td>0.041187</td>\n    </tr>\n    <tr>\n      <th>std</th>\n      <td>1.326200</td>\n      <td>1.292535</td>\n      <td>1.316732</td>\n    </tr>\n    <tr>\n      <th>min</th>\n      <td>-8.363473</td>\n      <td>-12.357285</td>\n      <td>-6.885617</td>\n    </tr>\n    <tr>\n      <th>25%</th>\n      <td>-0.677853</td>\n      <td>-0.649513</td>\n      <td>-0.717453</td>\n    </tr>\n    <tr>\n      <th>50%</th>\n      <td>0.040294</td>\n      <td>0.051855</td>\n      <td>0.006012</td>\n    </tr>\n    <tr>\n      <th>75%</th>\n      <td>0.813672</td>\n      <td>0.813241</td>\n      <td>0.743849</td>\n    </tr>\n    <tr>\n      <th>max</th>\n      <td>9.524194</td>\n      <td>10.974757</td>\n      <td>9.244756</td>\n    </tr>\n  </tbody>\n</table>\n</div>"
     },
     "execution_count": 105,
     "metadata": {},
     "output_type": "execute_result"
    }
   ],
   "source": [
    "patient_data[['ansTP1', 'ansTP2', 'ansTP3']].describe()"
   ],
   "metadata": {
    "collapsed": false,
    "ExecuteTime": {
     "end_time": "2023-10-01T18:48:57.693960Z",
     "start_time": "2023-10-01T18:48:57.662822Z"
    }
   },
   "id": "d0cd6fc2d367e1bd"
  },
  {
   "cell_type": "code",
   "execution_count": 106,
   "outputs": [
    {
     "data": {
      "text/plain": "             ansTP1\ncount  2.196000e+03\nmean   1.294249e-17\nstd    1.000228e+00\nmin   -3.062298e+00\n25%   -6.861370e-01\n50%   -3.933893e-02\n75%    6.472317e-01\nmax    3.118828e+00",
      "text/html": "<div>\n<style scoped>\n    .dataframe tbody tr th:only-of-type {\n        vertical-align: middle;\n    }\n\n    .dataframe tbody tr th {\n        vertical-align: top;\n    }\n\n    .dataframe thead th {\n        text-align: right;\n    }\n</style>\n<table border=\"1\" class=\"dataframe\">\n  <thead>\n    <tr style=\"text-align: right;\">\n      <th></th>\n      <th>ansTP1</th>\n    </tr>\n  </thead>\n  <tbody>\n    <tr>\n      <th>count</th>\n      <td>2.196000e+03</td>\n    </tr>\n    <tr>\n      <th>mean</th>\n      <td>1.294249e-17</td>\n    </tr>\n    <tr>\n      <th>std</th>\n      <td>1.000228e+00</td>\n    </tr>\n    <tr>\n      <th>min</th>\n      <td>-3.062298e+00</td>\n    </tr>\n    <tr>\n      <th>25%</th>\n      <td>-6.861370e-01</td>\n    </tr>\n    <tr>\n      <th>50%</th>\n      <td>-3.933893e-02</td>\n    </tr>\n    <tr>\n      <th>75%</th>\n      <td>6.472317e-01</td>\n    </tr>\n    <tr>\n      <th>max</th>\n      <td>3.118828e+00</td>\n    </tr>\n  </tbody>\n</table>\n</div>"
     },
     "execution_count": 106,
     "metadata": {},
     "output_type": "execute_result"
    }
   ],
   "source": [
    "control_data[['ansTP1']].describe()"
   ],
   "metadata": {
    "collapsed": false,
    "ExecuteTime": {
     "end_time": "2023-10-01T18:48:57.712941Z",
     "start_time": "2023-10-01T18:48:57.693840Z"
    }
   },
   "id": "39514ebf3d75f14"
  },
  {
   "cell_type": "code",
   "execution_count": 108,
   "outputs": [
    {
     "data": {
      "text/plain": "Text(0.5, 1.0, 'Signed normalised delta eGlob AUC (-1 * (delta - attack-specific control mean) / attack-specific control std)')"
     },
     "execution_count": 108,
     "metadata": {},
     "output_type": "execute_result"
    },
    {
     "data": {
      "text/plain": "<Figure size 432x288 with 1 Axes>",
      "image/png": "[encoded data removed]"
     },
     "metadata": {},
     "output_type": "display_data"
    }
   ],
   "source": [
    "# plot attack-specific signed normalised patient and control data\n",
    "\n",
    "temp = pd.melt(patient_data[['ansTP1', 'ansTP2', 'ansTP3']], var_name='timepoint', value_name='delta')\n",
    "temp['group'] = 'patient'\n",
    "temp2 = pd.melt(control_data[['ansTP1']], var_name='timepoint', value_name='delta')\n",
    "temp2['timepoint'] = 'control'\n",
    "temp2 = temp2\n",
    "temp2['group'] = 'control'\n",
    "temp = temp.append(temp2)\n",
    "\n",
    "ax = sns.boxplot(x='timepoint', y='delta', hue='group', data=temp, showfliers=False, palette='Set2')\n",
    "\n",
    "# position legend outside (top right)\n",
    "ax.legend(bbox_to_anchor=(1.05, 1), loc=2, borderaxespad=0.)\n",
    "\n",
    "ax.set_yscale('symlog')\n",
    "\n",
    "ax.set_title('Signed normalised delta eGlob AUC (-1 * (delta - attack-specific control mean) / attack-specific control std)')"
   ],
   "metadata": {
    "collapsed": false,
    "ExecuteTime": {
     "end_time": "2023-10-01T18:49:37.962302Z",
     "start_time": "2023-10-01T18:49:37.588015Z"
    }
   },
   "id": "257ec54b9888e53d"
  },
  {
   "cell_type": "markdown",
   "source": [],
   "metadata": {
    "collapsed": false
   },
   "id": "5a22bf3af7e57013"
  }
 ],
 "metadata": {
  "kernelspec": {
   "display_name": "Python 3",
   "language": "python",
   "name": "python3"
  },
  "language_info": {
   "codemirror_mode": {
    "name": "ipython",
    "version": 2
   },
   "file_extension": ".py",
   "mimetype": "text/x-python",
   "name": "python",
   "nbconvert_exporter": "python",
   "pygments_lexer": "ipython2",
   "version": "2.7.6"
  }
 },
 "nbformat": 4,
 "nbformat_minor": 5
}
