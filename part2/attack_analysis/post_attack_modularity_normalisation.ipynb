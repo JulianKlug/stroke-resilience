{
 "cells": [
  {
   "cell_type": "code",
   "execution_count": 1,
   "id": "initial_id",
   "metadata": {
    "collapsed": true,
    "ExecuteTime": {
     "end_time": "2023-10-04T17:05:41.396697Z",
     "start_time": "2023-10-04T17:05:41.390966Z"
    }
   },
   "outputs": [],
   "source": [
    "import pandas as pd\n",
    "import numpy as np\n",
    "import seaborn as sns"
   ]
  },
  {
   "cell_type": "code",
   "execution_count": 2,
   "outputs": [],
   "source": [
    "data_path = '/Users/jk1/temp/resilience_part2/atttacks/attacks_modularity.xlsx'"
   ],
   "metadata": {
    "collapsed": false,
    "ExecuteTime": {
     "end_time": "2023-10-04T17:05:50.887529Z",
     "start_time": "2023-10-04T17:05:50.849605Z"
    }
   },
   "id": "55d60da4242aa62d"
  },
  {
   "cell_type": "code",
   "execution_count": 3,
   "outputs": [],
   "source": [
    "patient_data = pd.read_excel(data_path, sheet_name='modularity_P')\n",
    "control_data = pd.read_excel(data_path, sheet_name='modularity_ctrl')"
   ],
   "metadata": {
    "collapsed": false,
    "ExecuteTime": {
     "end_time": "2023-10-04T17:10:19.340431Z",
     "start_time": "2023-10-04T17:10:13.971258Z"
    }
   },
   "id": "27e130cd7af2ba7f"
  },
  {
   "cell_type": "code",
   "execution_count": null,
   "outputs": [],
   "source": [],
   "metadata": {
    "collapsed": false
   },
   "id": "5ab78456443cf1c0"
  }
 ],
 "metadata": {
  "kernelspec": {
   "display_name": "Python 3",
   "language": "python",
   "name": "python3"
  },
  "language_info": {
   "codemirror_mode": {
    "name": "ipython",
    "version": 2
   },
   "file_extension": ".py",
   "mimetype": "text/x-python",
   "name": "python",
   "nbconvert_exporter": "python",
   "pygments_lexer": "ipython2",
   "version": "2.7.6"
  }
 },
 "nbformat": 4,
 "nbformat_minor": 5
}
