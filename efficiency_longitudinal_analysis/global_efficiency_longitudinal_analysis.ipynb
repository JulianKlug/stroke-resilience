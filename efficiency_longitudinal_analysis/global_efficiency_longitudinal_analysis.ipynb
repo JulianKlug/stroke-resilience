{
 "cells": [
  {
   "cell_type": "code",
   "execution_count": 232,
   "metadata": {
    "collapsed": true
   },
   "outputs": [],
   "source": [
    "import scipy.io\n",
    "import numpy as np\n",
    "from sklearn.metrics import auc\n",
    "import pingouin as pg\n",
    "import pandas as pd\n",
    "from scipy.stats import f_oneway\n",
    "import matplotlib.pyplot as plt\n",
    "import seaborn as sns\n",
    "import statsmodels.formula.api as smf\n",
    "from statsmodels.stats.anova import AnovaRM"
   ]
  },
  {
   "cell_type": "code",
   "execution_count": 233,
   "metadata": {
    "pycharm": {
     "name": "#%%\n"
    }
   },
   "outputs": [],
   "source": [
    "hc_data_path = '/Users/jk1/unige_onedrive/OneDrive - unige.ch/BCT/atlas_BNA/BNA_240_flipped_N32_retroicor_SBB4_prop_bin_window/HC/CharPath240_binwin_HC.mat'\n",
    "st_data_path = '/Users/jk1/unige_onedrive/OneDrive - unige.ch/BCT/atlas_BNA/BNA_240_flipped_N32_retroicor_SBB4_prop_bin_window/ST/CharPath240_binwin.mat'"
   ]
  },
  {
   "cell_type": "code",
   "execution_count": 234,
   "metadata": {
    "pycharm": {
     "name": "#%%\n"
    }
   },
   "outputs": [],
   "source": [
    "minimum_connectivity_threshold = 0.3"
   ]
  },
  {
   "cell_type": "code",
   "execution_count": 235,
   "metadata": {
    "pycharm": {
     "name": "#%%\n"
    }
   },
   "outputs": [],
   "source": [
    "hc_data_mat = scipy.io.loadmat(hc_data_path)\n",
    "st_data_mat = scipy.io.loadmat(st_data_path)"
   ]
  },
  {
   "cell_type": "code",
   "execution_count": 236,
   "metadata": {
    "pycharm": {
     "name": "#%%\n"
    }
   },
   "outputs": [],
   "source": [
    "# converting matlab mat to arrays\n",
    "# transposing to have shape (n_subj, n_thresholds)\n",
    "hc_glob_eff = np.vstack(hc_data_mat['GlobEfficiency'][0][0]).T\n",
    "st0_glob_eff = np.vstack(np.vstack(st_data_mat['GlobEfficiency'][0][0])[0][0]).T\n",
    "st1_glob_eff = np.vstack(np.vstack(st_data_mat['GlobEfficiency'][0][0])[1][0]).T\n",
    "st2_glob_eff = np.vstack(np.vstack(st_data_mat['GlobEfficiency'][0][0])[2][0]).T"
   ]
  },
  {
   "cell_type": "code",
   "execution_count": 237,
   "metadata": {
    "pycharm": {
     "name": "#%%\n"
    }
   },
   "outputs": [],
   "source": [
    "n_hc = hc_glob_eff.shape[0]\n",
    "n_st = st0_glob_eff.shape[0]"
   ]
  },
  {
   "cell_type": "code",
   "execution_count": 238,
   "metadata": {
    "pycharm": {
     "name": "#%%\n"
    }
   },
   "outputs": [],
   "source": [
    "# only analyse thresholds above minimum_connectivity_threshold\n",
    "minimum_connectivity_threshold_index = int(minimum_connectivity_threshold*10 - 1)\n",
    "connectivity_thresholds = np.arange(minimum_connectivity_threshold, 1.1, 0.1)"
   ]
  },
  {
   "cell_type": "code",
   "execution_count": 239,
   "metadata": {
    "pycharm": {
     "name": "#%%\n"
    }
   },
   "outputs": [],
   "source": [
    "def glob_eff_auc_per_subject(subjects_glob_eff, connectivity_thresholds, minimum_connectivity_threshold_index):\n",
    "    # compute global efficiency AUC over connectivity_thresholds for each subject\n",
    "    subjects_glob_eff_auc = []\n",
    "    for subj_idx in range(subjects_glob_eff.shape[0]):\n",
    "        subjects_glob_eff_auc.append(\n",
    "            auc(connectivity_thresholds,\n",
    "                subjects_glob_eff[subj_idx, minimum_connectivity_threshold_index:])\n",
    "        )\n",
    "    return subjects_glob_eff_auc"
   ]
  },
  {
   "cell_type": "code",
   "execution_count": 240,
   "metadata": {
    "pycharm": {
     "name": "#%%\n"
    }
   },
   "outputs": [],
   "source": [
    "hc_glob_eff_auc = glob_eff_auc_per_subject(hc_glob_eff, connectivity_thresholds, minimum_connectivity_threshold_index)\n",
    "st0_glob_eff_auc = glob_eff_auc_per_subject(st0_glob_eff, connectivity_thresholds, minimum_connectivity_threshold_index)\n",
    "st1_glob_eff_auc = glob_eff_auc_per_subject(st1_glob_eff, connectivity_thresholds, minimum_connectivity_threshold_index)\n",
    "st2_glob_eff_auc = glob_eff_auc_per_subject(st2_glob_eff, connectivity_thresholds, minimum_connectivity_threshold_index)"
   ]
  },
  {
   "cell_type": "code",
   "execution_count": 241,
   "metadata": {
    "pycharm": {
     "name": "#%%\n"
    }
   },
   "outputs": [
    {
     "data": {
      "text/plain": [
       "F_onewayResult(statistic=3.352817897101408, pvalue=0.025063498946007)"
      ]
     },
     "execution_count": 241,
     "metadata": {},
     "output_type": "execute_result"
    }
   ],
   "source": [
    "# Compare to healthy subjects using one-way ANOVA\n",
    "f_oneway(hc_glob_eff_auc, st0_glob_eff_auc, st1_glob_eff_auc, st2_glob_eff_auc)\n"
   ]
  },
  {
   "cell_type": "code",
   "execution_count": 242,
   "metadata": {
    "pycharm": {
     "name": "#%%\n"
    }
   },
   "outputs": [
    {
     "data": {
      "text/html": [
       "<div>\n",
       "<style scoped>\n",
       "    .dataframe tbody tr th:only-of-type {\n",
       "        vertical-align: middle;\n",
       "    }\n",
       "\n",
       "    .dataframe tbody tr th {\n",
       "        vertical-align: top;\n",
       "    }\n",
       "\n",
       "    .dataframe thead th {\n",
       "        text-align: right;\n",
       "    }\n",
       "</style>\n",
       "<table border=\"1\" class=\"dataframe\">\n",
       "  <thead>\n",
       "    <tr style=\"text-align: right;\">\n",
       "      <th></th>\n",
       "      <th>subject</th>\n",
       "      <th>glob_eff_auc</th>\n",
       "      <th>group</th>\n",
       "      <th>timepoint</th>\n",
       "    </tr>\n",
       "  </thead>\n",
       "  <tbody>\n",
       "    <tr>\n",
       "      <th>0</th>\n",
       "      <td>0</td>\n",
       "      <td>0.305002</td>\n",
       "      <td>hc</td>\n",
       "      <td>0.0</td>\n",
       "    </tr>\n",
       "    <tr>\n",
       "      <th>1</th>\n",
       "      <td>1</td>\n",
       "      <td>0.298386</td>\n",
       "      <td>hc</td>\n",
       "      <td>0.0</td>\n",
       "    </tr>\n",
       "    <tr>\n",
       "      <th>2</th>\n",
       "      <td>2</td>\n",
       "      <td>0.302245</td>\n",
       "      <td>hc</td>\n",
       "      <td>0.0</td>\n",
       "    </tr>\n",
       "    <tr>\n",
       "      <th>3</th>\n",
       "      <td>3</td>\n",
       "      <td>0.299333</td>\n",
       "      <td>hc</td>\n",
       "      <td>0.0</td>\n",
       "    </tr>\n",
       "    <tr>\n",
       "      <th>4</th>\n",
       "      <td>4</td>\n",
       "      <td>0.305663</td>\n",
       "      <td>hc</td>\n",
       "      <td>0.0</td>\n",
       "    </tr>\n",
       "  </tbody>\n",
       "</table>\n",
       "</div>"
      ],
      "text/plain": [
       "  subject  glob_eff_auc group  timepoint\n",
       "0       0      0.305002    hc        0.0\n",
       "1       1      0.298386    hc        0.0\n",
       "2       2      0.302245    hc        0.0\n",
       "3       3      0.299333    hc        0.0\n",
       "4       4      0.305663    hc        0.0"
      ]
     },
     "execution_count": 242,
     "metadata": {},
     "output_type": "execute_result"
    }
   ],
   "source": [
    "# glob_eff_auc_df = pd.DataFrame(hc_glob_eff_auc, st0_glob_eff_auc, st1_glob_eff_auc, st2_glob_eff_auc,\n",
    "#                                columns=['hc', 'st0', 'st1', 'st2'])\n",
    "all_subj_idx = np.arange(n_hc + n_st)\n",
    "hc_idx = all_subj_idx[:n_hc]\n",
    "st_idx = all_subj_idx[n_hc:]\n",
    "\n",
    "columns = ['subject', 'glob_eff_auc', 'group', 'timepoint']\n",
    "hc_glob_eff_auc_df = pd.DataFrame([hc_idx, hc_glob_eff_auc, np.repeat('hc', n_hc), np.repeat(0, n_hc)]).T\n",
    "st0_glob_eff_auc_df = pd.DataFrame([st_idx, st0_glob_eff_auc, np.repeat('st', n_st), np.repeat(0, n_st)]).T\n",
    "st1_glob_eff_auc_df = pd.DataFrame([st_idx, st1_glob_eff_auc, np.repeat('st', n_st), np.repeat(1, n_st)]).T\n",
    "st2_glob_eff_auc_df = pd.DataFrame([st_idx, st2_glob_eff_auc, np.repeat('st', n_st), np.repeat(2, n_st)]).T\n",
    "\n",
    "glob_eff_auc_df = pd.concat([hc_glob_eff_auc_df,st0_glob_eff_auc_df, st1_glob_eff_auc_df, st2_glob_eff_auc_df],\n",
    "                            ignore_index=True)\n",
    "all_st_glob_eff_auc_df = pd.concat([st0_glob_eff_auc_df, st1_glob_eff_auc_df, st2_glob_eff_auc_df],\n",
    "                            ignore_index=True)\n",
    "glob_eff_auc_df.columns = columns\n",
    "all_st_glob_eff_auc_df.columns = columns\n",
    "\n",
    "# convert auc to numeric\n",
    "glob_eff_auc_df['glob_eff_auc'] = glob_eff_auc_df['glob_eff_auc'].astype('float')\n",
    "all_st_glob_eff_auc_df['glob_eff_auc'] = all_st_glob_eff_auc_df['glob_eff_auc'].astype('float')\n",
    "\n",
    "# convert timepoint to numeric\n",
    "glob_eff_auc_df['timepoint'] = glob_eff_auc_df['timepoint'].astype('float')\n",
    "all_st_glob_eff_auc_df['timepoint'] = all_st_glob_eff_auc_df['timepoint'].astype('float')\n",
    "\n",
    "\n",
    "glob_eff_auc_df.head()"
   ]
  },
  {
   "cell_type": "code",
   "execution_count": 243,
   "metadata": {
    "pycharm": {
     "name": "#%%\n"
    }
   },
   "outputs": [
    {
     "data": {
      "image/png": "[encoded data removed]",
      "text/plain": [
       "<Figure size 432x288 with 1 Axes>"
      ]
     },
     "metadata": {
      "needs_background": "light"
     },
     "output_type": "display_data"
    }
   ],
   "source": [
    "sns.boxplot(x=\"timepoint\", y=\"glob_eff_auc\", hue=\"group\", data=glob_eff_auc_df, palette=\"Set3\")\n",
    "plt.show()"
   ]
  },
  {
   "cell_type": "code",
   "execution_count": 244,
   "metadata": {
    "pycharm": {
     "name": "#%%\n"
    }
   },
   "outputs": [
    {
     "name": "stderr",
     "output_type": "stream",
     "text": [
      "/Users/jk1/opt/anaconda3/envs/resilience_stroke/lib/python3.8/site-packages/numpy/lib/function_base.py:380: RuntimeWarning: Mean of empty slice.\n",
      "  avg = a.mean(axis)\n",
      "/Users/jk1/opt/anaconda3/envs/resilience_stroke/lib/python3.8/site-packages/numpy/core/_methods.py:162: RuntimeWarning: invalid value encountered in true_divide\n",
      "  ret = um.true_divide(\n",
      "/Users/jk1/opt/anaconda3/envs/resilience_stroke/lib/python3.8/site-packages/pandas/core/frame.py:8522: RuntimeWarning: Degrees of freedom <= 0 for slice\n",
      "  base_cov = np.cov(mat.T, ddof=ddof)\n",
      "/Users/jk1/opt/anaconda3/envs/resilience_stroke/lib/python3.8/site-packages/numpy/lib/function_base.py:2480: RuntimeWarning: divide by zero encountered in true_divide\n",
      "  c *= np.true_divide(1, fact)\n",
      "/Users/jk1/opt/anaconda3/envs/resilience_stroke/lib/python3.8/site-packages/numpy/lib/function_base.py:2480: RuntimeWarning: invalid value encountered in multiply\n",
      "  c *= np.true_divide(1, fact)\n"
     ]
    },
    {
     "data": {
      "text/html": [
       "<div>\n",
       "<style scoped>\n",
       "    .dataframe tbody tr th:only-of-type {\n",
       "        vertical-align: middle;\n",
       "    }\n",
       "\n",
       "    .dataframe tbody tr th {\n",
       "        vertical-align: top;\n",
       "    }\n",
       "\n",
       "    .dataframe thead th {\n",
       "        text-align: right;\n",
       "    }\n",
       "</style>\n",
       "<table border=\"1\" class=\"dataframe\">\n",
       "  <thead>\n",
       "    <tr style=\"text-align: right;\">\n",
       "      <th></th>\n",
       "      <th>Source</th>\n",
       "      <th>SS</th>\n",
       "      <th>DF</th>\n",
       "      <th>MS</th>\n",
       "      <th>F</th>\n",
       "      <th>p-unc</th>\n",
       "      <th>np2</th>\n",
       "      <th>eps</th>\n",
       "    </tr>\n",
       "  </thead>\n",
       "  <tbody>\n",
       "    <tr>\n",
       "      <th>0</th>\n",
       "      <td>group</td>\n",
       "      <td>0.000180</td>\n",
       "      <td>1</td>\n",
       "      <td>0.000180</td>\n",
       "      <td>-2.399828</td>\n",
       "      <td>1.0</td>\n",
       "      <td>-0.19046</td>\n",
       "      <td>1.0</td>\n",
       "    </tr>\n",
       "    <tr>\n",
       "      <th>1</th>\n",
       "      <td>Error</td>\n",
       "      <td>-0.001126</td>\n",
       "      <td>15</td>\n",
       "      <td>-0.000075</td>\n",
       "      <td>NaN</td>\n",
       "      <td>NaN</td>\n",
       "      <td>NaN</td>\n",
       "      <td>NaN</td>\n",
       "    </tr>\n",
       "  </tbody>\n",
       "</table>\n",
       "</div>"
      ],
      "text/plain": [
       "  Source        SS  DF        MS         F  p-unc      np2  eps\n",
       "0  group  0.000180   1  0.000180 -2.399828    1.0 -0.19046  1.0\n",
       "1  Error -0.001126  15 -0.000075       NaN    NaN      NaN  NaN"
      ]
     },
     "execution_count": 244,
     "metadata": {},
     "output_type": "execute_result"
    }
   ],
   "source": [
    "pg.rm_anova(data=glob_eff_auc_df, dv='glob_eff_auc', subject='subject', within=['group'], detailed=True)\n"
   ]
  },
  {
   "cell_type": "code",
   "execution_count": 245,
   "metadata": {
    "pycharm": {
     "name": "#%%\n"
    }
   },
   "outputs": [
    {
     "name": "stderr",
     "output_type": "stream",
     "text": [
      "/Users/jk1/opt/anaconda3/envs/resilience_stroke/lib/python3.8/site-packages/pingouin/distribution.py:950: RuntimeWarning: divide by zero encountered in double_scalars\n",
      "  W = np.product(eig) / (eig.sum() / d)**d\n"
     ]
    },
    {
     "data": {
      "text/html": [
       "<div>\n",
       "<style scoped>\n",
       "    .dataframe tbody tr th:only-of-type {\n",
       "        vertical-align: middle;\n",
       "    }\n",
       "\n",
       "    .dataframe tbody tr th {\n",
       "        vertical-align: top;\n",
       "    }\n",
       "\n",
       "    .dataframe thead th {\n",
       "        text-align: right;\n",
       "    }\n",
       "</style>\n",
       "<table border=\"1\" class=\"dataframe\">\n",
       "  <thead>\n",
       "    <tr style=\"text-align: right;\">\n",
       "      <th></th>\n",
       "      <th>Source</th>\n",
       "      <th>SS</th>\n",
       "      <th>DF</th>\n",
       "      <th>MS</th>\n",
       "      <th>F</th>\n",
       "      <th>p-unc</th>\n",
       "      <th>np2</th>\n",
       "      <th>eps</th>\n",
       "    </tr>\n",
       "  </thead>\n",
       "  <tbody>\n",
       "    <tr>\n",
       "      <th>0</th>\n",
       "      <td>timepoint</td>\n",
       "      <td>0.000272</td>\n",
       "      <td>2</td>\n",
       "      <td>0.000136</td>\n",
       "      <td>2.642461</td>\n",
       "      <td>0.088868</td>\n",
       "      <td>0.158778</td>\n",
       "      <td>0.854854</td>\n",
       "    </tr>\n",
       "    <tr>\n",
       "      <th>1</th>\n",
       "      <td>Error</td>\n",
       "      <td>0.001439</td>\n",
       "      <td>28</td>\n",
       "      <td>0.000051</td>\n",
       "      <td>NaN</td>\n",
       "      <td>NaN</td>\n",
       "      <td>NaN</td>\n",
       "      <td>NaN</td>\n",
       "    </tr>\n",
       "  </tbody>\n",
       "</table>\n",
       "</div>"
      ],
      "text/plain": [
       "      Source        SS  DF        MS         F     p-unc       np2       eps\n",
       "0  timepoint  0.000272   2  0.000136  2.642461  0.088868  0.158778  0.854854\n",
       "1      Error  0.001439  28  0.000051       NaN       NaN       NaN       NaN"
      ]
     },
     "execution_count": 245,
     "metadata": {},
     "output_type": "execute_result"
    }
   ],
   "source": [
    "pg.rm_anova(data=all_st_glob_eff_auc_df, dv='glob_eff_auc', subject='subject', within=['timepoint'], detailed=True)\n"
   ]
  },
  {
   "cell_type": "code",
   "execution_count": 246,
   "metadata": {
    "pycharm": {
     "name": "#%%\n"
    }
   },
   "outputs": [
    {
     "name": "stdout",
     "output_type": "stream",
     "text": [
      "\n",
      "=============\n",
      "ANOVA SUMMARY\n",
      "=============\n",
      "\n",
      "Source           SS    DF1    DF2      MS        F    p-unc     np2      eps\n",
      "-----------  ------  -----  -----  ------  -------  -------  ------  -------\n",
      "group         0.000      1     29   0.000    2.947    0.097   0.092  nan\n",
      "timepoint     0.000      2     58   0.000   34.516    0.000   0.543    0.855\n",
      "Interaction  -0.000      2     58  -0.000  -14.485    1.000  -0.998  nan\n",
      "\n"
     ]
    },
    {
     "name": "stderr",
     "output_type": "stream",
     "text": [
      "/Users/jk1/opt/anaconda3/envs/resilience_stroke/lib/python3.8/site-packages/pingouin/distribution.py:950: RuntimeWarning: divide by zero encountered in double_scalars\n",
      "  W = np.product(eig) / (eig.sum() / d)**d\n"
     ]
    }
   ],
   "source": [
    "aov = pg.mixed_anova(dv='glob_eff_auc', within='timepoint', between='group', subject='subject', data=glob_eff_auc_df)\n",
    "# Pretty printing of ANOVA summary\n",
    "pg.print_table(aov)"
   ]
  },
  {
   "cell_type": "code",
   "execution_count": 247,
   "metadata": {
    "pycharm": {
     "name": "#%%\n"
    }
   },
   "outputs": [],
   "source": [
    "# # conduct ANOVA using mixedlm\n",
    "# my_model_fit = smf.mixedlm(\"glob_eff_auc ~ timepoint\", glob_eff_auc_df, groups=glob_eff_auc_df[\"group\"]).fit()\n",
    "# # get random effects\n",
    "# my_model_fit.random_effects\n",
    "# # get fixed effects\n",
    "# my_model_fit.summary()"
   ]
  },
  {
   "cell_type": "code",
   "execution_count": 248,
   "metadata": {
    "pycharm": {
     "name": "#%%\n"
    }
   },
   "outputs": [],
   "source": [
    "glob_eff_auc_df.to_csv('glob_eff_auc_df.csv', index=False)"
   ]
  },
  {
   "cell_type": "code",
   "execution_count": 248,
   "metadata": {
    "pycharm": {
     "name": "#%%\n"
    }
   },
   "outputs": [],
   "source": []
  }
 ],
 "metadata": {
  "kernelspec": {
   "display_name": "Python 3",
   "language": "python",
   "name": "python3"
  },
  "language_info": {
   "codemirror_mode": {
    "name": "ipython",
    "version": 3
   },
   "file_extension": ".py",
   "mimetype": "text/x-python",
   "name": "python",
   "nbconvert_exporter": "python",
   "pygments_lexer": "ipython3",
   "version": "3.8.5"
  }
 },
 "nbformat": 4,
 "nbformat_minor": 1
}